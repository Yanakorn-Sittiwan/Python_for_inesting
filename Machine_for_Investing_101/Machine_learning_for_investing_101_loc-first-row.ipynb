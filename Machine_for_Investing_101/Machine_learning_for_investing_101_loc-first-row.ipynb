{
 "cells": [
  {
   "cell_type": "code",
   "execution_count": 1,
   "id": "19ec52b4",
   "metadata": {},
   "outputs": [],
   "source": [
    "import pandas as pd\n",
    "import yfinance as yf\n",
    "import numpy as np\n",
    "import matplotlib.pyplot as plt \n",
    "import seaborn as sns"
   ]
  },
  {
   "cell_type": "code",
   "execution_count": 2,
   "id": "9790c32e",
   "metadata": {},
   "outputs": [
    {
     "name": "stdout",
     "output_type": "stream",
     "text": [
      "[*********************100%***********************]  16 of 16 completed\n"
     ]
    }
   ],
   "source": [
    "data = yf.download('BBL.BK KBANK.BK SCB.BK BAY.BK TTB.BK KKP.BK TISCO.BK SAWAD.BK MTC.BK TIDLOR.BK AMANAH.BK AEONTS.BK ASK.BK CHAYO.BK JMT.BK KTC.BK',\n",
    "                  start = '2018-01-01' , end='2022-10-14',period='1d')"
   ]
  },
  {
   "cell_type": "code",
   "execution_count": 4,
   "id": "5b07eaae",
   "metadata": {},
   "outputs": [],
   "source": [
    "df = data['Adj Close'].copy()"
   ]
  },
  {
   "cell_type": "markdown",
   "id": "e01d384b",
   "metadata": {},
   "source": [
    "## Check not Nan"
   ]
  },
  {
   "cell_type": "code",
   "execution_count": 7,
   "id": "ff82b09a",
   "metadata": {},
   "outputs": [
    {
     "data": {
      "text/plain": [
       "AEONTS.BK    186.226227\n",
       "AMANAH.BK      6.150000\n",
       "ASK.BK        45.000000\n",
       "BAY.BK        34.115032\n",
       "BBL.BK       133.027374\n",
       "CHAYO.BK      12.700000\n",
       "JMT.BK        80.720932\n",
       "KBANK.BK     156.978470\n",
       "KKP.BK        67.920959\n",
       "KTC.BK        59.250000\n",
       "MTC.BK        49.602150\n",
       "SAWAD.BK      52.916512\n",
       "SCB.BK        80.318840\n",
       "TIDLOR.BK     34.324184\n",
       "TISCO.BK      93.278137\n",
       "TTB.BK         1.271492\n",
       "Name: 2022-04-20 00:00:00, dtype: float64"
      ]
     },
     "execution_count": 7,
     "metadata": {},
     "output_type": "execute_result"
    }
   ],
   "source": [
    "df.loc[~df.isnull().sum(1).astype(bool)].iloc[0]"
   ]
  },
  {
   "cell_type": "code",
   "execution_count": 18,
   "id": "e4ce5576",
   "metadata": {},
   "outputs": [
    {
     "data": {
      "text/plain": [
       "Date\n",
       "2018-01-03    3\n",
       "2018-01-04    3\n",
       "2018-01-05    3\n",
       "2018-01-08    3\n",
       "2018-01-09    3\n",
       "             ..\n",
       "2022-10-06    0\n",
       "2022-10-07    0\n",
       "2022-10-10    0\n",
       "2022-10-11    0\n",
       "2022-10-12    0\n",
       "Length: 1162, dtype: int64"
      ]
     },
     "execution_count": 18,
     "metadata": {},
     "output_type": "execute_result"
    }
   ],
   "source": [
    "df.isnull().sum(1)"
   ]
  },
  {
   "cell_type": "markdown",
   "id": "fd091006",
   "metadata": {},
   "source": [
    "## Another method"
   ]
  },
  {
   "cell_type": "code",
   "execution_count": 20,
   "id": "5c98acca",
   "metadata": {},
   "outputs": [
    {
     "data": {
      "text/plain": [
       "Date                 \n",
       "2018-01-03  AEONTS.BK     91.102776\n",
       "            AMANAH.BK      1.300324\n",
       "            ASK.BK        17.726864\n",
       "            BAY.BK        34.921169\n",
       "            BBL.BK       173.468872\n",
       "            JMT.BK        13.089821\n",
       "            KBANK.BK     207.782547\n",
       "            KKP.BK        54.755280\n",
       "            KTC.BK        16.831442\n",
       "            MTC.BK        38.350216\n",
       "            SAWAD.BK      51.122284\n",
       "            TISCO.BK      61.536510\n",
       "            TTB.BK         2.345252\n",
       "2018-03-22  CHAYO.BK       1.638680\n",
       "2021-05-10  TIDLOR.BK     42.156548\n",
       "2022-04-20  SCB.BK        80.318840\n",
       "dtype: float64"
      ]
     },
     "execution_count": 20,
     "metadata": {},
     "output_type": "execute_result"
    }
   ],
   "source": [
    "# stack จะทิ้ง nan อัตโนมัติ\n",
    "df.stack().groupby(level=1).head(1)"
   ]
  },
  {
   "cell_type": "code",
   "execution_count": null,
   "id": "ee0af9db",
   "metadata": {},
   "outputs": [],
   "source": []
  }
 ],
 "metadata": {
  "kernelspec": {
   "display_name": "Python 3 (ipykernel)",
   "language": "python",
   "name": "python3"
  },
  "language_info": {
   "codemirror_mode": {
    "name": "ipython",
    "version": 3
   },
   "file_extension": ".py",
   "mimetype": "text/x-python",
   "name": "python",
   "nbconvert_exporter": "python",
   "pygments_lexer": "ipython3",
   "version": "3.9.7"
  }
 },
 "nbformat": 4,
 "nbformat_minor": 5
}
