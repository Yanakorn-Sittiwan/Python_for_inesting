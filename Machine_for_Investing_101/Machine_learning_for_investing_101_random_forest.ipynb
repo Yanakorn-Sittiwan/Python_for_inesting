{
 "cells": [
  {
   "cell_type": "code",
   "execution_count": 1,
   "metadata": {
    "colab": {
     "base_uri": "https://localhost:8080/"
    },
    "id": "bIk8YzqC2hCO",
    "outputId": "8e0b0d02-fb53-476d-fb91-14316c17e4c5"
   },
   "outputs": [
    {
     "name": "stdout",
     "output_type": "stream",
     "text": [
      "Requirement already satisfied: yfinance in c:\\users\\yanak\\anaconda3\\lib\\site-packages (0.1.87)\n",
      "Requirement already satisfied: requests>=2.26 in c:\\users\\yanak\\anaconda3\\lib\\site-packages (from yfinance) (2.26.0)\n",
      "Requirement already satisfied: appdirs>=1.4.4 in c:\\users\\yanak\\anaconda3\\lib\\site-packages (from yfinance) (1.4.4)\n",
      "Requirement already satisfied: pandas>=0.24.0 in c:\\users\\yanak\\anaconda3\\lib\\site-packages (from yfinance) (1.4.3)\n",
      "Requirement already satisfied: lxml>=4.5.1 in c:\\users\\yanak\\anaconda3\\lib\\site-packages (from yfinance) (4.6.3)\n",
      "Requirement already satisfied: numpy>=1.15 in c:\\users\\yanak\\anaconda3\\lib\\site-packages (from yfinance) (1.20.3)\n",
      "Requirement already satisfied: multitasking>=0.0.7 in c:\\users\\yanak\\anaconda3\\lib\\site-packages (from yfinance) (0.0.11)\n",
      "Requirement already satisfied: python-dateutil>=2.8.1 in c:\\users\\yanak\\anaconda3\\lib\\site-packages (from pandas>=0.24.0->yfinance) (2.8.2)\n",
      "Requirement already satisfied: pytz>=2020.1 in c:\\users\\yanak\\anaconda3\\lib\\site-packages (from pandas>=0.24.0->yfinance) (2021.3)\n",
      "Requirement already satisfied: urllib3<1.27,>=1.21.1 in c:\\users\\yanak\\anaconda3\\lib\\site-packages (from requests>=2.26->yfinance) (1.26.7)\n",
      "Requirement already satisfied: idna<4,>=2.5 in c:\\users\\yanak\\anaconda3\\lib\\site-packages (from requests>=2.26->yfinance) (3.2)\n",
      "Requirement already satisfied: certifi>=2017.4.17 in c:\\users\\yanak\\anaconda3\\lib\\site-packages (from requests>=2.26->yfinance) (2022.9.24)\n",
      "Requirement already satisfied: charset-normalizer~=2.0.0 in c:\\users\\yanak\\anaconda3\\lib\\site-packages (from requests>=2.26->yfinance) (2.0.4)\n",
      "Requirement already satisfied: six>=1.5 in c:\\users\\yanak\\anaconda3\\lib\\site-packages (from python-dateutil>=2.8.1->pandas>=0.24.0->yfinance) (1.16.0)\n"
     ]
    }
   ],
   "source": [
    "!pip install yfinance"
   ]
  },
  {
   "cell_type": "code",
   "execution_count": 1,
   "metadata": {
    "id": "kIV8Y7VC2izS"
   },
   "outputs": [],
   "source": [
    "import pandas as pd\n",
    "import yfinance as yf"
   ]
  },
  {
   "cell_type": "code",
   "execution_count": 2,
   "metadata": {
    "id": "ncnYfXVB4CeI"
   },
   "outputs": [],
   "source": [
    "start = '2021-01-01'\n",
    "end = '2021-10-31'"
   ]
  },
  {
   "cell_type": "code",
   "execution_count": 3,
   "metadata": {
    "colab": {
     "base_uri": "https://localhost:8080/"
    },
    "id": "psOL9nF12tVE",
    "outputId": "7ad9a3f6-84a2-490b-ad4e-3e374f07e118"
   },
   "outputs": [
    {
     "name": "stdout",
     "output_type": "stream",
     "text": [
      "[*********************100%***********************]  5 of 5 completed\n"
     ]
    }
   ],
   "source": [
    "data = yf.download('CL=F PTTEP.BK OR.BK PTTGC.BK PTT.BK', start=start, end=end)"
   ]
  },
  {
   "cell_type": "code",
   "execution_count": 4,
   "metadata": {
    "id": "n3Ojs1F83bDl"
   },
   "outputs": [],
   "source": [
    "df = data.Close"
   ]
  },
  {
   "cell_type": "code",
   "execution_count": 5,
   "metadata": {
    "id": "cydVbPdK3b26"
   },
   "outputs": [],
   "source": [
    "df = df.fillna(method='ffill')\n",
    "df = df.pct_change()\n",
    "df = df.dropna()\n",
    "df = df[['CL=F','OR.BK','PTTEP.BK','PTTGC.BK','PTT.BK']]"
   ]
  },
  {
   "cell_type": "code",
   "execution_count": 6,
   "metadata": {
    "colab": {
     "base_uri": "https://localhost:8080/",
     "height": 300
    },
    "id": "M8SSZ68p3gSa",
    "outputId": "40fb8d53-3f22-495c-ee6d-1b7139ec0b50"
   },
   "outputs": [
    {
     "data": {
      "text/html": [
       "<div>\n",
       "<style scoped>\n",
       "    .dataframe tbody tr th:only-of-type {\n",
       "        vertical-align: middle;\n",
       "    }\n",
       "\n",
       "    .dataframe tbody tr th {\n",
       "        vertical-align: top;\n",
       "    }\n",
       "\n",
       "    .dataframe thead th {\n",
       "        text-align: right;\n",
       "    }\n",
       "</style>\n",
       "<table border=\"1\" class=\"dataframe\">\n",
       "  <thead>\n",
       "    <tr style=\"text-align: right;\">\n",
       "      <th></th>\n",
       "      <th>CL=F</th>\n",
       "      <th>OR.BK</th>\n",
       "      <th>PTTEP.BK</th>\n",
       "      <th>PTTGC.BK</th>\n",
       "      <th>PTT.BK</th>\n",
       "    </tr>\n",
       "    <tr>\n",
       "      <th>Date</th>\n",
       "      <th></th>\n",
       "      <th></th>\n",
       "      <th></th>\n",
       "      <th></th>\n",
       "      <th></th>\n",
       "    </tr>\n",
       "  </thead>\n",
       "  <tbody>\n",
       "    <tr>\n",
       "      <th>2021-02-15</th>\n",
       "      <td>0.0</td>\n",
       "      <td>0.162393</td>\n",
       "      <td>0.031390</td>\n",
       "      <td>0.011858</td>\n",
       "      <td>0.024845</td>\n",
       "    </tr>\n",
       "    <tr>\n",
       "      <th>2021-04-02</th>\n",
       "      <td>0.0</td>\n",
       "      <td>0.000000</td>\n",
       "      <td>0.013100</td>\n",
       "      <td>-0.007905</td>\n",
       "      <td>-0.006135</td>\n",
       "    </tr>\n",
       "    <tr>\n",
       "      <th>2021-05-31</th>\n",
       "      <td>0.0</td>\n",
       "      <td>-0.008264</td>\n",
       "      <td>0.008511</td>\n",
       "      <td>0.003968</td>\n",
       "      <td>0.006369</td>\n",
       "    </tr>\n",
       "    <tr>\n",
       "      <th>2021-07-05</th>\n",
       "      <td>0.0</td>\n",
       "      <td>-0.008333</td>\n",
       "      <td>0.008475</td>\n",
       "      <td>0.004167</td>\n",
       "      <td>0.006452</td>\n",
       "    </tr>\n",
       "    <tr>\n",
       "      <th>2021-09-06</th>\n",
       "      <td>0.0</td>\n",
       "      <td>0.000000</td>\n",
       "      <td>-0.013636</td>\n",
       "      <td>-0.024390</td>\n",
       "      <td>-0.006536</td>\n",
       "    </tr>\n",
       "    <tr>\n",
       "      <th>2021-09-16</th>\n",
       "      <td>0.0</td>\n",
       "      <td>-0.008621</td>\n",
       "      <td>0.004444</td>\n",
       "      <td>0.012500</td>\n",
       "      <td>0.019231</td>\n",
       "    </tr>\n",
       "    <tr>\n",
       "      <th>2021-10-25</th>\n",
       "      <td>0.0</td>\n",
       "      <td>0.000000</td>\n",
       "      <td>-0.023904</td>\n",
       "      <td>-0.011364</td>\n",
       "      <td>-0.012500</td>\n",
       "    </tr>\n",
       "  </tbody>\n",
       "</table>\n",
       "</div>"
      ],
      "text/plain": [
       "            CL=F     OR.BK  PTTEP.BK  PTTGC.BK    PTT.BK\n",
       "Date                                                    \n",
       "2021-02-15   0.0  0.162393  0.031390  0.011858  0.024845\n",
       "2021-04-02   0.0  0.000000  0.013100 -0.007905 -0.006135\n",
       "2021-05-31   0.0 -0.008264  0.008511  0.003968  0.006369\n",
       "2021-07-05   0.0 -0.008333  0.008475  0.004167  0.006452\n",
       "2021-09-06   0.0  0.000000 -0.013636 -0.024390 -0.006536\n",
       "2021-09-16   0.0 -0.008621  0.004444  0.012500  0.019231\n",
       "2021-10-25   0.0  0.000000 -0.023904 -0.011364 -0.012500"
      ]
     },
     "execution_count": 6,
     "metadata": {},
     "output_type": "execute_result"
    }
   ],
   "source": [
    "df[df['CL=F'] == 0]"
   ]
  },
  {
   "cell_type": "code",
   "execution_count": 7,
   "metadata": {
    "id": "SZlat91K7Jup"
   },
   "outputs": [],
   "source": [
    "df = df[~(df['CL=F'] == 0)]"
   ]
  },
  {
   "cell_type": "code",
   "execution_count": 8,
   "metadata": {
    "colab": {
     "base_uri": "https://localhost:8080/",
     "height": 455
    },
    "id": "jrsSVAABV7yf",
    "outputId": "5ed8bb0c-33d0-4f06-e7a3-eb705edaf983"
   },
   "outputs": [
    {
     "data": {
      "text/html": [
       "<div>\n",
       "<style scoped>\n",
       "    .dataframe tbody tr th:only-of-type {\n",
       "        vertical-align: middle;\n",
       "    }\n",
       "\n",
       "    .dataframe tbody tr th {\n",
       "        vertical-align: top;\n",
       "    }\n",
       "\n",
       "    .dataframe thead th {\n",
       "        text-align: right;\n",
       "    }\n",
       "</style>\n",
       "<table border=\"1\" class=\"dataframe\">\n",
       "  <thead>\n",
       "    <tr style=\"text-align: right;\">\n",
       "      <th></th>\n",
       "      <th>OR.BK</th>\n",
       "      <th>PTTEP.BK</th>\n",
       "      <th>PTTGC.BK</th>\n",
       "      <th>PTT.BK</th>\n",
       "    </tr>\n",
       "    <tr>\n",
       "      <th>Date</th>\n",
       "      <th></th>\n",
       "      <th></th>\n",
       "      <th></th>\n",
       "      <th></th>\n",
       "    </tr>\n",
       "  </thead>\n",
       "  <tbody>\n",
       "    <tr>\n",
       "      <th>2021-02-12</th>\n",
       "      <td>0.000000</td>\n",
       "      <td>0.000000</td>\n",
       "      <td>0.000000</td>\n",
       "      <td>0.000000</td>\n",
       "    </tr>\n",
       "    <tr>\n",
       "      <th>2021-02-16</th>\n",
       "      <td>-0.036765</td>\n",
       "      <td>-0.008696</td>\n",
       "      <td>0.035156</td>\n",
       "      <td>0.000000</td>\n",
       "    </tr>\n",
       "    <tr>\n",
       "      <th>2021-02-17</th>\n",
       "      <td>-0.099237</td>\n",
       "      <td>-0.008772</td>\n",
       "      <td>-0.011321</td>\n",
       "      <td>-0.012121</td>\n",
       "    </tr>\n",
       "    <tr>\n",
       "      <th>2021-02-18</th>\n",
       "      <td>0.025424</td>\n",
       "      <td>0.008850</td>\n",
       "      <td>0.000000</td>\n",
       "      <td>-0.006135</td>\n",
       "    </tr>\n",
       "    <tr>\n",
       "      <th>2021-02-19</th>\n",
       "      <td>0.041322</td>\n",
       "      <td>-0.021930</td>\n",
       "      <td>-0.030534</td>\n",
       "      <td>-0.012346</td>\n",
       "    </tr>\n",
       "    <tr>\n",
       "      <th>...</th>\n",
       "      <td>...</td>\n",
       "      <td>...</td>\n",
       "      <td>...</td>\n",
       "      <td>...</td>\n",
       "    </tr>\n",
       "    <tr>\n",
       "      <th>2021-10-22</th>\n",
       "      <td>0.000000</td>\n",
       "      <td>0.000000</td>\n",
       "      <td>0.000000</td>\n",
       "      <td>0.000000</td>\n",
       "    </tr>\n",
       "    <tr>\n",
       "      <th>2021-10-26</th>\n",
       "      <td>0.009009</td>\n",
       "      <td>0.012245</td>\n",
       "      <td>-0.003831</td>\n",
       "      <td>-0.006329</td>\n",
       "    </tr>\n",
       "    <tr>\n",
       "      <th>2021-10-27</th>\n",
       "      <td>0.000000</td>\n",
       "      <td>-0.020161</td>\n",
       "      <td>-0.019231</td>\n",
       "      <td>-0.012739</td>\n",
       "    </tr>\n",
       "    <tr>\n",
       "      <th>2021-10-28</th>\n",
       "      <td>-0.008929</td>\n",
       "      <td>-0.024691</td>\n",
       "      <td>-0.023529</td>\n",
       "      <td>-0.012903</td>\n",
       "    </tr>\n",
       "    <tr>\n",
       "      <th>2021-10-29</th>\n",
       "      <td>-0.009009</td>\n",
       "      <td>-0.008439</td>\n",
       "      <td>0.008032</td>\n",
       "      <td>-0.006536</td>\n",
       "    </tr>\n",
       "  </tbody>\n",
       "</table>\n",
       "<p>179 rows × 4 columns</p>\n",
       "</div>"
      ],
      "text/plain": [
       "               OR.BK  PTTEP.BK  PTTGC.BK    PTT.BK\n",
       "Date                                              \n",
       "2021-02-12  0.000000  0.000000  0.000000  0.000000\n",
       "2021-02-16 -0.036765 -0.008696  0.035156  0.000000\n",
       "2021-02-17 -0.099237 -0.008772 -0.011321 -0.012121\n",
       "2021-02-18  0.025424  0.008850  0.000000 -0.006135\n",
       "2021-02-19  0.041322 -0.021930 -0.030534 -0.012346\n",
       "...              ...       ...       ...       ...\n",
       "2021-10-22  0.000000  0.000000  0.000000  0.000000\n",
       "2021-10-26  0.009009  0.012245 -0.003831 -0.006329\n",
       "2021-10-27  0.000000 -0.020161 -0.019231 -0.012739\n",
       "2021-10-28 -0.008929 -0.024691 -0.023529 -0.012903\n",
       "2021-10-29 -0.009009 -0.008439  0.008032 -0.006536\n",
       "\n",
       "[179 rows x 4 columns]"
      ]
     },
     "execution_count": 8,
     "metadata": {},
     "output_type": "execute_result"
    }
   ],
   "source": [
    "df.loc[:,['OR.BK','PTTEP.BK','PTTGC.BK','PTT.BK']]"
   ]
  },
  {
   "cell_type": "code",
   "execution_count": 9,
   "metadata": {
    "colab": {
     "base_uri": "https://localhost:8080/"
    },
    "id": "6Pke3804Vugq",
    "outputId": "9e990d71-70a1-4b05-9837-7cc2628b6da6"
   },
   "outputs": [
    {
     "data": {
      "text/plain": [
       "Date\n",
       "2021-02-12     True\n",
       "2021-02-16    False\n",
       "2021-02-17    False\n",
       "2021-02-18    False\n",
       "2021-02-19    False\n",
       "              ...  \n",
       "2021-10-22     True\n",
       "2021-10-26    False\n",
       "2021-10-27    False\n",
       "2021-10-28    False\n",
       "2021-10-29    False\n",
       "Length: 179, dtype: bool"
      ]
     },
     "execution_count": 9,
     "metadata": {},
     "output_type": "execute_result"
    }
   ],
   "source": [
    "df.loc[:,['OR.BK','PTTEP.BK','PTTGC.BK','PTT.BK']].any(axis=1) == 0"
   ]
  },
  {
   "cell_type": "code",
   "execution_count": 10,
   "metadata": {
    "colab": {
     "base_uri": "https://localhost:8080/",
     "height": 455
    },
    "id": "I8SVIyOvT2lU",
    "outputId": "82eb48ff-c5a6-481a-f447-0ece953f3d5f"
   },
   "outputs": [
    {
     "data": {
      "text/html": [
       "<div>\n",
       "<style scoped>\n",
       "    .dataframe tbody tr th:only-of-type {\n",
       "        vertical-align: middle;\n",
       "    }\n",
       "\n",
       "    .dataframe tbody tr th {\n",
       "        vertical-align: top;\n",
       "    }\n",
       "\n",
       "    .dataframe thead th {\n",
       "        text-align: right;\n",
       "    }\n",
       "</style>\n",
       "<table border=\"1\" class=\"dataframe\">\n",
       "  <thead>\n",
       "    <tr style=\"text-align: right;\">\n",
       "      <th></th>\n",
       "      <th>CL=F</th>\n",
       "      <th>OR.BK</th>\n",
       "      <th>PTTEP.BK</th>\n",
       "      <th>PTTGC.BK</th>\n",
       "      <th>PTT.BK</th>\n",
       "    </tr>\n",
       "    <tr>\n",
       "      <th>Date</th>\n",
       "      <th></th>\n",
       "      <th></th>\n",
       "      <th></th>\n",
       "      <th></th>\n",
       "      <th></th>\n",
       "    </tr>\n",
       "  </thead>\n",
       "  <tbody>\n",
       "    <tr>\n",
       "      <th>2021-02-16</th>\n",
       "      <td>0.009753</td>\n",
       "      <td>-0.036765</td>\n",
       "      <td>-0.008696</td>\n",
       "      <td>0.035156</td>\n",
       "      <td>0.000000</td>\n",
       "    </tr>\n",
       "    <tr>\n",
       "      <th>2021-02-17</th>\n",
       "      <td>0.018152</td>\n",
       "      <td>-0.099237</td>\n",
       "      <td>-0.008772</td>\n",
       "      <td>-0.011321</td>\n",
       "      <td>-0.012121</td>\n",
       "    </tr>\n",
       "    <tr>\n",
       "      <th>2021-02-18</th>\n",
       "      <td>-0.010141</td>\n",
       "      <td>0.025424</td>\n",
       "      <td>0.008850</td>\n",
       "      <td>0.000000</td>\n",
       "      <td>-0.006135</td>\n",
       "    </tr>\n",
       "    <tr>\n",
       "      <th>2021-02-19</th>\n",
       "      <td>-0.021150</td>\n",
       "      <td>0.041322</td>\n",
       "      <td>-0.021930</td>\n",
       "      <td>-0.030534</td>\n",
       "      <td>-0.012346</td>\n",
       "    </tr>\n",
       "    <tr>\n",
       "      <th>2021-02-22</th>\n",
       "      <td>0.037981</td>\n",
       "      <td>0.007937</td>\n",
       "      <td>-0.008969</td>\n",
       "      <td>-0.019685</td>\n",
       "      <td>0.000000</td>\n",
       "    </tr>\n",
       "    <tr>\n",
       "      <th>...</th>\n",
       "      <td>...</td>\n",
       "      <td>...</td>\n",
       "      <td>...</td>\n",
       "      <td>...</td>\n",
       "      <td>...</td>\n",
       "    </tr>\n",
       "    <tr>\n",
       "      <th>2021-10-21</th>\n",
       "      <td>-0.016335</td>\n",
       "      <td>-0.008929</td>\n",
       "      <td>0.016194</td>\n",
       "      <td>-0.003774</td>\n",
       "      <td>0.012658</td>\n",
       "    </tr>\n",
       "    <tr>\n",
       "      <th>2021-10-26</th>\n",
       "      <td>0.010626</td>\n",
       "      <td>0.009009</td>\n",
       "      <td>0.012245</td>\n",
       "      <td>-0.003831</td>\n",
       "      <td>-0.006329</td>\n",
       "    </tr>\n",
       "    <tr>\n",
       "      <th>2021-10-27</th>\n",
       "      <td>-0.023509</td>\n",
       "      <td>0.000000</td>\n",
       "      <td>-0.020161</td>\n",
       "      <td>-0.019231</td>\n",
       "      <td>-0.012739</td>\n",
       "    </tr>\n",
       "    <tr>\n",
       "      <th>2021-10-28</th>\n",
       "      <td>0.001815</td>\n",
       "      <td>-0.008929</td>\n",
       "      <td>-0.024691</td>\n",
       "      <td>-0.023529</td>\n",
       "      <td>-0.012903</td>\n",
       "    </tr>\n",
       "    <tr>\n",
       "      <th>2021-10-29</th>\n",
       "      <td>0.009178</td>\n",
       "      <td>-0.009009</td>\n",
       "      <td>-0.008439</td>\n",
       "      <td>0.008032</td>\n",
       "      <td>-0.006536</td>\n",
       "    </tr>\n",
       "  </tbody>\n",
       "</table>\n",
       "<p>162 rows × 5 columns</p>\n",
       "</div>"
      ],
      "text/plain": [
       "                CL=F     OR.BK  PTTEP.BK  PTTGC.BK    PTT.BK\n",
       "Date                                                        \n",
       "2021-02-16  0.009753 -0.036765 -0.008696  0.035156  0.000000\n",
       "2021-02-17  0.018152 -0.099237 -0.008772 -0.011321 -0.012121\n",
       "2021-02-18 -0.010141  0.025424  0.008850  0.000000 -0.006135\n",
       "2021-02-19 -0.021150  0.041322 -0.021930 -0.030534 -0.012346\n",
       "2021-02-22  0.037981  0.007937 -0.008969 -0.019685  0.000000\n",
       "...              ...       ...       ...       ...       ...\n",
       "2021-10-21 -0.016335 -0.008929  0.016194 -0.003774  0.012658\n",
       "2021-10-26  0.010626  0.009009  0.012245 -0.003831 -0.006329\n",
       "2021-10-27 -0.023509  0.000000 -0.020161 -0.019231 -0.012739\n",
       "2021-10-28  0.001815 -0.008929 -0.024691 -0.023529 -0.012903\n",
       "2021-10-29  0.009178 -0.009009 -0.008439  0.008032 -0.006536\n",
       "\n",
       "[162 rows x 5 columns]"
      ]
     },
     "execution_count": 10,
     "metadata": {},
     "output_type": "execute_result"
    }
   ],
   "source": [
    "df.loc[df.loc[:,['OR.BK','PTTEP.BK','PTTGC.BK','PTT.BK']].any(1) != 0]"
   ]
  },
  {
   "cell_type": "code",
   "execution_count": 11,
   "metadata": {
    "id": "tc41Fifo4OPd"
   },
   "outputs": [],
   "source": [
    "#applied on df.loc[~(df==0).any(axis=1)]\n",
    "#applied on df.loc[~(df==0).all(axis=1)]\n",
    "df = df.loc[~(df.loc[:,['OR.BK','PTTEP.BK','PTTGC.BK','PTT.BK']].all(1) == 0)]"
   ]
  },
  {
   "cell_type": "markdown",
   "metadata": {
    "id": "q-OTyoyZ6uo3"
   },
   "source": [
    "Don't do != instead of ~"
   ]
  },
  {
   "cell_type": "code",
   "execution_count": 12,
   "metadata": {
    "colab": {
     "base_uri": "https://localhost:8080/",
     "height": 455
    },
    "id": "L5_U6zpv62fe",
    "outputId": "28727c34-fd13-4294-c291-d9cb32c7c293"
   },
   "outputs": [
    {
     "data": {
      "text/html": [
       "<div>\n",
       "<style scoped>\n",
       "    .dataframe tbody tr th:only-of-type {\n",
       "        vertical-align: middle;\n",
       "    }\n",
       "\n",
       "    .dataframe tbody tr th {\n",
       "        vertical-align: top;\n",
       "    }\n",
       "\n",
       "    .dataframe thead th {\n",
       "        text-align: right;\n",
       "    }\n",
       "</style>\n",
       "<table border=\"1\" class=\"dataframe\">\n",
       "  <thead>\n",
       "    <tr style=\"text-align: right;\">\n",
       "      <th></th>\n",
       "      <th>CL=F</th>\n",
       "      <th>OR.BK</th>\n",
       "      <th>PTTEP.BK</th>\n",
       "      <th>PTTGC.BK</th>\n",
       "      <th>PTT.BK</th>\n",
       "    </tr>\n",
       "    <tr>\n",
       "      <th>Date</th>\n",
       "      <th></th>\n",
       "      <th></th>\n",
       "      <th></th>\n",
       "      <th></th>\n",
       "      <th></th>\n",
       "    </tr>\n",
       "  </thead>\n",
       "  <tbody>\n",
       "    <tr>\n",
       "      <th>2021-02-17</th>\n",
       "      <td>0.018152</td>\n",
       "      <td>-0.099237</td>\n",
       "      <td>-0.008772</td>\n",
       "      <td>-0.011321</td>\n",
       "      <td>-0.012121</td>\n",
       "    </tr>\n",
       "    <tr>\n",
       "      <th>2021-02-19</th>\n",
       "      <td>-0.021150</td>\n",
       "      <td>0.041322</td>\n",
       "      <td>-0.021930</td>\n",
       "      <td>-0.030534</td>\n",
       "      <td>-0.012346</td>\n",
       "    </tr>\n",
       "    <tr>\n",
       "      <th>2021-02-23</th>\n",
       "      <td>0.002927</td>\n",
       "      <td>-0.023622</td>\n",
       "      <td>0.031674</td>\n",
       "      <td>0.028112</td>\n",
       "      <td>0.012500</td>\n",
       "    </tr>\n",
       "    <tr>\n",
       "      <th>2021-02-24</th>\n",
       "      <td>0.025134</td>\n",
       "      <td>-0.008065</td>\n",
       "      <td>-0.004386</td>\n",
       "      <td>-0.019531</td>\n",
       "      <td>-0.024691</td>\n",
       "    </tr>\n",
       "    <tr>\n",
       "      <th>2021-03-03</th>\n",
       "      <td>0.025607</td>\n",
       "      <td>0.017094</td>\n",
       "      <td>0.008889</td>\n",
       "      <td>0.027888</td>\n",
       "      <td>0.031447</td>\n",
       "    </tr>\n",
       "    <tr>\n",
       "      <th>...</th>\n",
       "      <td>...</td>\n",
       "      <td>...</td>\n",
       "      <td>...</td>\n",
       "      <td>...</td>\n",
       "      <td>...</td>\n",
       "    </tr>\n",
       "    <tr>\n",
       "      <th>2021-10-19</th>\n",
       "      <td>0.006308</td>\n",
       "      <td>-0.017699</td>\n",
       "      <td>-0.012048</td>\n",
       "      <td>-0.018727</td>\n",
       "      <td>-0.012500</td>\n",
       "    </tr>\n",
       "    <tr>\n",
       "      <th>2021-10-21</th>\n",
       "      <td>-0.016335</td>\n",
       "      <td>-0.008929</td>\n",
       "      <td>0.016194</td>\n",
       "      <td>-0.003774</td>\n",
       "      <td>0.012658</td>\n",
       "    </tr>\n",
       "    <tr>\n",
       "      <th>2021-10-26</th>\n",
       "      <td>0.010626</td>\n",
       "      <td>0.009009</td>\n",
       "      <td>0.012245</td>\n",
       "      <td>-0.003831</td>\n",
       "      <td>-0.006329</td>\n",
       "    </tr>\n",
       "    <tr>\n",
       "      <th>2021-10-28</th>\n",
       "      <td>0.001815</td>\n",
       "      <td>-0.008929</td>\n",
       "      <td>-0.024691</td>\n",
       "      <td>-0.023529</td>\n",
       "      <td>-0.012903</td>\n",
       "    </tr>\n",
       "    <tr>\n",
       "      <th>2021-10-29</th>\n",
       "      <td>0.009178</td>\n",
       "      <td>-0.009009</td>\n",
       "      <td>-0.008439</td>\n",
       "      <td>0.008032</td>\n",
       "      <td>-0.006536</td>\n",
       "    </tr>\n",
       "  </tbody>\n",
       "</table>\n",
       "<p>76 rows × 5 columns</p>\n",
       "</div>"
      ],
      "text/plain": [
       "                CL=F     OR.BK  PTTEP.BK  PTTGC.BK    PTT.BK\n",
       "Date                                                        \n",
       "2021-02-17  0.018152 -0.099237 -0.008772 -0.011321 -0.012121\n",
       "2021-02-19 -0.021150  0.041322 -0.021930 -0.030534 -0.012346\n",
       "2021-02-23  0.002927 -0.023622  0.031674  0.028112  0.012500\n",
       "2021-02-24  0.025134 -0.008065 -0.004386 -0.019531 -0.024691\n",
       "2021-03-03  0.025607  0.017094  0.008889  0.027888  0.031447\n",
       "...              ...       ...       ...       ...       ...\n",
       "2021-10-19  0.006308 -0.017699 -0.012048 -0.018727 -0.012500\n",
       "2021-10-21 -0.016335 -0.008929  0.016194 -0.003774  0.012658\n",
       "2021-10-26  0.010626  0.009009  0.012245 -0.003831 -0.006329\n",
       "2021-10-28  0.001815 -0.008929 -0.024691 -0.023529 -0.012903\n",
       "2021-10-29  0.009178 -0.009009 -0.008439  0.008032 -0.006536\n",
       "\n",
       "[76 rows x 5 columns]"
      ]
     },
     "execution_count": 12,
     "metadata": {},
     "output_type": "execute_result"
    }
   ],
   "source": [
    "df"
   ]
  },
  {
   "cell_type": "code",
   "execution_count": 13,
   "metadata": {
    "colab": {
     "base_uri": "https://localhost:8080/"
    },
    "id": "U4SdN4Av8ojR",
    "outputId": "14d1ac22-901e-46eb-8f83-291908518f4e"
   },
   "outputs": [
    {
     "data": {
      "text/plain": [
       "0.2727272727272727"
      ]
     },
     "execution_count": 13,
     "metadata": {},
     "output_type": "execute_result"
    }
   ],
   "source": [
    "15/55"
   ]
  },
  {
   "cell_type": "code",
   "execution_count": 14,
   "metadata": {
    "id": "J9JJchBv8FBa"
   },
   "outputs": [],
   "source": [
    "X_train = df.iloc[:-15,:-1]\n",
    "X_test = df.iloc[-15:,:-1]\n",
    "y_train = df.iloc[:-15,-1]\n",
    "y_test = df.iloc[-15:,-1]"
   ]
  },
  {
   "cell_type": "code",
   "execution_count": 15,
   "metadata": {
    "colab": {
     "base_uri": "https://localhost:8080/",
     "height": 455
    },
    "id": "iPOSxe1v83hT",
    "outputId": "da144059-bf0a-41b7-c4ed-06bd4c0c70c5"
   },
   "outputs": [
    {
     "data": {
      "text/html": [
       "<div>\n",
       "<style scoped>\n",
       "    .dataframe tbody tr th:only-of-type {\n",
       "        vertical-align: middle;\n",
       "    }\n",
       "\n",
       "    .dataframe tbody tr th {\n",
       "        vertical-align: top;\n",
       "    }\n",
       "\n",
       "    .dataframe thead th {\n",
       "        text-align: right;\n",
       "    }\n",
       "</style>\n",
       "<table border=\"1\" class=\"dataframe\">\n",
       "  <thead>\n",
       "    <tr style=\"text-align: right;\">\n",
       "      <th></th>\n",
       "      <th>CL=F</th>\n",
       "      <th>OR.BK</th>\n",
       "      <th>PTTEP.BK</th>\n",
       "      <th>PTTGC.BK</th>\n",
       "    </tr>\n",
       "    <tr>\n",
       "      <th>Date</th>\n",
       "      <th></th>\n",
       "      <th></th>\n",
       "      <th></th>\n",
       "      <th></th>\n",
       "    </tr>\n",
       "  </thead>\n",
       "  <tbody>\n",
       "    <tr>\n",
       "      <th>2021-02-17</th>\n",
       "      <td>0.018152</td>\n",
       "      <td>-0.099237</td>\n",
       "      <td>-0.008772</td>\n",
       "      <td>-0.011321</td>\n",
       "    </tr>\n",
       "    <tr>\n",
       "      <th>2021-02-19</th>\n",
       "      <td>-0.021150</td>\n",
       "      <td>0.041322</td>\n",
       "      <td>-0.021930</td>\n",
       "      <td>-0.030534</td>\n",
       "    </tr>\n",
       "    <tr>\n",
       "      <th>2021-02-23</th>\n",
       "      <td>0.002927</td>\n",
       "      <td>-0.023622</td>\n",
       "      <td>0.031674</td>\n",
       "      <td>0.028112</td>\n",
       "    </tr>\n",
       "    <tr>\n",
       "      <th>2021-02-24</th>\n",
       "      <td>0.025134</td>\n",
       "      <td>-0.008065</td>\n",
       "      <td>-0.004386</td>\n",
       "      <td>-0.019531</td>\n",
       "    </tr>\n",
       "    <tr>\n",
       "      <th>2021-03-03</th>\n",
       "      <td>0.025607</td>\n",
       "      <td>0.017094</td>\n",
       "      <td>0.008889</td>\n",
       "      <td>0.027888</td>\n",
       "    </tr>\n",
       "    <tr>\n",
       "      <th>...</th>\n",
       "      <td>...</td>\n",
       "      <td>...</td>\n",
       "      <td>...</td>\n",
       "      <td>...</td>\n",
       "    </tr>\n",
       "    <tr>\n",
       "      <th>2021-08-23</th>\n",
       "      <td>0.053273</td>\n",
       "      <td>0.034483</td>\n",
       "      <td>0.039801</td>\n",
       "      <td>0.026549</td>\n",
       "    </tr>\n",
       "    <tr>\n",
       "      <th>2021-08-24</th>\n",
       "      <td>0.028946</td>\n",
       "      <td>-0.016667</td>\n",
       "      <td>0.038278</td>\n",
       "      <td>0.025862</td>\n",
       "    </tr>\n",
       "    <tr>\n",
       "      <th>2021-08-30</th>\n",
       "      <td>0.006837</td>\n",
       "      <td>0.016949</td>\n",
       "      <td>0.046083</td>\n",
       "      <td>0.024194</td>\n",
       "    </tr>\n",
       "    <tr>\n",
       "      <th>2021-08-31</th>\n",
       "      <td>-0.010259</td>\n",
       "      <td>0.008333</td>\n",
       "      <td>-0.017621</td>\n",
       "      <td>0.007874</td>\n",
       "    </tr>\n",
       "    <tr>\n",
       "      <th>2021-09-01</th>\n",
       "      <td>0.001314</td>\n",
       "      <td>-0.008264</td>\n",
       "      <td>-0.017937</td>\n",
       "      <td>-0.019531</td>\n",
       "    </tr>\n",
       "  </tbody>\n",
       "</table>\n",
       "<p>61 rows × 4 columns</p>\n",
       "</div>"
      ],
      "text/plain": [
       "                CL=F     OR.BK  PTTEP.BK  PTTGC.BK\n",
       "Date                                              \n",
       "2021-02-17  0.018152 -0.099237 -0.008772 -0.011321\n",
       "2021-02-19 -0.021150  0.041322 -0.021930 -0.030534\n",
       "2021-02-23  0.002927 -0.023622  0.031674  0.028112\n",
       "2021-02-24  0.025134 -0.008065 -0.004386 -0.019531\n",
       "2021-03-03  0.025607  0.017094  0.008889  0.027888\n",
       "...              ...       ...       ...       ...\n",
       "2021-08-23  0.053273  0.034483  0.039801  0.026549\n",
       "2021-08-24  0.028946 -0.016667  0.038278  0.025862\n",
       "2021-08-30  0.006837  0.016949  0.046083  0.024194\n",
       "2021-08-31 -0.010259  0.008333 -0.017621  0.007874\n",
       "2021-09-01  0.001314 -0.008264 -0.017937 -0.019531\n",
       "\n",
       "[61 rows x 4 columns]"
      ]
     },
     "execution_count": 15,
     "metadata": {},
     "output_type": "execute_result"
    }
   ],
   "source": [
    "X_train"
   ]
  },
  {
   "cell_type": "markdown",
   "metadata": {
    "id": "Cr98bKUfLioR"
   },
   "source": []
  },
  {
   "cell_type": "code",
   "execution_count": 16,
   "metadata": {
    "id": "D4AxhIAR84rW"
   },
   "outputs": [],
   "source": [
    "from sklearn.ensemble import RandomForestRegressor #another one is RandomForestClassifier"
   ]
  },
  {
   "cell_type": "code",
   "execution_count": 17,
   "metadata": {
    "id": "iY0dEBfPnSwD"
   },
   "outputs": [],
   "source": [
    "rf = RandomForestRegressor(n_estimators = 1000, random_state = 4)"
   ]
  },
  {
   "cell_type": "code",
   "execution_count": 18,
   "metadata": {
    "colab": {
     "base_uri": "https://localhost:8080/"
    },
    "id": "ejlYcpGfnbTW",
    "outputId": "0e0b0620-a690-4b5b-e211-267567c0c21f"
   },
   "outputs": [
    {
     "data": {
      "text/html": [
       "<style>#sk-container-id-1 {color: black;background-color: white;}#sk-container-id-1 pre{padding: 0;}#sk-container-id-1 div.sk-toggleable {background-color: white;}#sk-container-id-1 label.sk-toggleable__label {cursor: pointer;display: block;width: 100%;margin-bottom: 0;padding: 0.3em;box-sizing: border-box;text-align: center;}#sk-container-id-1 label.sk-toggleable__label-arrow:before {content: \"▸\";float: left;margin-right: 0.25em;color: #696969;}#sk-container-id-1 label.sk-toggleable__label-arrow:hover:before {color: black;}#sk-container-id-1 div.sk-estimator:hover label.sk-toggleable__label-arrow:before {color: black;}#sk-container-id-1 div.sk-toggleable__content {max-height: 0;max-width: 0;overflow: hidden;text-align: left;background-color: #f0f8ff;}#sk-container-id-1 div.sk-toggleable__content pre {margin: 0.2em;color: black;border-radius: 0.25em;background-color: #f0f8ff;}#sk-container-id-1 input.sk-toggleable__control:checked~div.sk-toggleable__content {max-height: 200px;max-width: 100%;overflow: auto;}#sk-container-id-1 input.sk-toggleable__control:checked~label.sk-toggleable__label-arrow:before {content: \"▾\";}#sk-container-id-1 div.sk-estimator input.sk-toggleable__control:checked~label.sk-toggleable__label {background-color: #d4ebff;}#sk-container-id-1 div.sk-label input.sk-toggleable__control:checked~label.sk-toggleable__label {background-color: #d4ebff;}#sk-container-id-1 input.sk-hidden--visually {border: 0;clip: rect(1px 1px 1px 1px);clip: rect(1px, 1px, 1px, 1px);height: 1px;margin: -1px;overflow: hidden;padding: 0;position: absolute;width: 1px;}#sk-container-id-1 div.sk-estimator {font-family: monospace;background-color: #f0f8ff;border: 1px dotted black;border-radius: 0.25em;box-sizing: border-box;margin-bottom: 0.5em;}#sk-container-id-1 div.sk-estimator:hover {background-color: #d4ebff;}#sk-container-id-1 div.sk-parallel-item::after {content: \"\";width: 100%;border-bottom: 1px solid gray;flex-grow: 1;}#sk-container-id-1 div.sk-label:hover label.sk-toggleable__label {background-color: #d4ebff;}#sk-container-id-1 div.sk-serial::before {content: \"\";position: absolute;border-left: 1px solid gray;box-sizing: border-box;top: 0;bottom: 0;left: 50%;z-index: 0;}#sk-container-id-1 div.sk-serial {display: flex;flex-direction: column;align-items: center;background-color: white;padding-right: 0.2em;padding-left: 0.2em;position: relative;}#sk-container-id-1 div.sk-item {position: relative;z-index: 1;}#sk-container-id-1 div.sk-parallel {display: flex;align-items: stretch;justify-content: center;background-color: white;position: relative;}#sk-container-id-1 div.sk-item::before, #sk-container-id-1 div.sk-parallel-item::before {content: \"\";position: absolute;border-left: 1px solid gray;box-sizing: border-box;top: 0;bottom: 0;left: 50%;z-index: -1;}#sk-container-id-1 div.sk-parallel-item {display: flex;flex-direction: column;z-index: 1;position: relative;background-color: white;}#sk-container-id-1 div.sk-parallel-item:first-child::after {align-self: flex-end;width: 50%;}#sk-container-id-1 div.sk-parallel-item:last-child::after {align-self: flex-start;width: 50%;}#sk-container-id-1 div.sk-parallel-item:only-child::after {width: 0;}#sk-container-id-1 div.sk-dashed-wrapped {border: 1px dashed gray;margin: 0 0.4em 0.5em 0.4em;box-sizing: border-box;padding-bottom: 0.4em;background-color: white;}#sk-container-id-1 div.sk-label label {font-family: monospace;font-weight: bold;display: inline-block;line-height: 1.2em;}#sk-container-id-1 div.sk-label-container {text-align: center;}#sk-container-id-1 div.sk-container {/* jupyter's `normalize.less` sets `[hidden] { display: none; }` but bootstrap.min.css set `[hidden] { display: none !important; }` so we also need the `!important` here to be able to override the default hidden behavior on the sphinx rendered scikit-learn.org. See: https://github.com/scikit-learn/scikit-learn/issues/21755 */display: inline-block !important;position: relative;}#sk-container-id-1 div.sk-text-repr-fallback {display: none;}</style><div id=\"sk-container-id-1\" class=\"sk-top-container\"><div class=\"sk-text-repr-fallback\"><pre>RandomForestRegressor(n_estimators=1000, random_state=4)</pre><b>In a Jupyter environment, please rerun this cell to show the HTML representation or trust the notebook. <br />On GitHub, the HTML representation is unable to render, please try loading this page with nbviewer.org.</b></div><div class=\"sk-container\" hidden><div class=\"sk-item\"><div class=\"sk-estimator sk-toggleable\"><input class=\"sk-toggleable__control sk-hidden--visually\" id=\"sk-estimator-id-1\" type=\"checkbox\" checked><label for=\"sk-estimator-id-1\" class=\"sk-toggleable__label sk-toggleable__label-arrow\">RandomForestRegressor</label><div class=\"sk-toggleable__content\"><pre>RandomForestRegressor(n_estimators=1000, random_state=4)</pre></div></div></div></div></div>"
      ],
      "text/plain": [
       "RandomForestRegressor(n_estimators=1000, random_state=4)"
      ]
     },
     "execution_count": 18,
     "metadata": {},
     "output_type": "execute_result"
    }
   ],
   "source": [
    "rf.fit(X_train, y_train)"
   ]
  },
  {
   "cell_type": "code",
   "execution_count": 19,
   "metadata": {
    "id": "iFMrEHgbnhZU"
   },
   "outputs": [],
   "source": [
    "predictions = rf.predict(X_test)"
   ]
  },
  {
   "cell_type": "code",
   "execution_count": 20,
   "metadata": {
    "colab": {
     "base_uri": "https://localhost:8080/",
     "height": 551
    },
    "id": "4wNydHkMnkiI",
    "outputId": "06f87ec3-0492-4f0a-de3f-ad89b27cdbec"
   },
   "outputs": [
    {
     "data": {
      "text/html": [
       "<div>\n",
       "<style scoped>\n",
       "    .dataframe tbody tr th:only-of-type {\n",
       "        vertical-align: middle;\n",
       "    }\n",
       "\n",
       "    .dataframe tbody tr th {\n",
       "        vertical-align: top;\n",
       "    }\n",
       "\n",
       "    .dataframe thead th {\n",
       "        text-align: right;\n",
       "    }\n",
       "</style>\n",
       "<table border=\"1\" class=\"dataframe\">\n",
       "  <thead>\n",
       "    <tr style=\"text-align: right;\">\n",
       "      <th></th>\n",
       "      <th>PTT.BK</th>\n",
       "      <th>predict</th>\n",
       "    </tr>\n",
       "    <tr>\n",
       "      <th>Date</th>\n",
       "      <th></th>\n",
       "      <th></th>\n",
       "    </tr>\n",
       "  </thead>\n",
       "  <tbody>\n",
       "    <tr>\n",
       "      <th>2021-09-02</th>\n",
       "      <td>0.013333</td>\n",
       "      <td>0.007668</td>\n",
       "    </tr>\n",
       "    <tr>\n",
       "      <th>2021-09-10</th>\n",
       "      <td>0.020134</td>\n",
       "      <td>-0.007414</td>\n",
       "    </tr>\n",
       "    <tr>\n",
       "      <th>2021-09-21</th>\n",
       "      <td>0.012821</td>\n",
       "      <td>0.008713</td>\n",
       "    </tr>\n",
       "    <tr>\n",
       "      <th>2021-09-27</th>\n",
       "      <td>0.012500</td>\n",
       "      <td>0.018161</td>\n",
       "    </tr>\n",
       "    <tr>\n",
       "      <th>2021-10-05</th>\n",
       "      <td>0.019231</td>\n",
       "      <td>0.009488</td>\n",
       "    </tr>\n",
       "    <tr>\n",
       "      <th>2021-10-07</th>\n",
       "      <td>-0.012500</td>\n",
       "      <td>0.007483</td>\n",
       "    </tr>\n",
       "    <tr>\n",
       "      <th>2021-10-11</th>\n",
       "      <td>0.006289</td>\n",
       "      <td>-0.003281</td>\n",
       "    </tr>\n",
       "    <tr>\n",
       "      <th>2021-10-14</th>\n",
       "      <td>-0.012500</td>\n",
       "      <td>0.005533</td>\n",
       "    </tr>\n",
       "    <tr>\n",
       "      <th>2021-10-15</th>\n",
       "      <td>-0.006329</td>\n",
       "      <td>-0.007132</td>\n",
       "    </tr>\n",
       "    <tr>\n",
       "      <th>2021-10-18</th>\n",
       "      <td>0.019108</td>\n",
       "      <td>0.011739</td>\n",
       "    </tr>\n",
       "    <tr>\n",
       "      <th>2021-10-19</th>\n",
       "      <td>-0.012500</td>\n",
       "      <td>-0.013477</td>\n",
       "    </tr>\n",
       "    <tr>\n",
       "      <th>2021-10-21</th>\n",
       "      <td>0.012658</td>\n",
       "      <td>-0.001932</td>\n",
       "    </tr>\n",
       "    <tr>\n",
       "      <th>2021-10-26</th>\n",
       "      <td>-0.006329</td>\n",
       "      <td>0.003416</td>\n",
       "    </tr>\n",
       "    <tr>\n",
       "      <th>2021-10-28</th>\n",
       "      <td>-0.012903</td>\n",
       "      <td>-0.015776</td>\n",
       "    </tr>\n",
       "    <tr>\n",
       "      <th>2021-10-29</th>\n",
       "      <td>-0.006536</td>\n",
       "      <td>0.001371</td>\n",
       "    </tr>\n",
       "  </tbody>\n",
       "</table>\n",
       "</div>"
      ],
      "text/plain": [
       "              PTT.BK   predict\n",
       "Date                          \n",
       "2021-09-02  0.013333  0.007668\n",
       "2021-09-10  0.020134 -0.007414\n",
       "2021-09-21  0.012821  0.008713\n",
       "2021-09-27  0.012500  0.018161\n",
       "2021-10-05  0.019231  0.009488\n",
       "2021-10-07 -0.012500  0.007483\n",
       "2021-10-11  0.006289 -0.003281\n",
       "2021-10-14 -0.012500  0.005533\n",
       "2021-10-15 -0.006329 -0.007132\n",
       "2021-10-18  0.019108  0.011739\n",
       "2021-10-19 -0.012500 -0.013477\n",
       "2021-10-21  0.012658 -0.001932\n",
       "2021-10-26 -0.006329  0.003416\n",
       "2021-10-28 -0.012903 -0.015776\n",
       "2021-10-29 -0.006536  0.001371"
      ]
     },
     "execution_count": 20,
     "metadata": {},
     "output_type": "execute_result"
    }
   ],
   "source": [
    "compare = pd.DataFrame(y_test)\n",
    "compare['predict'] = predictions\n",
    "compare"
   ]
  },
  {
   "cell_type": "code",
   "execution_count": 21,
   "metadata": {
    "colab": {
     "base_uri": "https://localhost:8080/",
     "height": 391
    },
    "id": "yumkPvIeno8A",
    "outputId": "9eef1c33-4eb7-41ca-8026-5fec169f0961"
   },
   "outputs": [
    {
     "data": {
      "text/plain": [
       "<AxesSubplot:xlabel='Date'>"
      ]
     },
     "execution_count": 21,
     "metadata": {},
     "output_type": "execute_result"
    },
    {
     "data": {
      "image/png": "[encoded data removed]",
      "text/plain": [
       "<Figure size 432x288 with 1 Axes>"
      ]
     },
     "metadata": {
      "needs_background": "light"
     },
     "output_type": "display_data"
    }
   ],
   "source": [
    "compare.plot(kind='bar')"
   ]
  },
  {
   "cell_type": "code",
   "execution_count": 22,
   "metadata": {},
   "outputs": [
    {
     "name": "stdout",
     "output_type": "stream",
     "text": [
      "Requirement already satisfied: pydot in c:\\users\\yanak\\anaconda3\\lib\\site-packages (1.4.2)\n",
      "Requirement already satisfied: pyparsing>=2.1.4 in c:\\users\\yanak\\anaconda3\\lib\\site-packages (from pydot) (3.0.4)\n"
     ]
    }
   ],
   "source": [
    "!pip install pydot"
   ]
  },
  {
   "cell_type": "code",
   "execution_count": 23,
   "metadata": {
    "colab": {
     "base_uri": "https://localhost:8080/",
     "height": 537
    },
    "id": "ueFcYk7lpYkx",
    "outputId": "237aaae5-ea1d-4a17-cb18-3b3cde31806e"
   },
   "outputs": [
    {
     "ename": "FileNotFoundError",
     "evalue": "[Errno 2] No such file or directory: 'tree.png'",
     "output_type": "error",
     "traceback": [
      "\u001b[1;31m---------------------------------------------------------------------------\u001b[0m",
      "\u001b[1;31mFileNotFoundError\u001b[0m                         Traceback (most recent call last)",
      "\u001b[1;32m~\\AppData\\Local\\Temp/ipykernel_21484/2466742285.py\u001b[0m in \u001b[0;36m<module>\u001b[1;34m\u001b[0m\n\u001b[0;32m      1\u001b[0m \u001b[1;32mfrom\u001b[0m \u001b[0mIPython\u001b[0m\u001b[1;33m.\u001b[0m\u001b[0mdisplay\u001b[0m \u001b[1;32mimport\u001b[0m \u001b[0mImage\u001b[0m\u001b[1;33m\u001b[0m\u001b[1;33m\u001b[0m\u001b[0m\n\u001b[1;32m----> 2\u001b[1;33m \u001b[0mImage\u001b[0m\u001b[1;33m(\u001b[0m\u001b[0mfilename\u001b[0m \u001b[1;33m=\u001b[0m \u001b[1;34m'tree.png'\u001b[0m\u001b[1;33m)\u001b[0m\u001b[1;33m\u001b[0m\u001b[1;33m\u001b[0m\u001b[0m\n\u001b[0m",
      "\u001b[1;32m~\\anaconda3\\lib\\site-packages\\IPython\\core\\display.py\u001b[0m in \u001b[0;36m__init__\u001b[1;34m(self, data, url, filename, format, embed, width, height, retina, unconfined, metadata)\u001b[0m\n\u001b[0;32m   1229\u001b[0m         \u001b[0mself\u001b[0m\u001b[1;33m.\u001b[0m\u001b[0mretina\u001b[0m \u001b[1;33m=\u001b[0m \u001b[0mretina\u001b[0m\u001b[1;33m\u001b[0m\u001b[1;33m\u001b[0m\u001b[0m\n\u001b[0;32m   1230\u001b[0m         \u001b[0mself\u001b[0m\u001b[1;33m.\u001b[0m\u001b[0munconfined\u001b[0m \u001b[1;33m=\u001b[0m \u001b[0munconfined\u001b[0m\u001b[1;33m\u001b[0m\u001b[1;33m\u001b[0m\u001b[0m\n\u001b[1;32m-> 1231\u001b[1;33m         super(Image, self).__init__(data=data, url=url, filename=filename, \n\u001b[0m\u001b[0;32m   1232\u001b[0m                 metadata=metadata)\n\u001b[0;32m   1233\u001b[0m \u001b[1;33m\u001b[0m\u001b[0m\n",
      "\u001b[1;32m~\\anaconda3\\lib\\site-packages\\IPython\\core\\display.py\u001b[0m in \u001b[0;36m__init__\u001b[1;34m(self, data, url, filename, metadata)\u001b[0m\n\u001b[0;32m    635\u001b[0m             \u001b[0mself\u001b[0m\u001b[1;33m.\u001b[0m\u001b[0mmetadata\u001b[0m \u001b[1;33m=\u001b[0m \u001b[1;33m{\u001b[0m\u001b[1;33m}\u001b[0m\u001b[1;33m\u001b[0m\u001b[1;33m\u001b[0m\u001b[0m\n\u001b[0;32m    636\u001b[0m \u001b[1;33m\u001b[0m\u001b[0m\n\u001b[1;32m--> 637\u001b[1;33m         \u001b[0mself\u001b[0m\u001b[1;33m.\u001b[0m\u001b[0mreload\u001b[0m\u001b[1;33m(\u001b[0m\u001b[1;33m)\u001b[0m\u001b[1;33m\u001b[0m\u001b[1;33m\u001b[0m\u001b[0m\n\u001b[0m\u001b[0;32m    638\u001b[0m         \u001b[0mself\u001b[0m\u001b[1;33m.\u001b[0m\u001b[0m_check_data\u001b[0m\u001b[1;33m(\u001b[0m\u001b[1;33m)\u001b[0m\u001b[1;33m\u001b[0m\u001b[1;33m\u001b[0m\u001b[0m\n\u001b[0;32m    639\u001b[0m \u001b[1;33m\u001b[0m\u001b[0m\n",
      "\u001b[1;32m~\\anaconda3\\lib\\site-packages\\IPython\\core\\display.py\u001b[0m in \u001b[0;36mreload\u001b[1;34m(self)\u001b[0m\n\u001b[0;32m   1261\u001b[0m         \u001b[1;34m\"\"\"Reload the raw data from file or URL.\"\"\"\u001b[0m\u001b[1;33m\u001b[0m\u001b[1;33m\u001b[0m\u001b[0m\n\u001b[0;32m   1262\u001b[0m         \u001b[1;32mif\u001b[0m \u001b[0mself\u001b[0m\u001b[1;33m.\u001b[0m\u001b[0membed\u001b[0m\u001b[1;33m:\u001b[0m\u001b[1;33m\u001b[0m\u001b[1;33m\u001b[0m\u001b[0m\n\u001b[1;32m-> 1263\u001b[1;33m             \u001b[0msuper\u001b[0m\u001b[1;33m(\u001b[0m\u001b[0mImage\u001b[0m\u001b[1;33m,\u001b[0m\u001b[0mself\u001b[0m\u001b[1;33m)\u001b[0m\u001b[1;33m.\u001b[0m\u001b[0mreload\u001b[0m\u001b[1;33m(\u001b[0m\u001b[1;33m)\u001b[0m\u001b[1;33m\u001b[0m\u001b[1;33m\u001b[0m\u001b[0m\n\u001b[0m\u001b[0;32m   1264\u001b[0m             \u001b[1;32mif\u001b[0m \u001b[0mself\u001b[0m\u001b[1;33m.\u001b[0m\u001b[0mretina\u001b[0m\u001b[1;33m:\u001b[0m\u001b[1;33m\u001b[0m\u001b[1;33m\u001b[0m\u001b[0m\n\u001b[0;32m   1265\u001b[0m                 \u001b[0mself\u001b[0m\u001b[1;33m.\u001b[0m\u001b[0m_retina_shape\u001b[0m\u001b[1;33m(\u001b[0m\u001b[1;33m)\u001b[0m\u001b[1;33m\u001b[0m\u001b[1;33m\u001b[0m\u001b[0m\n",
      "\u001b[1;32m~\\anaconda3\\lib\\site-packages\\IPython\\core\\display.py\u001b[0m in \u001b[0;36mreload\u001b[1;34m(self)\u001b[0m\n\u001b[0;32m    660\u001b[0m         \u001b[1;34m\"\"\"Reload the raw data from file or URL.\"\"\"\u001b[0m\u001b[1;33m\u001b[0m\u001b[1;33m\u001b[0m\u001b[0m\n\u001b[0;32m    661\u001b[0m         \u001b[1;32mif\u001b[0m \u001b[0mself\u001b[0m\u001b[1;33m.\u001b[0m\u001b[0mfilename\u001b[0m \u001b[1;32mis\u001b[0m \u001b[1;32mnot\u001b[0m \u001b[1;32mNone\u001b[0m\u001b[1;33m:\u001b[0m\u001b[1;33m\u001b[0m\u001b[1;33m\u001b[0m\u001b[0m\n\u001b[1;32m--> 662\u001b[1;33m             \u001b[1;32mwith\u001b[0m \u001b[0mopen\u001b[0m\u001b[1;33m(\u001b[0m\u001b[0mself\u001b[0m\u001b[1;33m.\u001b[0m\u001b[0mfilename\u001b[0m\u001b[1;33m,\u001b[0m \u001b[0mself\u001b[0m\u001b[1;33m.\u001b[0m\u001b[0m_read_flags\u001b[0m\u001b[1;33m)\u001b[0m \u001b[1;32mas\u001b[0m \u001b[0mf\u001b[0m\u001b[1;33m:\u001b[0m\u001b[1;33m\u001b[0m\u001b[1;33m\u001b[0m\u001b[0m\n\u001b[0m\u001b[0;32m    663\u001b[0m                 \u001b[0mself\u001b[0m\u001b[1;33m.\u001b[0m\u001b[0mdata\u001b[0m \u001b[1;33m=\u001b[0m \u001b[0mf\u001b[0m\u001b[1;33m.\u001b[0m\u001b[0mread\u001b[0m\u001b[1;33m(\u001b[0m\u001b[1;33m)\u001b[0m\u001b[1;33m\u001b[0m\u001b[1;33m\u001b[0m\u001b[0m\n\u001b[0;32m    664\u001b[0m         \u001b[1;32melif\u001b[0m \u001b[0mself\u001b[0m\u001b[1;33m.\u001b[0m\u001b[0murl\u001b[0m \u001b[1;32mis\u001b[0m \u001b[1;32mnot\u001b[0m \u001b[1;32mNone\u001b[0m\u001b[1;33m:\u001b[0m\u001b[1;33m\u001b[0m\u001b[1;33m\u001b[0m\u001b[0m\n",
      "\u001b[1;31mFileNotFoundError\u001b[0m: [Errno 2] No such file or directory: 'tree.png'"
     ]
    }
   ],
   "source": [
    "from IPython.display import Image\n",
    "Image(filename = 'tree.png')"
   ]
  },
  {
   "cell_type": "code",
   "execution_count": 32,
   "metadata": {
    "colab": {
     "base_uri": "https://localhost:8080/"
    },
    "id": "RLOMflIxvum5",
    "outputId": "b892bce5-67e8-44da-e7f5-f83c132a3919"
   },
   "outputs": [
    {
     "ename": "AttributeError",
     "evalue": "'function' object has no attribute 'feature_importances_'",
     "output_type": "error",
     "traceback": [
      "\u001b[1;31m---------------------------------------------------------------------------\u001b[0m",
      "\u001b[1;31mAttributeError\u001b[0m                            Traceback (most recent call last)",
      "\u001b[1;32m~\\AppData\\Local\\Temp/ipykernel_21484/622863383.py\u001b[0m in \u001b[0;36m<module>\u001b[1;34m\u001b[0m\n\u001b[1;32m----> 1\u001b[1;33m \u001b[0mrf\u001b[0m\u001b[1;33m.\u001b[0m\u001b[0mfeature_importances_\u001b[0m\u001b[1;33m\u001b[0m\u001b[1;33m\u001b[0m\u001b[0m\n\u001b[0m",
      "\u001b[1;31mAttributeError\u001b[0m: 'function' object has no attribute 'feature_importances_'"
     ]
    }
   ],
   "source": [
    "rf.feature_importances_"
   ]
  },
  {
   "cell_type": "code",
   "execution_count": null,
   "metadata": {
    "colab": {
     "base_uri": "https://localhost:8080/"
    },
    "id": "ggLOgvFwqGE6",
    "outputId": "e0f38843-2be6-42a1-cf8b-097224f567e8"
   },
   "outputs": [],
   "source": [
    "rf_small = RandomForestRegressor(n_estimators=100, max_depth = 3)\n",
    "rf_small.fit(X_train, y_train)"
   ]
  },
  {
   "cell_type": "code",
   "execution_count": null,
   "metadata": {
    "id": "1bmhbh-ftcJQ"
   },
   "outputs": [],
   "source": [
    "tree_small = rf_small.estimators_[5]\n",
    "export_graphviz(tree_small, out_file = 'small_tree.dot', feature_names = X_test.columns, rounded = True, precision = 1)\n"
   ]
  },
  {
   "cell_type": "code",
   "execution_count": null,
   "metadata": {
    "id": "9n1qo1nktwHy"
   },
   "outputs": [],
   "source": [
    "predict_small = rf_small.predict(X_test)"
   ]
  },
  {
   "cell_type": "code",
   "execution_count": null,
   "metadata": {
    "colab": {
     "base_uri": "https://localhost:8080/",
     "height": 391
    },
    "id": "6t2B1Y1Zu1Kq",
    "outputId": "4117be7c-44e6-4a1b-ca0f-e63b096e9c07"
   },
   "outputs": [],
   "source": [
    "compare['predict_small'] = predict_small\n",
    "compare.plot(kind='bar')"
   ]
  },
  {
   "cell_type": "code",
   "execution_count": null,
   "metadata": {
    "colab": {
     "base_uri": "https://localhost:8080/",
     "height": 391
    },
    "id": "Rpegj0j9u9Jp",
    "outputId": "24dcbfcb-da1f-4cbb-bfaa-1c8c9e391be3"
   },
   "outputs": [],
   "source": [
    "rf_small = RandomForestRegressor(n_estimators=100, max_depth = 2, random_state=18)\n",
    "rf_small.fit(X_train, y_train)\n",
    "predict_small = rf_small.predict(X_test)\n",
    "compare['predict_small'] = predict_small\n",
    "compare.plot(kind='bar')"
   ]
  },
  {
   "cell_type": "code",
   "execution_count": null,
   "metadata": {
    "colab": {
     "base_uri": "https://localhost:8080/",
     "height": 391
    },
    "id": "feL_bmF8vJ6x",
    "outputId": "9af01ab5-9d12-4a00-9e37-0cbf17c06863"
   },
   "outputs": [],
   "source": [
    "rf_small = RandomForestRegressor(n_estimators=1000, max_depth = 2)\n",
    "rf_small.fit(X_train, y_train)\n",
    "predict_small = rf_small.predict(X_test)\n",
    "compare['predict_small'] = predict_small\n",
    "compare.plot(kind='bar')"
   ]
  },
  {
   "cell_type": "code",
   "execution_count": null,
   "metadata": {
    "colab": {
     "base_uri": "https://localhost:8080/",
     "height": 391
    },
    "id": "-c_uIjUAvOaJ",
    "outputId": "956c20f7-f5c3-466c-aaa8-1b7a0aff3992"
   },
   "outputs": [],
   "source": [
    "rf_small = RandomForestRegressor(n_estimators=200, max_depth = 5,random_state =9)\n",
    "rf_small.fit(X_train, y_train)\n",
    "predict_small = rf_small.predict(X_test)\n",
    "compare['predict_small'] = predict_small\n",
    "compare.plot(kind='bar')"
   ]
  },
  {
   "cell_type": "code",
   "execution_count": null,
   "metadata": {
    "colab": {
     "base_uri": "https://localhost:8080/",
     "height": 175
    },
    "id": "mV3nYpjDv0j7",
    "outputId": "44f3b241-4d23-4cf2-eff8-5cc9708d438c"
   },
   "outputs": [],
   "source": [
    "feature_imp = pd.DataFrame(rf.feature_importances_,index=X_test.columns,columns=['Feature Importance'])\n",
    "feature_imp"
   ]
  },
  {
   "cell_type": "code",
   "execution_count": null,
   "metadata": {
    "colab": {
     "base_uri": "https://localhost:8080/",
     "height": 206
    },
    "id": "AodBpJCowoJL",
    "outputId": "fcc83240-a4c1-403c-d08c-cd5438f70694"
   },
   "outputs": [],
   "source": [
    "df.corr()"
   ]
  },
  {
   "cell_type": "code",
   "execution_count": null,
   "metadata": {
    "id": "inNXMFZXwVVp"
   },
   "outputs": [],
   "source": [
    "feature_imp['small'] = rf_small.feature_importances_\n",
    "feature_imp.columns = [['big','small']]"
   ]
  },
  {
   "cell_type": "code",
   "execution_count": null,
   "metadata": {
    "colab": {
     "base_uri": "https://localhost:8080/",
     "height": 175
    },
    "id": "Kx1piYYNwdUp",
    "outputId": "96811c2d-c433-4185-9f86-7fb23c182414"
   },
   "outputs": [],
   "source": [
    "feature_imp"
   ]
  },
  {
   "cell_type": "code",
   "execution_count": null,
   "metadata": {
    "colab": {
     "base_uri": "https://localhost:8080/",
     "height": 455
    },
    "id": "0O3wQfEGwxeu",
    "outputId": "f6e11d88-0c55-4a2e-8a61-8a19fd422cd0"
   },
   "outputs": [],
   "source": [
    "X_train"
   ]
  },
  {
   "cell_type": "code",
   "execution_count": null,
   "metadata": {
    "colab": {
     "base_uri": "https://localhost:8080/",
     "height": 455
    },
    "id": "0702vvclw5Io",
    "outputId": "957119ff-88b2-4934-a117-859b76e5e895"
   },
   "outputs": [],
   "source": [
    "new_X_train = X_train.iloc[:,2:]\n",
    "new_X_test = X_test.iloc[:,2:]\n",
    "new_X_train"
   ]
  },
  {
   "cell_type": "code",
   "execution_count": null,
   "metadata": {
    "colab": {
     "base_uri": "https://localhost:8080/",
     "height": 391
    },
    "id": "ecZbzcx3xHCz",
    "outputId": "f9f0893a-e5ad-48e8-ddec-45e065c9645d"
   },
   "outputs": [],
   "source": [
    "rf_new = RandomForestRegressor(n_estimators=200, max_depth =3,random_state =9)\n",
    "rf_new.fit(new_X_train, y_train)\n",
    "predict_new = rf_new.predict(new_X_test)\n",
    "compare['predict_new'] = predict_new\n",
    "compare.plot(kind='bar')"
   ]
  },
  {
   "cell_type": "code",
   "execution_count": null,
   "metadata": {
    "id": "5ndMNa-jx8Db"
   },
   "outputs": [],
   "source": []
  },
  {
   "cell_type": "code",
   "execution_count": null,
   "metadata": {},
   "outputs": [],
   "source": []
  },
  {
   "cell_type": "markdown",
   "metadata": {},
   "source": [
    "# Tuning"
   ]
  },
  {
   "cell_type": "code",
   "execution_count": 24,
   "metadata": {},
   "outputs": [],
   "source": [
    "from sklearn.metrics import mean_squared_error"
   ]
  },
  {
   "cell_type": "code",
   "execution_count": 56,
   "metadata": {},
   "outputs": [],
   "source": [
    "def rf(X_train,y_train,X_test,y_test,n_estimators = 100,criterion = \"squared_error\",max_depth=3):\n",
    "    rf = RandomForestRegressor(n_estimators = n_estimators,\n",
    "                              criterion = criterion,\n",
    "                              max_depth = max_depth)\n",
    "    rf.fit(X_train,y_train)\n",
    "    y_pred = rf.predict(X_test)\n",
    "    mse = mean_squared_error(y_test,y_pred)\n",
    "    return mse , y_pred\n",
    "    \n",
    "    \n",
    "    "
   ]
  },
  {
   "cell_type": "code",
   "execution_count": 40,
   "metadata": {},
   "outputs": [
    {
     "data": {
      "text/plain": [
       "0.00012942666057638876"
      ]
     },
     "execution_count": 40,
     "metadata": {},
     "output_type": "execute_result"
    }
   ],
   "source": [
    "rf(X_train,y_train,X_test,y_test)"
   ]
  },
  {
   "cell_type": "code",
   "execution_count": 57,
   "metadata": {},
   "outputs": [],
   "source": [
    "def grid_rf(X_train,y_train,X_test,y_test,n_estimators_choice,criterion_choice,max_depth):\n",
    "    result_list = []\n",
    "    for i in n_estimators_choice:\n",
    "        for j in criterion_choice:\n",
    "            for k in max_depth:\n",
    "                result,y_pred = rf(X_train,y_train,X_test,y_test,n_estimators = i,criterion = j,max_depth = k)\n",
    "                \n",
    "                compare = pd.DataFrame(y_test)\n",
    "                compare['predict'] = y_pred\n",
    "                \n",
    "                direction_ok = (compare.product(1)>0).sum()\n",
    "\n",
    "                result_list.append([i,j,k,result,direction_ok])\n",
    "    return result_list\n",
    "    "
   ]
  },
  {
   "cell_type": "code",
   "execution_count": 58,
   "metadata": {},
   "outputs": [
    {
     "data": {
      "text/plain": [
       "[[100, 'squared_error', 3, 0.00014192622817284012, 8],\n",
       " [100, 'squared_error', 4, 0.00013933561156404448, 8],\n",
       " [100, 'squared_error', 5, 0.00014300219534166657, 8],\n",
       " [100, 'absolute_error', 3, 0.00012837100240524647, 8],\n",
       " [100, 'absolute_error', 4, 0.00013065502843049944, 8],\n",
       " [100, 'absolute_error', 5, 0.00015087116246539776, 8],\n",
       " [200, 'squared_error', 3, 0.0001343358618213198, 8],\n",
       " [200, 'squared_error', 4, 0.00014230048413711583, 8],\n",
       " [200, 'squared_error', 5, 0.00013990243841277417, 8],\n",
       " [200, 'absolute_error', 3, 0.00012922510261807225, 9],\n",
       " [200, 'absolute_error', 4, 0.00013625368123364203, 8],\n",
       " [200, 'absolute_error', 5, 0.00013887575098022636, 8],\n",
       " [500, 'squared_error', 3, 0.00013152137480847986, 8],\n",
       " [500, 'squared_error', 4, 0.0001412755720566286, 8],\n",
       " [500, 'squared_error', 5, 0.00014713764056496724, 8],\n",
       " [500, 'absolute_error', 3, 0.0001345510572865744, 9],\n",
       " [500, 'absolute_error', 4, 0.00012977929072485107, 8],\n",
       " [500, 'absolute_error', 5, 0.00014114009683292888, 8]]"
      ]
     },
     "execution_count": 58,
     "metadata": {},
     "output_type": "execute_result"
    }
   ],
   "source": [
    "n = [100,200,500]\n",
    "d= [3,4,5]\n",
    "cri = ['squared_error','absolute_error']\n",
    "\n",
    "grid_rf(X_train,y_train,X_test,y_test,n_estimators_choice = n,criterion_choice = cri,max_depth = d)"
   ]
  },
  {
   "cell_type": "code",
   "execution_count": 59,
   "metadata": {},
   "outputs": [],
   "source": [
    "test= pd.DataFrame(grid_rf(X_train,y_train,X_test,y_test,n_estimators_choice = n,criterion_choice = cri,max_depth = d))"
   ]
  },
  {
   "cell_type": "code",
   "execution_count": 60,
   "metadata": {},
   "outputs": [],
   "source": [
    "test.columns = ['n_estimator','cri','depth','mse','correct']"
   ]
  },
  {
   "cell_type": "code",
   "execution_count": 61,
   "metadata": {},
   "outputs": [
    {
     "data": {
      "text/html": [
       "<div>\n",
       "<style scoped>\n",
       "    .dataframe tbody tr th:only-of-type {\n",
       "        vertical-align: middle;\n",
       "    }\n",
       "\n",
       "    .dataframe tbody tr th {\n",
       "        vertical-align: top;\n",
       "    }\n",
       "\n",
       "    .dataframe thead th {\n",
       "        text-align: right;\n",
       "    }\n",
       "</style>\n",
       "<table border=\"1\" class=\"dataframe\">\n",
       "  <thead>\n",
       "    <tr style=\"text-align: right;\">\n",
       "      <th></th>\n",
       "      <th>n_estimator</th>\n",
       "      <th>cri</th>\n",
       "      <th>depth</th>\n",
       "      <th>mse</th>\n",
       "      <th>correct</th>\n",
       "    </tr>\n",
       "  </thead>\n",
       "  <tbody>\n",
       "    <tr>\n",
       "      <th>0</th>\n",
       "      <td>100</td>\n",
       "      <td>squared_error</td>\n",
       "      <td>3</td>\n",
       "      <td>0.000137</td>\n",
       "      <td>8</td>\n",
       "    </tr>\n",
       "    <tr>\n",
       "      <th>1</th>\n",
       "      <td>100</td>\n",
       "      <td>squared_error</td>\n",
       "      <td>4</td>\n",
       "      <td>0.000143</td>\n",
       "      <td>9</td>\n",
       "    </tr>\n",
       "    <tr>\n",
       "      <th>2</th>\n",
       "      <td>100</td>\n",
       "      <td>squared_error</td>\n",
       "      <td>5</td>\n",
       "      <td>0.000142</td>\n",
       "      <td>8</td>\n",
       "    </tr>\n",
       "    <tr>\n",
       "      <th>3</th>\n",
       "      <td>100</td>\n",
       "      <td>absolute_error</td>\n",
       "      <td>3</td>\n",
       "      <td>0.000130</td>\n",
       "      <td>9</td>\n",
       "    </tr>\n",
       "    <tr>\n",
       "      <th>4</th>\n",
       "      <td>100</td>\n",
       "      <td>absolute_error</td>\n",
       "      <td>4</td>\n",
       "      <td>0.000137</td>\n",
       "      <td>9</td>\n",
       "    </tr>\n",
       "    <tr>\n",
       "      <th>5</th>\n",
       "      <td>100</td>\n",
       "      <td>absolute_error</td>\n",
       "      <td>5</td>\n",
       "      <td>0.000143</td>\n",
       "      <td>8</td>\n",
       "    </tr>\n",
       "    <tr>\n",
       "      <th>6</th>\n",
       "      <td>200</td>\n",
       "      <td>squared_error</td>\n",
       "      <td>3</td>\n",
       "      <td>0.000138</td>\n",
       "      <td>8</td>\n",
       "    </tr>\n",
       "    <tr>\n",
       "      <th>7</th>\n",
       "      <td>200</td>\n",
       "      <td>squared_error</td>\n",
       "      <td>4</td>\n",
       "      <td>0.000135</td>\n",
       "      <td>8</td>\n",
       "    </tr>\n",
       "    <tr>\n",
       "      <th>8</th>\n",
       "      <td>200</td>\n",
       "      <td>squared_error</td>\n",
       "      <td>5</td>\n",
       "      <td>0.000149</td>\n",
       "      <td>8</td>\n",
       "    </tr>\n",
       "    <tr>\n",
       "      <th>9</th>\n",
       "      <td>200</td>\n",
       "      <td>absolute_error</td>\n",
       "      <td>3</td>\n",
       "      <td>0.000134</td>\n",
       "      <td>9</td>\n",
       "    </tr>\n",
       "    <tr>\n",
       "      <th>10</th>\n",
       "      <td>200</td>\n",
       "      <td>absolute_error</td>\n",
       "      <td>4</td>\n",
       "      <td>0.000133</td>\n",
       "      <td>8</td>\n",
       "    </tr>\n",
       "    <tr>\n",
       "      <th>11</th>\n",
       "      <td>200</td>\n",
       "      <td>absolute_error</td>\n",
       "      <td>5</td>\n",
       "      <td>0.000141</td>\n",
       "      <td>8</td>\n",
       "    </tr>\n",
       "    <tr>\n",
       "      <th>12</th>\n",
       "      <td>500</td>\n",
       "      <td>squared_error</td>\n",
       "      <td>3</td>\n",
       "      <td>0.000137</td>\n",
       "      <td>8</td>\n",
       "    </tr>\n",
       "    <tr>\n",
       "      <th>13</th>\n",
       "      <td>500</td>\n",
       "      <td>squared_error</td>\n",
       "      <td>4</td>\n",
       "      <td>0.000139</td>\n",
       "      <td>8</td>\n",
       "    </tr>\n",
       "    <tr>\n",
       "      <th>14</th>\n",
       "      <td>500</td>\n",
       "      <td>squared_error</td>\n",
       "      <td>5</td>\n",
       "      <td>0.000150</td>\n",
       "      <td>8</td>\n",
       "    </tr>\n",
       "    <tr>\n",
       "      <th>15</th>\n",
       "      <td>500</td>\n",
       "      <td>absolute_error</td>\n",
       "      <td>3</td>\n",
       "      <td>0.000125</td>\n",
       "      <td>9</td>\n",
       "    </tr>\n",
       "    <tr>\n",
       "      <th>16</th>\n",
       "      <td>500</td>\n",
       "      <td>absolute_error</td>\n",
       "      <td>4</td>\n",
       "      <td>0.000136</td>\n",
       "      <td>8</td>\n",
       "    </tr>\n",
       "    <tr>\n",
       "      <th>17</th>\n",
       "      <td>500</td>\n",
       "      <td>absolute_error</td>\n",
       "      <td>5</td>\n",
       "      <td>0.000141</td>\n",
       "      <td>9</td>\n",
       "    </tr>\n",
       "  </tbody>\n",
       "</table>\n",
       "</div>"
      ],
      "text/plain": [
       "    n_estimator             cri  depth       mse  correct\n",
       "0           100   squared_error      3  0.000137        8\n",
       "1           100   squared_error      4  0.000143        9\n",
       "2           100   squared_error      5  0.000142        8\n",
       "3           100  absolute_error      3  0.000130        9\n",
       "4           100  absolute_error      4  0.000137        9\n",
       "5           100  absolute_error      5  0.000143        8\n",
       "6           200   squared_error      3  0.000138        8\n",
       "7           200   squared_error      4  0.000135        8\n",
       "8           200   squared_error      5  0.000149        8\n",
       "9           200  absolute_error      3  0.000134        9\n",
       "10          200  absolute_error      4  0.000133        8\n",
       "11          200  absolute_error      5  0.000141        8\n",
       "12          500   squared_error      3  0.000137        8\n",
       "13          500   squared_error      4  0.000139        8\n",
       "14          500   squared_error      5  0.000150        8\n",
       "15          500  absolute_error      3  0.000125        9\n",
       "16          500  absolute_error      4  0.000136        8\n",
       "17          500  absolute_error      5  0.000141        9"
      ]
     },
     "execution_count": 61,
     "metadata": {},
     "output_type": "execute_result"
    }
   ],
   "source": [
    "test"
   ]
  },
  {
   "cell_type": "code",
   "execution_count": 67,
   "metadata": {},
   "outputs": [
    {
     "data": {
      "text/html": [
       "<div>\n",
       "<style scoped>\n",
       "    .dataframe tbody tr th:only-of-type {\n",
       "        vertical-align: middle;\n",
       "    }\n",
       "\n",
       "    .dataframe tbody tr th {\n",
       "        vertical-align: top;\n",
       "    }\n",
       "\n",
       "    .dataframe thead th {\n",
       "        text-align: right;\n",
       "    }\n",
       "</style>\n",
       "<table border=\"1\" class=\"dataframe\">\n",
       "  <thead>\n",
       "    <tr style=\"text-align: right;\">\n",
       "      <th></th>\n",
       "      <th>n_estimator</th>\n",
       "      <th>cri</th>\n",
       "      <th>depth</th>\n",
       "      <th>mse</th>\n",
       "      <th>correct</th>\n",
       "    </tr>\n",
       "  </thead>\n",
       "  <tbody>\n",
       "    <tr>\n",
       "      <th>15</th>\n",
       "      <td>500</td>\n",
       "      <td>absolute_error</td>\n",
       "      <td>3</td>\n",
       "      <td>0.000125</td>\n",
       "      <td>9</td>\n",
       "    </tr>\n",
       "    <tr>\n",
       "      <th>3</th>\n",
       "      <td>100</td>\n",
       "      <td>absolute_error</td>\n",
       "      <td>3</td>\n",
       "      <td>0.000130</td>\n",
       "      <td>9</td>\n",
       "    </tr>\n",
       "    <tr>\n",
       "      <th>9</th>\n",
       "      <td>200</td>\n",
       "      <td>absolute_error</td>\n",
       "      <td>3</td>\n",
       "      <td>0.000134</td>\n",
       "      <td>9</td>\n",
       "    </tr>\n",
       "    <tr>\n",
       "      <th>4</th>\n",
       "      <td>100</td>\n",
       "      <td>absolute_error</td>\n",
       "      <td>4</td>\n",
       "      <td>0.000137</td>\n",
       "      <td>9</td>\n",
       "    </tr>\n",
       "    <tr>\n",
       "      <th>17</th>\n",
       "      <td>500</td>\n",
       "      <td>absolute_error</td>\n",
       "      <td>5</td>\n",
       "      <td>0.000141</td>\n",
       "      <td>9</td>\n",
       "    </tr>\n",
       "    <tr>\n",
       "      <th>1</th>\n",
       "      <td>100</td>\n",
       "      <td>squared_error</td>\n",
       "      <td>4</td>\n",
       "      <td>0.000143</td>\n",
       "      <td>9</td>\n",
       "    </tr>\n",
       "    <tr>\n",
       "      <th>10</th>\n",
       "      <td>200</td>\n",
       "      <td>absolute_error</td>\n",
       "      <td>4</td>\n",
       "      <td>0.000133</td>\n",
       "      <td>8</td>\n",
       "    </tr>\n",
       "    <tr>\n",
       "      <th>7</th>\n",
       "      <td>200</td>\n",
       "      <td>squared_error</td>\n",
       "      <td>4</td>\n",
       "      <td>0.000135</td>\n",
       "      <td>8</td>\n",
       "    </tr>\n",
       "    <tr>\n",
       "      <th>16</th>\n",
       "      <td>500</td>\n",
       "      <td>absolute_error</td>\n",
       "      <td>4</td>\n",
       "      <td>0.000136</td>\n",
       "      <td>8</td>\n",
       "    </tr>\n",
       "    <tr>\n",
       "      <th>0</th>\n",
       "      <td>100</td>\n",
       "      <td>squared_error</td>\n",
       "      <td>3</td>\n",
       "      <td>0.000137</td>\n",
       "      <td>8</td>\n",
       "    </tr>\n",
       "    <tr>\n",
       "      <th>12</th>\n",
       "      <td>500</td>\n",
       "      <td>squared_error</td>\n",
       "      <td>3</td>\n",
       "      <td>0.000137</td>\n",
       "      <td>8</td>\n",
       "    </tr>\n",
       "    <tr>\n",
       "      <th>6</th>\n",
       "      <td>200</td>\n",
       "      <td>squared_error</td>\n",
       "      <td>3</td>\n",
       "      <td>0.000138</td>\n",
       "      <td>8</td>\n",
       "    </tr>\n",
       "    <tr>\n",
       "      <th>13</th>\n",
       "      <td>500</td>\n",
       "      <td>squared_error</td>\n",
       "      <td>4</td>\n",
       "      <td>0.000139</td>\n",
       "      <td>8</td>\n",
       "    </tr>\n",
       "    <tr>\n",
       "      <th>11</th>\n",
       "      <td>200</td>\n",
       "      <td>absolute_error</td>\n",
       "      <td>5</td>\n",
       "      <td>0.000141</td>\n",
       "      <td>8</td>\n",
       "    </tr>\n",
       "    <tr>\n",
       "      <th>2</th>\n",
       "      <td>100</td>\n",
       "      <td>squared_error</td>\n",
       "      <td>5</td>\n",
       "      <td>0.000142</td>\n",
       "      <td>8</td>\n",
       "    </tr>\n",
       "    <tr>\n",
       "      <th>5</th>\n",
       "      <td>100</td>\n",
       "      <td>absolute_error</td>\n",
       "      <td>5</td>\n",
       "      <td>0.000143</td>\n",
       "      <td>8</td>\n",
       "    </tr>\n",
       "    <tr>\n",
       "      <th>8</th>\n",
       "      <td>200</td>\n",
       "      <td>squared_error</td>\n",
       "      <td>5</td>\n",
       "      <td>0.000149</td>\n",
       "      <td>8</td>\n",
       "    </tr>\n",
       "    <tr>\n",
       "      <th>14</th>\n",
       "      <td>500</td>\n",
       "      <td>squared_error</td>\n",
       "      <td>5</td>\n",
       "      <td>0.000150</td>\n",
       "      <td>8</td>\n",
       "    </tr>\n",
       "  </tbody>\n",
       "</table>\n",
       "</div>"
      ],
      "text/plain": [
       "    n_estimator             cri  depth       mse  correct\n",
       "15          500  absolute_error      3  0.000125        9\n",
       "3           100  absolute_error      3  0.000130        9\n",
       "9           200  absolute_error      3  0.000134        9\n",
       "4           100  absolute_error      4  0.000137        9\n",
       "17          500  absolute_error      5  0.000141        9\n",
       "1           100   squared_error      4  0.000143        9\n",
       "10          200  absolute_error      4  0.000133        8\n",
       "7           200   squared_error      4  0.000135        8\n",
       "16          500  absolute_error      4  0.000136        8\n",
       "0           100   squared_error      3  0.000137        8\n",
       "12          500   squared_error      3  0.000137        8\n",
       "6           200   squared_error      3  0.000138        8\n",
       "13          500   squared_error      4  0.000139        8\n",
       "11          200  absolute_error      5  0.000141        8\n",
       "2           100   squared_error      5  0.000142        8\n",
       "5           100  absolute_error      5  0.000143        8\n",
       "8           200   squared_error      5  0.000149        8\n",
       "14          500   squared_error      5  0.000150        8"
      ]
     },
     "execution_count": 67,
     "metadata": {},
     "output_type": "execute_result"
    }
   ],
   "source": [
    "test.sort_values(['correct','mse'],ascending=[False,True])"
   ]
  },
  {
   "cell_type": "code",
   "execution_count": 48,
   "metadata": {},
   "outputs": [
    {
     "data": {
      "text/html": [
       "<div>\n",
       "<style scoped>\n",
       "    .dataframe tbody tr th:only-of-type {\n",
       "        vertical-align: middle;\n",
       "    }\n",
       "\n",
       "    .dataframe tbody tr th {\n",
       "        vertical-align: top;\n",
       "    }\n",
       "\n",
       "    .dataframe thead th {\n",
       "        text-align: right;\n",
       "    }\n",
       "</style>\n",
       "<table border=\"1\" class=\"dataframe\">\n",
       "  <thead>\n",
       "    <tr style=\"text-align: right;\">\n",
       "      <th></th>\n",
       "      <th>n_estimator</th>\n",
       "      <th>cri</th>\n",
       "      <th>depth</th>\n",
       "      <th>mse</th>\n",
       "    </tr>\n",
       "  </thead>\n",
       "  <tbody>\n",
       "    <tr>\n",
       "      <th>3</th>\n",
       "      <td>100</td>\n",
       "      <td>absolute_error</td>\n",
       "      <td>3</td>\n",
       "      <td>0.000127</td>\n",
       "    </tr>\n",
       "  </tbody>\n",
       "</table>\n",
       "</div>"
      ],
      "text/plain": [
       "   n_estimator             cri  depth       mse\n",
       "3          100  absolute_error      3  0.000127"
      ]
     },
     "execution_count": 48,
     "metadata": {},
     "output_type": "execute_result"
    }
   ],
   "source": [
    "test.loc[test.mse == test.mse.min()]"
   ]
  },
  {
   "cell_type": "code",
   "execution_count": 50,
   "metadata": {},
   "outputs": [
    {
     "data": {
      "text/plain": [
       "<AxesSubplot:xlabel='Date'>"
      ]
     },
     "execution_count": 50,
     "metadata": {},
     "output_type": "execute_result"
    },
    {
     "data": {
      "image/png": "[encoded data removed]",
      "text/plain": [
       "<Figure size 432x288 with 1 Axes>"
      ]
     },
     "metadata": {
      "needs_background": "light"
     },
     "output_type": "display_data"
    }
   ],
   "source": [
    "compare.plot(kind='bar')"
   ]
  },
  {
   "cell_type": "code",
   "execution_count": 51,
   "metadata": {},
   "outputs": [
    {
     "data": {
      "text/plain": [
       "<AxesSubplot:xlabel='Date'>"
      ]
     },
     "execution_count": 51,
     "metadata": {},
     "output_type": "execute_result"
    },
    {
     "data": {
      "image/png": "[encoded data removed]",
      "text/plain": [
       "<Figure size 432x288 with 1 Axes>"
      ]
     },
     "metadata": {
      "needs_background": "light"
     },
     "output_type": "display_data"
    }
   ],
   "source": [
    "compare[compare['PTT.BK']>0].plot(kind='bar')"
   ]
  },
  {
   "cell_type": "code",
   "execution_count": 52,
   "metadata": {},
   "outputs": [
    {
     "data": {
      "text/plain": [
       "<AxesSubplot:xlabel='Date'>"
      ]
     },
     "execution_count": 52,
     "metadata": {},
     "output_type": "execute_result"
    },
    {
     "data": {
      "image/png": "[encoded data removed]",
      "text/plain": [
       "<Figure size 432x288 with 1 Axes>"
      ]
     },
     "metadata": {
      "needs_background": "light"
     },
     "output_type": "display_data"
    }
   ],
   "source": [
    "compare[compare['PTT.BK']<0].plot(kind='bar')"
   ]
  },
  {
   "cell_type": "code",
   "execution_count": 55,
   "metadata": {},
   "outputs": [
    {
     "data": {
      "text/plain": [
       "Date\n",
       "2021-09-02    0.000102\n",
       "2021-09-10   -0.000149\n",
       "2021-09-21    0.000112\n",
       "2021-09-27    0.000227\n",
       "2021-10-05    0.000182\n",
       "2021-10-07   -0.000094\n",
       "2021-10-11   -0.000021\n",
       "2021-10-14   -0.000069\n",
       "2021-10-15    0.000045\n",
       "2021-10-18    0.000224\n",
       "2021-10-19    0.000168\n",
       "2021-10-21   -0.000024\n",
       "2021-10-26   -0.000022\n",
       "2021-10-28    0.000204\n",
       "2021-10-29   -0.000009\n",
       "dtype: float64"
      ]
     },
     "execution_count": 55,
     "metadata": {},
     "output_type": "execute_result"
    }
   ],
   "source": [
    "# คูณเพื่อดูว่าทำนายไปทางเดียวกับค่าจริงไหม\n",
    "compare.product(axis=1)"
   ]
  },
  {
   "cell_type": "code",
   "execution_count": null,
   "metadata": {},
   "outputs": [],
   "source": []
  }
 ],
 "metadata": {
  "colab": {
   "provenance": []
  },
  "kernelspec": {
   "display_name": "Python 3 (ipykernel)",
   "language": "python",
   "name": "python3"
  },
  "language_info": {
   "codemirror_mode": {
    "name": "ipython",
    "version": 3
   },
   "file_extension": ".py",
   "mimetype": "text/x-python",
   "name": "python",
   "nbconvert_exporter": "python",
   "pygments_lexer": "ipython3",
   "version": "3.9.7"
  }
 },
 "nbformat": 4,
 "nbformat_minor": 1
}
