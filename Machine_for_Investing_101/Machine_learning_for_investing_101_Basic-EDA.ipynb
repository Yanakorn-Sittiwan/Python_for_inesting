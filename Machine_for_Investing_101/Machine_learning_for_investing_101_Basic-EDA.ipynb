{
 "cells": [
  {
   "cell_type": "code",
   "execution_count": 1,
   "id": "a854d3b7",
   "metadata": {},
   "outputs": [
    {
     "name": "stdout",
     "output_type": "stream",
     "text": [
      "Requirement already satisfied: yfinance in c:\\users\\yanak\\anaconda3\\lib\\site-packages (0.1.87)\n",
      "Requirement already satisfied: numpy>=1.15 in c:\\users\\yanak\\anaconda3\\lib\\site-packages (from yfinance) (1.20.3)\n",
      "Requirement already satisfied: multitasking>=0.0.7 in c:\\users\\yanak\\anaconda3\\lib\\site-packages (from yfinance) (0.0.11)\n",
      "Requirement already satisfied: lxml>=4.5.1 in c:\\users\\yanak\\anaconda3\\lib\\site-packages (from yfinance) (4.6.3)\n",
      "Requirement already satisfied: requests>=2.26 in c:\\users\\yanak\\anaconda3\\lib\\site-packages (from yfinance) (2.26.0)\n",
      "Requirement already satisfied: appdirs>=1.4.4 in c:\\users\\yanak\\anaconda3\\lib\\site-packages (from yfinance) (1.4.4)\n",
      "Requirement already satisfied: pandas>=0.24.0 in c:\\users\\yanak\\anaconda3\\lib\\site-packages (from yfinance) (1.4.3)\n",
      "Requirement already satisfied: python-dateutil>=2.8.1 in c:\\users\\yanak\\anaconda3\\lib\\site-packages (from pandas>=0.24.0->yfinance) (2.8.2)\n",
      "Requirement already satisfied: pytz>=2020.1 in c:\\users\\yanak\\anaconda3\\lib\\site-packages (from pandas>=0.24.0->yfinance) (2021.3)\n",
      "Requirement already satisfied: certifi>=2017.4.17 in c:\\users\\yanak\\anaconda3\\lib\\site-packages (from requests>=2.26->yfinance) (2022.9.24)\n",
      "Requirement already satisfied: charset-normalizer~=2.0.0 in c:\\users\\yanak\\anaconda3\\lib\\site-packages (from requests>=2.26->yfinance) (2.0.4)\n",
      "Requirement already satisfied: idna<4,>=2.5 in c:\\users\\yanak\\anaconda3\\lib\\site-packages (from requests>=2.26->yfinance) (3.2)\n",
      "Requirement already satisfied: urllib3<1.27,>=1.21.1 in c:\\users\\yanak\\anaconda3\\lib\\site-packages (from requests>=2.26->yfinance) (1.26.7)\n",
      "Requirement already satisfied: six>=1.5 in c:\\users\\yanak\\anaconda3\\lib\\site-packages (from python-dateutil>=2.8.1->pandas>=0.24.0->yfinance) (1.16.0)\n"
     ]
    }
   ],
   "source": [
    "!pip install yfinance"
   ]
  },
  {
   "cell_type": "code",
   "execution_count": 2,
   "id": "6869554a",
   "metadata": {},
   "outputs": [],
   "source": [
    "import pandas as pd\n",
    "import numpy as np\n",
    "import yfinance as yf\n",
    "import matplotlib.pyplot as plt"
   ]
  },
  {
   "cell_type": "code",
   "execution_count": 3,
   "id": "cba823da",
   "metadata": {},
   "outputs": [
    {
     "name": "stdout",
     "output_type": "stream",
     "text": [
      "[*********************100%***********************]  1 of 1 completed\n"
     ]
    }
   ],
   "source": [
    "data = yf.download('CL=F', start='2016-01-01', end='2021-10-01')"
   ]
  },
  {
   "cell_type": "code",
   "execution_count": 4,
   "id": "7fb00455",
   "metadata": {},
   "outputs": [
    {
     "data": {
      "text/html": [
       "<div>\n",
       "<style scoped>\n",
       "    .dataframe tbody tr th:only-of-type {\n",
       "        vertical-align: middle;\n",
       "    }\n",
       "\n",
       "    .dataframe tbody tr th {\n",
       "        vertical-align: top;\n",
       "    }\n",
       "\n",
       "    .dataframe thead th {\n",
       "        text-align: right;\n",
       "    }\n",
       "</style>\n",
       "<table border=\"1\" class=\"dataframe\">\n",
       "  <thead>\n",
       "    <tr style=\"text-align: right;\">\n",
       "      <th></th>\n",
       "      <th>Open</th>\n",
       "      <th>High</th>\n",
       "      <th>Low</th>\n",
       "      <th>Close</th>\n",
       "      <th>Adj Close</th>\n",
       "      <th>Volume</th>\n",
       "    </tr>\n",
       "    <tr>\n",
       "      <th>Date</th>\n",
       "      <th></th>\n",
       "      <th></th>\n",
       "      <th></th>\n",
       "      <th></th>\n",
       "      <th></th>\n",
       "      <th></th>\n",
       "    </tr>\n",
       "  </thead>\n",
       "  <tbody>\n",
       "    <tr>\n",
       "      <th>2016-01-04</th>\n",
       "      <td>37.599998</td>\n",
       "      <td>38.389999</td>\n",
       "      <td>36.330002</td>\n",
       "      <td>36.759998</td>\n",
       "      <td>36.759998</td>\n",
       "      <td>431985</td>\n",
       "    </tr>\n",
       "    <tr>\n",
       "      <th>2016-01-05</th>\n",
       "      <td>36.900002</td>\n",
       "      <td>37.099998</td>\n",
       "      <td>35.740002</td>\n",
       "      <td>35.970001</td>\n",
       "      <td>35.970001</td>\n",
       "      <td>410131</td>\n",
       "    </tr>\n",
       "    <tr>\n",
       "      <th>2016-01-06</th>\n",
       "      <td>36.180000</td>\n",
       "      <td>36.389999</td>\n",
       "      <td>33.770000</td>\n",
       "      <td>33.970001</td>\n",
       "      <td>33.970001</td>\n",
       "      <td>563811</td>\n",
       "    </tr>\n",
       "    <tr>\n",
       "      <th>2016-01-07</th>\n",
       "      <td>34.090000</td>\n",
       "      <td>34.259998</td>\n",
       "      <td>32.099998</td>\n",
       "      <td>33.270000</td>\n",
       "      <td>33.270000</td>\n",
       "      <td>617409</td>\n",
       "    </tr>\n",
       "    <tr>\n",
       "      <th>2016-01-08</th>\n",
       "      <td>33.299999</td>\n",
       "      <td>34.340000</td>\n",
       "      <td>32.639999</td>\n",
       "      <td>33.160000</td>\n",
       "      <td>33.160000</td>\n",
       "      <td>596496</td>\n",
       "    </tr>\n",
       "    <tr>\n",
       "      <th>...</th>\n",
       "      <td>...</td>\n",
       "      <td>...</td>\n",
       "      <td>...</td>\n",
       "      <td>...</td>\n",
       "      <td>...</td>\n",
       "      <td>...</td>\n",
       "    </tr>\n",
       "    <tr>\n",
       "      <th>2021-09-24</th>\n",
       "      <td>73.239998</td>\n",
       "      <td>74.269997</td>\n",
       "      <td>72.809998</td>\n",
       "      <td>73.980003</td>\n",
       "      <td>73.980003</td>\n",
       "      <td>350382</td>\n",
       "    </tr>\n",
       "    <tr>\n",
       "      <th>2021-09-27</th>\n",
       "      <td>74.190002</td>\n",
       "      <td>75.750000</td>\n",
       "      <td>74.160004</td>\n",
       "      <td>75.449997</td>\n",
       "      <td>75.449997</td>\n",
       "      <td>417829</td>\n",
       "    </tr>\n",
       "    <tr>\n",
       "      <th>2021-09-28</th>\n",
       "      <td>75.430000</td>\n",
       "      <td>76.669998</td>\n",
       "      <td>74.239998</td>\n",
       "      <td>75.290001</td>\n",
       "      <td>75.290001</td>\n",
       "      <td>476143</td>\n",
       "    </tr>\n",
       "    <tr>\n",
       "      <th>2021-09-29</th>\n",
       "      <td>74.379997</td>\n",
       "      <td>75.790001</td>\n",
       "      <td>73.739998</td>\n",
       "      <td>74.830002</td>\n",
       "      <td>74.830002</td>\n",
       "      <td>424193</td>\n",
       "    </tr>\n",
       "    <tr>\n",
       "      <th>2021-09-30</th>\n",
       "      <td>74.779999</td>\n",
       "      <td>76.070000</td>\n",
       "      <td>73.139999</td>\n",
       "      <td>75.029999</td>\n",
       "      <td>75.029999</td>\n",
       "      <td>583189</td>\n",
       "    </tr>\n",
       "  </tbody>\n",
       "</table>\n",
       "<p>1445 rows × 6 columns</p>\n",
       "</div>"
      ],
      "text/plain": [
       "                 Open       High        Low      Close  Adj Close  Volume\n",
       "Date                                                                     \n",
       "2016-01-04  37.599998  38.389999  36.330002  36.759998  36.759998  431985\n",
       "2016-01-05  36.900002  37.099998  35.740002  35.970001  35.970001  410131\n",
       "2016-01-06  36.180000  36.389999  33.770000  33.970001  33.970001  563811\n",
       "2016-01-07  34.090000  34.259998  32.099998  33.270000  33.270000  617409\n",
       "2016-01-08  33.299999  34.340000  32.639999  33.160000  33.160000  596496\n",
       "...               ...        ...        ...        ...        ...     ...\n",
       "2021-09-24  73.239998  74.269997  72.809998  73.980003  73.980003  350382\n",
       "2021-09-27  74.190002  75.750000  74.160004  75.449997  75.449997  417829\n",
       "2021-09-28  75.430000  76.669998  74.239998  75.290001  75.290001  476143\n",
       "2021-09-29  74.379997  75.790001  73.739998  74.830002  74.830002  424193\n",
       "2021-09-30  74.779999  76.070000  73.139999  75.029999  75.029999  583189\n",
       "\n",
       "[1445 rows x 6 columns]"
      ]
     },
     "execution_count": 4,
     "metadata": {},
     "output_type": "execute_result"
    }
   ],
   "source": [
    "data"
   ]
  },
  {
   "cell_type": "markdown",
   "id": "890d237d",
   "metadata": {},
   "source": [
    "# Nan check"
   ]
  },
  {
   "cell_type": "code",
   "execution_count": 5,
   "id": "09c69af0",
   "metadata": {},
   "outputs": [
    {
     "name": "stdout",
     "output_type": "stream",
     "text": [
      "<class 'pandas.core.frame.DataFrame'>\n",
      "DatetimeIndex: 1445 entries, 2016-01-04 to 2021-09-30\n",
      "Data columns (total 6 columns):\n",
      " #   Column     Non-Null Count  Dtype  \n",
      "---  ------     --------------  -----  \n",
      " 0   Open       1445 non-null   float64\n",
      " 1   High       1445 non-null   float64\n",
      " 2   Low        1445 non-null   float64\n",
      " 3   Close      1445 non-null   float64\n",
      " 4   Adj Close  1445 non-null   float64\n",
      " 5   Volume     1445 non-null   int64  \n",
      "dtypes: float64(5), int64(1)\n",
      "memory usage: 79.0 KB\n"
     ]
    }
   ],
   "source": [
    "data.info()"
   ]
  },
  {
   "cell_type": "code",
   "execution_count": 6,
   "id": "35925479",
   "metadata": {},
   "outputs": [
    {
     "data": {
      "text/plain": [
       "<AxesSubplot:xlabel='Date'>"
      ]
     },
     "execution_count": 6,
     "metadata": {},
     "output_type": "execute_result"
    },
    {
     "data": {
      "image/png": "[encoded data removed]",
      "text/plain": [
       "<Figure size 720x504 with 1 Axes>"
      ]
     },
     "metadata": {
      "needs_background": "light"
     },
     "output_type": "display_data"
    }
   ],
   "source": [
    "data['Adj Close'].plot(figsize=(10,7))"
   ]
  },
  {
   "cell_type": "markdown",
   "id": "04582d5a",
   "metadata": {},
   "source": [
    "# Return"
   ]
  },
  {
   "cell_type": "code",
   "execution_count": 7,
   "id": "d554640b",
   "metadata": {},
   "outputs": [],
   "source": [
    "data['return'] = data['Close'].pct_change()"
   ]
  },
  {
   "cell_type": "code",
   "execution_count": 8,
   "id": "743f4e51",
   "metadata": {},
   "outputs": [
    {
     "data": {
      "text/plain": [
       "<AxesSubplot:xlabel='Date'>"
      ]
     },
     "execution_count": 8,
     "metadata": {},
     "output_type": "execute_result"
    },
    {
     "data": {
      "image/png": "[encoded data removed]",
      "text/plain": [
       "<Figure size 720x504 with 1 Axes>"
      ]
     },
     "metadata": {
      "needs_background": "light"
     },
     "output_type": "display_data"
    }
   ],
   "source": [
    "data['return'].plot(figsize=(10,7))"
   ]
  },
  {
   "cell_type": "markdown",
   "id": "68e2494a",
   "metadata": {},
   "source": [
    "### histogram"
   ]
  },
  {
   "cell_type": "code",
   "execution_count": 12,
   "id": "60101fc9",
   "metadata": {},
   "outputs": [
    {
     "data": {
      "text/plain": [
       "(array([1.000e+00, 0.000e+00, 0.000e+00, 0.000e+00, 0.000e+00, 0.000e+00,\n",
       "        0.000e+00, 0.000e+00, 0.000e+00, 0.000e+00, 0.000e+00, 0.000e+00,\n",
       "        0.000e+00, 0.000e+00, 0.000e+00, 0.000e+00, 0.000e+00, 0.000e+00,\n",
       "        0.000e+00, 0.000e+00, 0.000e+00, 0.000e+00, 0.000e+00, 0.000e+00,\n",
       "        0.000e+00, 0.000e+00, 1.000e+00, 0.000e+00, 0.000e+00, 0.000e+00,\n",
       "        0.000e+00, 0.000e+00, 0.000e+00, 0.000e+00, 0.000e+00, 0.000e+00,\n",
       "        0.000e+00, 0.000e+00, 0.000e+00, 0.000e+00, 3.000e+00, 0.000e+00,\n",
       "        1.000e+00, 8.500e+01, 1.265e+03, 7.600e+01, 5.000e+00, 4.000e+00,\n",
       "        2.000e+00, 1.000e+00]),\n",
       " array([-3.05966065, -2.99093497, -2.92220929, -2.85348361, -2.78475794,\n",
       "        -2.71603226, -2.64730658, -2.5785809 , -2.50985522, -2.44112954,\n",
       "        -2.37240386, -2.30367818, -2.2349525 , -2.16622682, -2.09750114,\n",
       "        -2.02877546, -1.96004978, -1.8913241 , -1.82259842, -1.75387274,\n",
       "        -1.68514706, -1.61642138, -1.54769571, -1.47897003, -1.41024435,\n",
       "        -1.34151867, -1.27279299, -1.20406731, -1.13534163, -1.06661595,\n",
       "        -0.99789027, -0.92916459, -0.86043891, -0.79171323, -0.72298755,\n",
       "        -0.65426187, -0.58553619, -0.51681051, -0.44808483, -0.37935916,\n",
       "        -0.31063348, -0.2419078 , -0.17318212, -0.10445644, -0.03573076,\n",
       "         0.03299492,  0.1017206 ,  0.17044628,  0.23917196,  0.30789764,\n",
       "         0.37662332]),\n",
       " <BarContainer object of 50 artists>)"
      ]
     },
     "execution_count": 12,
     "metadata": {},
     "output_type": "execute_result"
    },
    {
     "data": {
      "image/png": "[encoded data removed]",
      "text/plain": [
       "<Figure size 432x288 with 1 Axes>"
      ]
     },
     "metadata": {
      "needs_background": "light"
     },
     "output_type": "display_data"
    }
   ],
   "source": [
    "plt.hist(data['return'], bins=50)"
   ]
  },
  {
   "cell_type": "markdown",
   "id": "ba09e4b8",
   "metadata": {},
   "source": [
    "### boxplot"
   ]
  },
  {
   "cell_type": "code",
   "execution_count": 13,
   "id": "63b77b39",
   "metadata": {},
   "outputs": [
    {
     "data": {
      "text/plain": [
       "Text(0.5, 1.0, 'Boxplot of US Oil Price')"
      ]
     },
     "execution_count": 13,
     "metadata": {},
     "output_type": "execute_result"
    },
    {
     "data": {
      "image/png": "[encoded data removed]",
      "text/plain": [
       "<Figure size 432x288 with 1 Axes>"
      ]
     },
     "metadata": {
      "needs_background": "light"
     },
     "output_type": "display_data"
    }
   ],
   "source": [
    "data.boxplot(column = 'return')\n",
    "plt.title('Boxplot of US Oil Price')"
   ]
  },
  {
   "cell_type": "code",
   "execution_count": null,
   "id": "778f1b02",
   "metadata": {},
   "outputs": [],
   "source": []
  }
 ],
 "metadata": {
  "kernelspec": {
   "display_name": "Python 3 (ipykernel)",
   "language": "python",
   "name": "python3"
  },
  "language_info": {
   "codemirror_mode": {
    "name": "ipython",
    "version": 3
   },
   "file_extension": ".py",
   "mimetype": "text/x-python",
   "name": "python",
   "nbconvert_exporter": "python",
   "pygments_lexer": "ipython3",
   "version": "3.9.7"
  }
 },
 "nbformat": 4,
 "nbformat_minor": 5
}
