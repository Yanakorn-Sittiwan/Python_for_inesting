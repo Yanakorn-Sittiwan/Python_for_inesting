{
 "cells": [
  {
   "cell_type": "code",
   "execution_count": 1,
   "id": "6244f957",
   "metadata": {},
   "outputs": [],
   "source": [
    "import pandas as pd\n",
    "import numpy as np\n",
    "import matplotlib.pyplot as plt"
   ]
  },
  {
   "cell_type": "code",
   "execution_count": 2,
   "id": "15589f6a",
   "metadata": {},
   "outputs": [],
   "source": [
    "data = pd.read_excel('setsmart_example_ratios.xlsx',engine= 'openpyxl',header=1)\n"
   ]
  },
  {
   "cell_type": "code",
   "execution_count": 4,
   "id": "8c6b3841",
   "metadata": {},
   "outputs": [
    {
     "data": {
      "text/html": [
       "<div>\n",
       "<style scoped>\n",
       "    .dataframe tbody tr th:only-of-type {\n",
       "        vertical-align: middle;\n",
       "    }\n",
       "\n",
       "    .dataframe tbody tr th {\n",
       "        vertical-align: top;\n",
       "    }\n",
       "\n",
       "    .dataframe thead th {\n",
       "        text-align: right;\n",
       "    }\n",
       "</style>\n",
       "<table border=\"1\" class=\"dataframe\">\n",
       "  <thead>\n",
       "    <tr style=\"text-align: right;\">\n",
       "      <th></th>\n",
       "      <th>Date</th>\n",
       "      <th>Market</th>\n",
       "      <th>Symbol</th>\n",
       "      <th>Prior</th>\n",
       "      <th>Open</th>\n",
       "      <th>High</th>\n",
       "      <th>Low</th>\n",
       "      <th>Close</th>\n",
       "      <th>Change</th>\n",
       "      <th>%Change</th>\n",
       "      <th>...</th>\n",
       "      <th>Market Cap</th>\n",
       "      <th>PE</th>\n",
       "      <th>PEG</th>\n",
       "      <th>PBV</th>\n",
       "      <th>BVPS</th>\n",
       "      <th>Dividend Yield</th>\n",
       "      <th>12M Dividend Yield</th>\n",
       "      <th>Volume Turnover</th>\n",
       "      <th>Par</th>\n",
       "      <th>Listed Share</th>\n",
       "    </tr>\n",
       "  </thead>\n",
       "  <tbody>\n",
       "    <tr>\n",
       "      <th>0</th>\n",
       "      <td>2021-09-30</td>\n",
       "      <td>SET</td>\n",
       "      <td>AOT</td>\n",
       "      <td>62.00</td>\n",
       "      <td>61.75</td>\n",
       "      <td>62.00</td>\n",
       "      <td>60.50</td>\n",
       "      <td>61.00</td>\n",
       "      <td>-1.00</td>\n",
       "      <td>-1.612903</td>\n",
       "      <td>...</td>\n",
       "      <td>871427700000</td>\n",
       "      <td>NaN</td>\n",
       "      <td>NaN</td>\n",
       "      <td>7.42</td>\n",
       "      <td>8.220</td>\n",
       "      <td>0.31</td>\n",
       "      <td>0.31</td>\n",
       "      <td>0.23</td>\n",
       "      <td>1</td>\n",
       "      <td>14285700000</td>\n",
       "    </tr>\n",
       "    <tr>\n",
       "      <th>1</th>\n",
       "      <td>2021-09-29</td>\n",
       "      <td>SET</td>\n",
       "      <td>AOT</td>\n",
       "      <td>62.00</td>\n",
       "      <td>62.00</td>\n",
       "      <td>62.75</td>\n",
       "      <td>61.75</td>\n",
       "      <td>62.00</td>\n",
       "      <td>0.00</td>\n",
       "      <td>0.000000</td>\n",
       "      <td>...</td>\n",
       "      <td>885713400000</td>\n",
       "      <td>NaN</td>\n",
       "      <td>NaN</td>\n",
       "      <td>7.54</td>\n",
       "      <td>8.220</td>\n",
       "      <td>0.31</td>\n",
       "      <td>0.31</td>\n",
       "      <td>0.11</td>\n",
       "      <td>1</td>\n",
       "      <td>14285700000</td>\n",
       "    </tr>\n",
       "    <tr>\n",
       "      <th>2</th>\n",
       "      <td>2021-09-28</td>\n",
       "      <td>SET</td>\n",
       "      <td>AOT</td>\n",
       "      <td>62.25</td>\n",
       "      <td>62.25</td>\n",
       "      <td>62.75</td>\n",
       "      <td>61.50</td>\n",
       "      <td>62.00</td>\n",
       "      <td>-0.25</td>\n",
       "      <td>-0.401606</td>\n",
       "      <td>...</td>\n",
       "      <td>885713400000</td>\n",
       "      <td>NaN</td>\n",
       "      <td>NaN</td>\n",
       "      <td>7.54</td>\n",
       "      <td>8.220</td>\n",
       "      <td>0.31</td>\n",
       "      <td>0.31</td>\n",
       "      <td>0.16</td>\n",
       "      <td>1</td>\n",
       "      <td>14285700000</td>\n",
       "    </tr>\n",
       "    <tr>\n",
       "      <th>3</th>\n",
       "      <td>2021-09-27</td>\n",
       "      <td>SET</td>\n",
       "      <td>AOT</td>\n",
       "      <td>62.50</td>\n",
       "      <td>62.50</td>\n",
       "      <td>63.25</td>\n",
       "      <td>62.00</td>\n",
       "      <td>62.25</td>\n",
       "      <td>-0.25</td>\n",
       "      <td>-0.400000</td>\n",
       "      <td>...</td>\n",
       "      <td>889284825000</td>\n",
       "      <td>NaN</td>\n",
       "      <td>NaN</td>\n",
       "      <td>7.57</td>\n",
       "      <td>8.220</td>\n",
       "      <td>0.31</td>\n",
       "      <td>0.31</td>\n",
       "      <td>0.19</td>\n",
       "      <td>1</td>\n",
       "      <td>14285700000</td>\n",
       "    </tr>\n",
       "    <tr>\n",
       "      <th>4</th>\n",
       "      <td>2021-09-23</td>\n",
       "      <td>SET</td>\n",
       "      <td>AOT</td>\n",
       "      <td>62.25</td>\n",
       "      <td>62.25</td>\n",
       "      <td>63.00</td>\n",
       "      <td>62.25</td>\n",
       "      <td>62.50</td>\n",
       "      <td>0.25</td>\n",
       "      <td>0.401606</td>\n",
       "      <td>...</td>\n",
       "      <td>892856250000</td>\n",
       "      <td>NaN</td>\n",
       "      <td>NaN</td>\n",
       "      <td>7.60</td>\n",
       "      <td>8.220</td>\n",
       "      <td>0.30</td>\n",
       "      <td>0.30</td>\n",
       "      <td>0.20</td>\n",
       "      <td>1</td>\n",
       "      <td>14285700000</td>\n",
       "    </tr>\n",
       "    <tr>\n",
       "      <th>...</th>\n",
       "      <td>...</td>\n",
       "      <td>...</td>\n",
       "      <td>...</td>\n",
       "      <td>...</td>\n",
       "      <td>...</td>\n",
       "      <td>...</td>\n",
       "      <td>...</td>\n",
       "      <td>...</td>\n",
       "      <td>...</td>\n",
       "      <td>...</td>\n",
       "      <td>...</td>\n",
       "      <td>...</td>\n",
       "      <td>...</td>\n",
       "      <td>...</td>\n",
       "      <td>...</td>\n",
       "      <td>...</td>\n",
       "      <td>...</td>\n",
       "      <td>...</td>\n",
       "      <td>...</td>\n",
       "      <td>...</td>\n",
       "      <td>...</td>\n",
       "    </tr>\n",
       "    <tr>\n",
       "      <th>1395</th>\n",
       "      <td>2016-01-08</td>\n",
       "      <td>SET</td>\n",
       "      <td>AOT</td>\n",
       "      <td>337.00</td>\n",
       "      <td>339.00</td>\n",
       "      <td>341.00</td>\n",
       "      <td>336.00</td>\n",
       "      <td>338.00</td>\n",
       "      <td>1.00</td>\n",
       "      <td>0.296736</td>\n",
       "      <td>...</td>\n",
       "      <td>482856660000</td>\n",
       "      <td>25.78</td>\n",
       "      <td>NaN</td>\n",
       "      <td>4.45</td>\n",
       "      <td>7.601</td>\n",
       "      <td>1.93</td>\n",
       "      <td>NaN</td>\n",
       "      <td>0.20</td>\n",
       "      <td>10</td>\n",
       "      <td>1428570000</td>\n",
       "    </tr>\n",
       "    <tr>\n",
       "      <th>1396</th>\n",
       "      <td>2016-01-07</td>\n",
       "      <td>SET</td>\n",
       "      <td>AOT</td>\n",
       "      <td>340.00</td>\n",
       "      <td>338.00</td>\n",
       "      <td>338.00</td>\n",
       "      <td>333.00</td>\n",
       "      <td>337.00</td>\n",
       "      <td>-3.00</td>\n",
       "      <td>-0.882353</td>\n",
       "      <td>...</td>\n",
       "      <td>481428090000</td>\n",
       "      <td>25.71</td>\n",
       "      <td>NaN</td>\n",
       "      <td>4.43</td>\n",
       "      <td>7.601</td>\n",
       "      <td>1.94</td>\n",
       "      <td>NaN</td>\n",
       "      <td>0.25</td>\n",
       "      <td>10</td>\n",
       "      <td>1428570000</td>\n",
       "    </tr>\n",
       "    <tr>\n",
       "      <th>1397</th>\n",
       "      <td>2016-01-06</td>\n",
       "      <td>SET</td>\n",
       "      <td>AOT</td>\n",
       "      <td>340.00</td>\n",
       "      <td>340.00</td>\n",
       "      <td>343.00</td>\n",
       "      <td>338.00</td>\n",
       "      <td>340.00</td>\n",
       "      <td>0.00</td>\n",
       "      <td>0.000000</td>\n",
       "      <td>...</td>\n",
       "      <td>485713800000</td>\n",
       "      <td>25.93</td>\n",
       "      <td>NaN</td>\n",
       "      <td>4.47</td>\n",
       "      <td>7.601</td>\n",
       "      <td>1.92</td>\n",
       "      <td>NaN</td>\n",
       "      <td>0.20</td>\n",
       "      <td>10</td>\n",
       "      <td>1428570000</td>\n",
       "    </tr>\n",
       "    <tr>\n",
       "      <th>1398</th>\n",
       "      <td>2016-01-05</td>\n",
       "      <td>SET</td>\n",
       "      <td>AOT</td>\n",
       "      <td>343.00</td>\n",
       "      <td>344.00</td>\n",
       "      <td>345.00</td>\n",
       "      <td>339.00</td>\n",
       "      <td>340.00</td>\n",
       "      <td>-3.00</td>\n",
       "      <td>-0.874636</td>\n",
       "      <td>...</td>\n",
       "      <td>485713800000</td>\n",
       "      <td>25.93</td>\n",
       "      <td>NaN</td>\n",
       "      <td>4.47</td>\n",
       "      <td>7.601</td>\n",
       "      <td>1.92</td>\n",
       "      <td>NaN</td>\n",
       "      <td>0.22</td>\n",
       "      <td>10</td>\n",
       "      <td>1428570000</td>\n",
       "    </tr>\n",
       "    <tr>\n",
       "      <th>1399</th>\n",
       "      <td>2016-01-04</td>\n",
       "      <td>SET</td>\n",
       "      <td>AOT</td>\n",
       "      <td>346.00</td>\n",
       "      <td>349.00</td>\n",
       "      <td>351.00</td>\n",
       "      <td>339.00</td>\n",
       "      <td>343.00</td>\n",
       "      <td>-3.00</td>\n",
       "      <td>-0.867052</td>\n",
       "      <td>...</td>\n",
       "      <td>489999510000</td>\n",
       "      <td>26.16</td>\n",
       "      <td>NaN</td>\n",
       "      <td>4.51</td>\n",
       "      <td>7.601</td>\n",
       "      <td>1.91</td>\n",
       "      <td>NaN</td>\n",
       "      <td>0.21</td>\n",
       "      <td>10</td>\n",
       "      <td>1428570000</td>\n",
       "    </tr>\n",
       "  </tbody>\n",
       "</table>\n",
       "<p>1400 rows × 27 columns</p>\n",
       "</div>"
      ],
      "text/plain": [
       "           Date Market Symbol   Prior    Open    High     Low   Close  Change  \\\n",
       "0    2021-09-30    SET    AOT   62.00   61.75   62.00   60.50   61.00   -1.00   \n",
       "1    2021-09-29    SET    AOT   62.00   62.00   62.75   61.75   62.00    0.00   \n",
       "2    2021-09-28    SET    AOT   62.25   62.25   62.75   61.50   62.00   -0.25   \n",
       "3    2021-09-27    SET    AOT   62.50   62.50   63.25   62.00   62.25   -0.25   \n",
       "4    2021-09-23    SET    AOT   62.25   62.25   63.00   62.25   62.50    0.25   \n",
       "...         ...    ...    ...     ...     ...     ...     ...     ...     ...   \n",
       "1395 2016-01-08    SET    AOT  337.00  339.00  341.00  336.00  338.00    1.00   \n",
       "1396 2016-01-07    SET    AOT  340.00  338.00  338.00  333.00  337.00   -3.00   \n",
       "1397 2016-01-06    SET    AOT  340.00  340.00  343.00  338.00  340.00    0.00   \n",
       "1398 2016-01-05    SET    AOT  343.00  344.00  345.00  339.00  340.00   -3.00   \n",
       "1399 2016-01-04    SET    AOT  346.00  349.00  351.00  339.00  343.00   -3.00   \n",
       "\n",
       "       %Change  ...    Market Cap     PE  PEG   PBV   BVPS  Dividend Yield  \\\n",
       "0    -1.612903  ...  871427700000    NaN  NaN  7.42  8.220            0.31   \n",
       "1     0.000000  ...  885713400000    NaN  NaN  7.54  8.220            0.31   \n",
       "2    -0.401606  ...  885713400000    NaN  NaN  7.54  8.220            0.31   \n",
       "3    -0.400000  ...  889284825000    NaN  NaN  7.57  8.220            0.31   \n",
       "4     0.401606  ...  892856250000    NaN  NaN  7.60  8.220            0.30   \n",
       "...        ...  ...           ...    ...  ...   ...    ...             ...   \n",
       "1395  0.296736  ...  482856660000  25.78  NaN  4.45  7.601            1.93   \n",
       "1396 -0.882353  ...  481428090000  25.71  NaN  4.43  7.601            1.94   \n",
       "1397  0.000000  ...  485713800000  25.93  NaN  4.47  7.601            1.92   \n",
       "1398 -0.874636  ...  485713800000  25.93  NaN  4.47  7.601            1.92   \n",
       "1399 -0.867052  ...  489999510000  26.16  NaN  4.51  7.601            1.91   \n",
       "\n",
       "      12M Dividend Yield  Volume Turnover  Par  Listed Share  \n",
       "0                   0.31             0.23    1   14285700000  \n",
       "1                   0.31             0.11    1   14285700000  \n",
       "2                   0.31             0.16    1   14285700000  \n",
       "3                   0.31             0.19    1   14285700000  \n",
       "4                   0.30             0.20    1   14285700000  \n",
       "...                  ...              ...  ...           ...  \n",
       "1395                 NaN             0.20   10    1428570000  \n",
       "1396                 NaN             0.25   10    1428570000  \n",
       "1397                 NaN             0.20   10    1428570000  \n",
       "1398                 NaN             0.22   10    1428570000  \n",
       "1399                 NaN             0.21   10    1428570000  \n",
       "\n",
       "[1400 rows x 27 columns]"
      ]
     },
     "execution_count": 4,
     "metadata": {},
     "output_type": "execute_result"
    }
   ],
   "source": [
    "data"
   ]
  },
  {
   "cell_type": "code",
   "execution_count": 7,
   "id": "e975877d",
   "metadata": {},
   "outputs": [],
   "source": [
    "df = data[['Date','Prior','Open','High','Low','Close','%Change','Market Cap' ,'PE','PEG','PBV','BVPS']].set_index('Date')"
   ]
  },
  {
   "cell_type": "code",
   "execution_count": 8,
   "id": "564a0595",
   "metadata": {},
   "outputs": [
    {
     "data": {
      "text/html": [
       "<div>\n",
       "<style scoped>\n",
       "    .dataframe tbody tr th:only-of-type {\n",
       "        vertical-align: middle;\n",
       "    }\n",
       "\n",
       "    .dataframe tbody tr th {\n",
       "        vertical-align: top;\n",
       "    }\n",
       "\n",
       "    .dataframe thead th {\n",
       "        text-align: right;\n",
       "    }\n",
       "</style>\n",
       "<table border=\"1\" class=\"dataframe\">\n",
       "  <thead>\n",
       "    <tr style=\"text-align: right;\">\n",
       "      <th></th>\n",
       "      <th>Prior</th>\n",
       "      <th>Open</th>\n",
       "      <th>High</th>\n",
       "      <th>Low</th>\n",
       "      <th>Close</th>\n",
       "      <th>%Change</th>\n",
       "      <th>Market Cap</th>\n",
       "      <th>PE</th>\n",
       "      <th>PEG</th>\n",
       "      <th>PBV</th>\n",
       "      <th>BVPS</th>\n",
       "    </tr>\n",
       "    <tr>\n",
       "      <th>Date</th>\n",
       "      <th></th>\n",
       "      <th></th>\n",
       "      <th></th>\n",
       "      <th></th>\n",
       "      <th></th>\n",
       "      <th></th>\n",
       "      <th></th>\n",
       "      <th></th>\n",
       "      <th></th>\n",
       "      <th></th>\n",
       "      <th></th>\n",
       "    </tr>\n",
       "  </thead>\n",
       "  <tbody>\n",
       "    <tr>\n",
       "      <th>2021-09-30</th>\n",
       "      <td>62.00</td>\n",
       "      <td>61.75</td>\n",
       "      <td>62.00</td>\n",
       "      <td>60.50</td>\n",
       "      <td>61.00</td>\n",
       "      <td>-1.612903</td>\n",
       "      <td>871427700000</td>\n",
       "      <td>NaN</td>\n",
       "      <td>NaN</td>\n",
       "      <td>7.42</td>\n",
       "      <td>8.22</td>\n",
       "    </tr>\n",
       "    <tr>\n",
       "      <th>2021-09-29</th>\n",
       "      <td>62.00</td>\n",
       "      <td>62.00</td>\n",
       "      <td>62.75</td>\n",
       "      <td>61.75</td>\n",
       "      <td>62.00</td>\n",
       "      <td>0.000000</td>\n",
       "      <td>885713400000</td>\n",
       "      <td>NaN</td>\n",
       "      <td>NaN</td>\n",
       "      <td>7.54</td>\n",
       "      <td>8.22</td>\n",
       "    </tr>\n",
       "    <tr>\n",
       "      <th>2021-09-28</th>\n",
       "      <td>62.25</td>\n",
       "      <td>62.25</td>\n",
       "      <td>62.75</td>\n",
       "      <td>61.50</td>\n",
       "      <td>62.00</td>\n",
       "      <td>-0.401606</td>\n",
       "      <td>885713400000</td>\n",
       "      <td>NaN</td>\n",
       "      <td>NaN</td>\n",
       "      <td>7.54</td>\n",
       "      <td>8.22</td>\n",
       "    </tr>\n",
       "    <tr>\n",
       "      <th>2021-09-27</th>\n",
       "      <td>62.50</td>\n",
       "      <td>62.50</td>\n",
       "      <td>63.25</td>\n",
       "      <td>62.00</td>\n",
       "      <td>62.25</td>\n",
       "      <td>-0.400000</td>\n",
       "      <td>889284825000</td>\n",
       "      <td>NaN</td>\n",
       "      <td>NaN</td>\n",
       "      <td>7.57</td>\n",
       "      <td>8.22</td>\n",
       "    </tr>\n",
       "    <tr>\n",
       "      <th>2021-09-23</th>\n",
       "      <td>62.25</td>\n",
       "      <td>62.25</td>\n",
       "      <td>63.00</td>\n",
       "      <td>62.25</td>\n",
       "      <td>62.50</td>\n",
       "      <td>0.401606</td>\n",
       "      <td>892856250000</td>\n",
       "      <td>NaN</td>\n",
       "      <td>NaN</td>\n",
       "      <td>7.60</td>\n",
       "      <td>8.22</td>\n",
       "    </tr>\n",
       "  </tbody>\n",
       "</table>\n",
       "</div>"
      ],
      "text/plain": [
       "            Prior   Open   High    Low  Close   %Change    Market Cap  PE  \\\n",
       "Date                                                                        \n",
       "2021-09-30  62.00  61.75  62.00  60.50  61.00 -1.612903  871427700000 NaN   \n",
       "2021-09-29  62.00  62.00  62.75  61.75  62.00  0.000000  885713400000 NaN   \n",
       "2021-09-28  62.25  62.25  62.75  61.50  62.00 -0.401606  885713400000 NaN   \n",
       "2021-09-27  62.50  62.50  63.25  62.00  62.25 -0.400000  889284825000 NaN   \n",
       "2021-09-23  62.25  62.25  63.00  62.25  62.50  0.401606  892856250000 NaN   \n",
       "\n",
       "            PEG   PBV  BVPS  \n",
       "Date                         \n",
       "2021-09-30  NaN  7.42  8.22  \n",
       "2021-09-29  NaN  7.54  8.22  \n",
       "2021-09-28  NaN  7.54  8.22  \n",
       "2021-09-27  NaN  7.57  8.22  \n",
       "2021-09-23  NaN  7.60  8.22  "
      ]
     },
     "execution_count": 8,
     "metadata": {},
     "output_type": "execute_result"
    }
   ],
   "source": [
    "df.head()"
   ]
  },
  {
   "cell_type": "code",
   "execution_count": 9,
   "id": "a7477d67",
   "metadata": {},
   "outputs": [
    {
     "data": {
      "text/plain": [
       "<AxesSubplot:xlabel='Date'>"
      ]
     },
     "execution_count": 9,
     "metadata": {},
     "output_type": "execute_result"
    },
    {
     "data": {
      "image/png": "[encoded data removed]",
      "text/plain": [
       "<Figure size 432x288 with 1 Axes>"
      ]
     },
     "metadata": {
      "needs_background": "light"
     },
     "output_type": "display_data"
    }
   ],
   "source": [
    "df.Close.plot()"
   ]
  },
  {
   "cell_type": "code",
   "execution_count": 12,
   "id": "34b381dd",
   "metadata": {},
   "outputs": [
    {
     "data": {
      "text/plain": [
       "<AxesSubplot:xlabel='Date'>"
      ]
     },
     "execution_count": 12,
     "metadata": {},
     "output_type": "execute_result"
    },
    {
     "data": {
      "image/png": "[encoded data removed]",
      "text/plain": [
       "<Figure size 432x288 with 1 Axes>"
      ]
     },
     "metadata": {
      "needs_background": "light"
     },
     "output_type": "display_data"
    }
   ],
   "source": [
    "df.PBV.plot()"
   ]
  },
  {
   "cell_type": "code",
   "execution_count": 13,
   "id": "d3a991f4",
   "metadata": {},
   "outputs": [
    {
     "data": {
      "text/plain": [
       "<AxesSubplot:>"
      ]
     },
     "execution_count": 13,
     "metadata": {},
     "output_type": "execute_result"
    },
    {
     "data": {
      "image/png": "[encoded data removed]",
      "text/plain": [
       "<Figure size 432x288 with 1 Axes>"
      ]
     },
     "metadata": {
      "needs_background": "light"
     },
     "output_type": "display_data"
    }
   ],
   "source": [
    "df.PBV.plot(kind='box')"
   ]
  },
  {
   "cell_type": "code",
   "execution_count": 15,
   "id": "3c609b12",
   "metadata": {},
   "outputs": [
    {
     "data": {
      "text/plain": [
       "<AxesSubplot:>"
      ]
     },
     "execution_count": 15,
     "metadata": {},
     "output_type": "execute_result"
    },
    {
     "data": {
      "image/png": "[encoded data removed]",
      "text/plain": [
       "<Figure size 432x288 with 1 Axes>"
      ]
     },
     "metadata": {
      "needs_background": "light"
     },
     "output_type": "display_data"
    }
   ],
   "source": [
    "df.PBV.hist(bins=50)"
   ]
  },
  {
   "cell_type": "code",
   "execution_count": 16,
   "id": "367b1d69",
   "metadata": {},
   "outputs": [],
   "source": [
    "set_data = pd.read_excel('set_index.xlsx',engine= 'openpyxl',header=1)"
   ]
  },
  {
   "cell_type": "code",
   "execution_count": 17,
   "id": "db53afb9",
   "metadata": {},
   "outputs": [
    {
     "data": {
      "text/html": [
       "<div>\n",
       "<style scoped>\n",
       "    .dataframe tbody tr th:only-of-type {\n",
       "        vertical-align: middle;\n",
       "    }\n",
       "\n",
       "    .dataframe tbody tr th {\n",
       "        vertical-align: top;\n",
       "    }\n",
       "\n",
       "    .dataframe thead th {\n",
       "        text-align: right;\n",
       "    }\n",
       "</style>\n",
       "<table border=\"1\" class=\"dataframe\">\n",
       "  <thead>\n",
       "    <tr style=\"text-align: right;\">\n",
       "      <th></th>\n",
       "      <th>Condition</th>\n",
       "      <th>Unnamed: 1</th>\n",
       "      <th>Unnamed: 2</th>\n",
       "      <th>Date</th>\n",
       "      <th>Market</th>\n",
       "      <th>Symbol</th>\n",
       "      <th>Prior</th>\n",
       "      <th>Open</th>\n",
       "      <th>High</th>\n",
       "      <th>Low</th>\n",
       "      <th>...</th>\n",
       "      <th>Change</th>\n",
       "      <th>%Change</th>\n",
       "      <th>Total Volume</th>\n",
       "      <th>Total Value</th>\n",
       "      <th>Market Cap</th>\n",
       "      <th>PE</th>\n",
       "      <th>PBV</th>\n",
       "      <th>Dividend Yield</th>\n",
       "      <th>Volume Turnover</th>\n",
       "      <th>EPS</th>\n",
       "    </tr>\n",
       "  </thead>\n",
       "  <tbody>\n",
       "    <tr>\n",
       "      <th>0</th>\n",
       "      <td>Tab name</td>\n",
       "      <td>Index Price &amp; Statistics</td>\n",
       "      <td>NaN</td>\n",
       "      <td>2021-11-03</td>\n",
       "      <td>SET</td>\n",
       "      <td>SET</td>\n",
       "      <td>1617.89</td>\n",
       "      <td>1620.90</td>\n",
       "      <td>1623.08</td>\n",
       "      <td>1607.72</td>\n",
       "      <td>...</td>\n",
       "      <td>-5.97</td>\n",
       "      <td>-0.368999</td>\n",
       "      <td>32052867145</td>\n",
       "      <td>8.472733e+10</td>\n",
       "      <td>1.886440e+13</td>\n",
       "      <td>20.87</td>\n",
       "      <td>1.75</td>\n",
       "      <td>2.19</td>\n",
       "      <td>1.61</td>\n",
       "      <td>77.236224</td>\n",
       "    </tr>\n",
       "    <tr>\n",
       "      <th>1</th>\n",
       "      <td>Historical Index Price</td>\n",
       "      <td>Yes</td>\n",
       "      <td>NaN</td>\n",
       "      <td>2021-11-02</td>\n",
       "      <td>SET</td>\n",
       "      <td>SET</td>\n",
       "      <td>1613.78</td>\n",
       "      <td>1616.86</td>\n",
       "      <td>1621.69</td>\n",
       "      <td>1608.64</td>\n",
       "      <td>...</td>\n",
       "      <td>4.11</td>\n",
       "      <td>0.254682</td>\n",
       "      <td>28890427303</td>\n",
       "      <td>7.690088e+10</td>\n",
       "      <td>1.893607e+13</td>\n",
       "      <td>20.96</td>\n",
       "      <td>1.76</td>\n",
       "      <td>2.18</td>\n",
       "      <td>1.44</td>\n",
       "      <td>77.189408</td>\n",
       "    </tr>\n",
       "    <tr>\n",
       "      <th>2</th>\n",
       "      <td>Index Statistics</td>\n",
       "      <td>Yes</td>\n",
       "      <td>NaN</td>\n",
       "      <td>2021-11-01</td>\n",
       "      <td>SET</td>\n",
       "      <td>SET</td>\n",
       "      <td>1623.43</td>\n",
       "      <td>1627.54</td>\n",
       "      <td>1632.73</td>\n",
       "      <td>1611.39</td>\n",
       "      <td>...</td>\n",
       "      <td>-9.65</td>\n",
       "      <td>-0.594420</td>\n",
       "      <td>28456413612</td>\n",
       "      <td>6.980613e+10</td>\n",
       "      <td>1.888837e+13</td>\n",
       "      <td>20.89</td>\n",
       "      <td>1.76</td>\n",
       "      <td>2.19</td>\n",
       "      <td>1.42</td>\n",
       "      <td>77.251316</td>\n",
       "    </tr>\n",
       "    <tr>\n",
       "      <th>3</th>\n",
       "      <td>View by</td>\n",
       "      <td>SET &amp; mai Index Series</td>\n",
       "      <td>NaN</td>\n",
       "      <td>2021-10-29</td>\n",
       "      <td>SET</td>\n",
       "      <td>SET</td>\n",
       "      <td>1624.31</td>\n",
       "      <td>1627.01</td>\n",
       "      <td>1629.25</td>\n",
       "      <td>1619.14</td>\n",
       "      <td>...</td>\n",
       "      <td>-0.88</td>\n",
       "      <td>-0.054177</td>\n",
       "      <td>26233053198</td>\n",
       "      <td>6.674749e+10</td>\n",
       "      <td>1.900165e+13</td>\n",
       "      <td>21.02</td>\n",
       "      <td>1.77</td>\n",
       "      <td>2.18</td>\n",
       "      <td>1.31</td>\n",
       "      <td>77.232636</td>\n",
       "    </tr>\n",
       "    <tr>\n",
       "      <th>4</th>\n",
       "      <td>Start date</td>\n",
       "      <td>01/01/2016</td>\n",
       "      <td>NaN</td>\n",
       "      <td>2021-10-28</td>\n",
       "      <td>SET</td>\n",
       "      <td>SET</td>\n",
       "      <td>1627.61</td>\n",
       "      <td>1626.27</td>\n",
       "      <td>1632.30</td>\n",
       "      <td>1622.56</td>\n",
       "      <td>...</td>\n",
       "      <td>-3.30</td>\n",
       "      <td>-0.202751</td>\n",
       "      <td>28588211925</td>\n",
       "      <td>7.409600e+10</td>\n",
       "      <td>1.900313e+13</td>\n",
       "      <td>20.81</td>\n",
       "      <td>1.75</td>\n",
       "      <td>2.21</td>\n",
       "      <td>1.43</td>\n",
       "      <td>78.054301</td>\n",
       "    </tr>\n",
       "  </tbody>\n",
       "</table>\n",
       "<p>5 rows × 21 columns</p>\n",
       "</div>"
      ],
      "text/plain": [
       "                Condition                Unnamed: 1  Unnamed: 2       Date  \\\n",
       "0                Tab name  Index Price & Statistics         NaN 2021-11-03   \n",
       "1  Historical Index Price                       Yes         NaN 2021-11-02   \n",
       "2        Index Statistics                       Yes         NaN 2021-11-01   \n",
       "3                 View by    SET & mai Index Series         NaN 2021-10-29   \n",
       "4              Start date                01/01/2016         NaN 2021-10-28   \n",
       "\n",
       "  Market Symbol    Prior     Open     High      Low  ...  Change   %Change  \\\n",
       "0    SET    SET  1617.89  1620.90  1623.08  1607.72  ...   -5.97 -0.368999   \n",
       "1    SET    SET  1613.78  1616.86  1621.69  1608.64  ...    4.11  0.254682   \n",
       "2    SET    SET  1623.43  1627.54  1632.73  1611.39  ...   -9.65 -0.594420   \n",
       "3    SET    SET  1624.31  1627.01  1629.25  1619.14  ...   -0.88 -0.054177   \n",
       "4    SET    SET  1627.61  1626.27  1632.30  1622.56  ...   -3.30 -0.202751   \n",
       "\n",
       "   Total Volume   Total Value    Market Cap     PE   PBV  Dividend Yield  \\\n",
       "0   32052867145  8.472733e+10  1.886440e+13  20.87  1.75            2.19   \n",
       "1   28890427303  7.690088e+10  1.893607e+13  20.96  1.76            2.18   \n",
       "2   28456413612  6.980613e+10  1.888837e+13  20.89  1.76            2.19   \n",
       "3   26233053198  6.674749e+10  1.900165e+13  21.02  1.77            2.18   \n",
       "4   28588211925  7.409600e+10  1.900313e+13  20.81  1.75            2.21   \n",
       "\n",
       "   Volume Turnover        EPS  \n",
       "0             1.61  77.236224  \n",
       "1             1.44  77.189408  \n",
       "2             1.42  77.251316  \n",
       "3             1.31  77.232636  \n",
       "4             1.43  78.054301  \n",
       "\n",
       "[5 rows x 21 columns]"
      ]
     },
     "execution_count": 17,
     "metadata": {},
     "output_type": "execute_result"
    }
   ],
   "source": [
    "set_data.head()"
   ]
  },
  {
   "cell_type": "code",
   "execution_count": 18,
   "id": "8f6d36d7",
   "metadata": {},
   "outputs": [],
   "source": [
    "set_df= set_data[['Date','PE','PBV','%Change','Market Cap' ]].set_index('Date')"
   ]
  },
  {
   "cell_type": "code",
   "execution_count": 19,
   "id": "37c30664",
   "metadata": {},
   "outputs": [
    {
     "data": {
      "text/plain": [
       "<AxesSubplot:xlabel='Date'>"
      ]
     },
     "execution_count": 19,
     "metadata": {},
     "output_type": "execute_result"
    },
    {
     "data": {
      "image/png": "[encoded data removed]",
      "text/plain": [
       "<Figure size 432x288 with 1 Axes>"
      ]
     },
     "metadata": {
      "needs_background": "light"
     },
     "output_type": "display_data"
    }
   ],
   "source": [
    "set_df.PBV.plot()"
   ]
  },
  {
   "cell_type": "code",
   "execution_count": 20,
   "id": "c364633d",
   "metadata": {},
   "outputs": [],
   "source": [
    "AOTtosetpb = df.PBV/set_df.PBV"
   ]
  },
  {
   "cell_type": "code",
   "execution_count": 21,
   "id": "0fa7e34f",
   "metadata": {},
   "outputs": [
    {
     "data": {
      "text/plain": [
       "<AxesSubplot:xlabel='Date'>"
      ]
     },
     "execution_count": 21,
     "metadata": {},
     "output_type": "execute_result"
    },
    {
     "data": {
      "image/png": "[encoded data removed]",
      "text/plain": [
       "<Figure size 432x288 with 1 Axes>"
      ]
     },
     "metadata": {
      "needs_background": "light"
     },
     "output_type": "display_data"
    }
   ],
   "source": [
    "AOTtosetpb.plot()"
   ]
  },
  {
   "cell_type": "code",
   "execution_count": 23,
   "id": "6cca7d0a",
   "metadata": {},
   "outputs": [
    {
     "data": {
      "text/plain": [
       "<AxesSubplot:xlabel='Date'>"
      ]
     },
     "execution_count": 23,
     "metadata": {},
     "output_type": "execute_result"
    },
    {
     "data": {
      "image/png": "[encoded data removed]",
      "text/plain": [
       "<Figure size 432x288 with 1 Axes>"
      ]
     },
     "metadata": {
      "needs_background": "light"
     },
     "output_type": "display_data"
    }
   ],
   "source": [
    "AOTtosetpb.loc[:'2018'].plot()"
   ]
  },
  {
   "cell_type": "code",
   "execution_count": 24,
   "id": "b66cbf56",
   "metadata": {},
   "outputs": [],
   "source": [
    "bband = pd.DataFrame(AOTtosetpb.loc[:'2018']).sort_index(ascending=True)"
   ]
  },
  {
   "cell_type": "code",
   "execution_count": 25,
   "id": "36ad4df4",
   "metadata": {},
   "outputs": [
    {
     "data": {
      "text/html": [
       "<div>\n",
       "<style scoped>\n",
       "    .dataframe tbody tr th:only-of-type {\n",
       "        vertical-align: middle;\n",
       "    }\n",
       "\n",
       "    .dataframe tbody tr th {\n",
       "        vertical-align: top;\n",
       "    }\n",
       "\n",
       "    .dataframe thead th {\n",
       "        text-align: right;\n",
       "    }\n",
       "</style>\n",
       "<table border=\"1\" class=\"dataframe\">\n",
       "  <thead>\n",
       "    <tr style=\"text-align: right;\">\n",
       "      <th></th>\n",
       "      <th>PBV</th>\n",
       "    </tr>\n",
       "    <tr>\n",
       "      <th>Date</th>\n",
       "      <th></th>\n",
       "    </tr>\n",
       "  </thead>\n",
       "  <tbody>\n",
       "    <tr>\n",
       "      <th>2016-01-04</th>\n",
       "      <td>2.652941</td>\n",
       "    </tr>\n",
       "    <tr>\n",
       "      <th>2016-01-05</th>\n",
       "      <td>2.644970</td>\n",
       "    </tr>\n",
       "    <tr>\n",
       "      <th>2016-01-06</th>\n",
       "      <td>2.629412</td>\n",
       "    </tr>\n",
       "    <tr>\n",
       "      <th>2016-01-07</th>\n",
       "      <td>2.684848</td>\n",
       "    </tr>\n",
       "    <tr>\n",
       "      <th>2016-01-08</th>\n",
       "      <td>2.648810</td>\n",
       "    </tr>\n",
       "    <tr>\n",
       "      <th>...</th>\n",
       "      <td>...</td>\n",
       "    </tr>\n",
       "    <tr>\n",
       "      <th>2018-12-24</th>\n",
       "      <td>3.563536</td>\n",
       "    </tr>\n",
       "    <tr>\n",
       "      <th>2018-12-25</th>\n",
       "      <td>3.519774</td>\n",
       "    </tr>\n",
       "    <tr>\n",
       "      <th>2018-12-26</th>\n",
       "      <td>3.587571</td>\n",
       "    </tr>\n",
       "    <tr>\n",
       "      <th>2018-12-27</th>\n",
       "      <td>3.568182</td>\n",
       "    </tr>\n",
       "    <tr>\n",
       "      <th>2018-12-28</th>\n",
       "      <td>3.584270</td>\n",
       "    </tr>\n",
       "  </tbody>\n",
       "</table>\n",
       "<p>733 rows × 1 columns</p>\n",
       "</div>"
      ],
      "text/plain": [
       "                 PBV\n",
       "Date                \n",
       "2016-01-04  2.652941\n",
       "2016-01-05  2.644970\n",
       "2016-01-06  2.629412\n",
       "2016-01-07  2.684848\n",
       "2016-01-08  2.648810\n",
       "...              ...\n",
       "2018-12-24  3.563536\n",
       "2018-12-25  3.519774\n",
       "2018-12-26  3.587571\n",
       "2018-12-27  3.568182\n",
       "2018-12-28  3.584270\n",
       "\n",
       "[733 rows x 1 columns]"
      ]
     },
     "execution_count": 25,
     "metadata": {},
     "output_type": "execute_result"
    }
   ],
   "source": [
    "bband"
   ]
  },
  {
   "cell_type": "code",
   "execution_count": 30,
   "id": "1d7c795b",
   "metadata": {},
   "outputs": [],
   "source": [
    "mean = bband.PBV.ewm(span=100,adjust=False,min_periods=100).mean()\n",
    "std = bband.PBV.ewm(span=100,adjust=False,min_periods=100).std()\n",
    "short_ema = bband.PBV.ewm(span=50,adjust=False,min_periods=50).mean()"
   ]
  },
  {
   "cell_type": "code",
   "execution_count": 31,
   "id": "2aa50770",
   "metadata": {},
   "outputs": [
    {
     "data": {
      "text/plain": [
       "<matplotlib.collections.PolyCollection at 0x2858911e8b0>"
      ]
     },
     "execution_count": 31,
     "metadata": {},
     "output_type": "execute_result"
    },
    {
     "data": {
      "image/png": "[encoded data removed]",
      "text/plain": [
       "<Figure size 720x432 with 1 Axes>"
      ]
     },
     "metadata": {
      "needs_background": "light"
     },
     "output_type": "display_data"
    }
   ],
   "source": [
    "import matplotlib.pyplot as plt\n",
    "\n",
    "bband.plot(color='k',figsize=(10,6))\n",
    "short_ema.plot(color='g')\n",
    "mean.plot(color='r')\n",
    "plt.fill_between(std.index,mean-2*std,mean+2*std,color='b',alpha=0.2)\n",
    "plt.fill_between(std.index,mean-1*std,mean+1*std,color='yellow',alpha=0.2)"
   ]
  },
  {
   "cell_type": "code",
   "execution_count": null,
   "id": "fbd0f47c",
   "metadata": {},
   "outputs": [],
   "source": []
  }
 ],
 "metadata": {
  "kernelspec": {
   "display_name": "Python 3 (ipykernel)",
   "language": "python",
   "name": "python3"
  },
  "language_info": {
   "codemirror_mode": {
    "name": "ipython",
    "version": 3
   },
   "file_extension": ".py",
   "mimetype": "text/x-python",
   "name": "python",
   "nbconvert_exporter": "python",
   "pygments_lexer": "ipython3",
   "version": "3.9.7"
  }
 },
 "nbformat": 4,
 "nbformat_minor": 5
}
