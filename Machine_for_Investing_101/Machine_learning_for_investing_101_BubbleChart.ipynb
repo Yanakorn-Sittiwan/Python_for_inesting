{
 "cells": [
  {
   "cell_type": "code",
   "execution_count": 2,
   "id": "403539a0",
   "metadata": {},
   "outputs": [
    {
     "name": "stdout",
     "output_type": "stream",
     "text": [
      "Requirement already satisfied: xlrd in c:\\users\\yanak\\anaconda3\\lib\\site-packages (2.0.1)\n",
      "Note: you may need to restart the kernel to use updated packages.\n"
     ]
    }
   ],
   "source": [
    "pip install xlrd"
   ]
  },
  {
   "cell_type": "code",
   "execution_count": 3,
   "id": "0aab7877",
   "metadata": {
    "scrolled": true
   },
   "outputs": [
    {
     "name": "stdout",
     "output_type": "stream",
     "text": [
      "Requirement already satisfied: openpyxl in c:\\users\\yanak\\anaconda3\\lib\\site-packages (3.0.9)\n",
      "Requirement already satisfied: et-xmlfile in c:\\users\\yanak\\anaconda3\\lib\\site-packages (from openpyxl) (1.1.0)\n",
      "Note: you may need to restart the kernel to use updated packages.\n"
     ]
    }
   ],
   "source": [
    "pip install openpyxl"
   ]
  },
  {
   "cell_type": "code",
   "execution_count": 1,
   "id": "8e9ba201",
   "metadata": {},
   "outputs": [],
   "source": [
    "import pandas as pd\n",
    "import numpy as np\n",
    "import matplotlib.pyplot as plt"
   ]
  },
  {
   "cell_type": "code",
   "execution_count": 2,
   "id": "ed1783ec",
   "metadata": {},
   "outputs": [],
   "source": [
    "data = pd.read_excel('Data.xlsx',engine= 'openpyxl')"
   ]
  },
  {
   "cell_type": "code",
   "execution_count": 3,
   "id": "95be94c4",
   "metadata": {},
   "outputs": [
    {
     "data": {
      "text/html": [
       "<div>\n",
       "<style scoped>\n",
       "    .dataframe tbody tr th:only-of-type {\n",
       "        vertical-align: middle;\n",
       "    }\n",
       "\n",
       "    .dataframe tbody tr th {\n",
       "        vertical-align: top;\n",
       "    }\n",
       "\n",
       "    .dataframe thead th {\n",
       "        text-align: right;\n",
       "    }\n",
       "</style>\n",
       "<table border=\"1\" class=\"dataframe\">\n",
       "  <thead>\n",
       "    <tr style=\"text-align: right;\">\n",
       "      <th></th>\n",
       "      <th>Stocks</th>\n",
       "      <th>ROE</th>\n",
       "      <th>PBV</th>\n",
       "      <th>MARKETCAP</th>\n",
       "    </tr>\n",
       "  </thead>\n",
       "  <tbody>\n",
       "    <tr>\n",
       "      <th>0</th>\n",
       "      <td>SAWAD</td>\n",
       "      <td>22.56</td>\n",
       "      <td>3.87</td>\n",
       "      <td>86851</td>\n",
       "    </tr>\n",
       "    <tr>\n",
       "      <th>1</th>\n",
       "      <td>MTC</td>\n",
       "      <td>26.43</td>\n",
       "      <td>5.57</td>\n",
       "      <td>125610</td>\n",
       "    </tr>\n",
       "    <tr>\n",
       "      <th>2</th>\n",
       "      <td>TIDLOR</td>\n",
       "      <td>13.34</td>\n",
       "      <td>3.87</td>\n",
       "      <td>80584</td>\n",
       "    </tr>\n",
       "    <tr>\n",
       "      <th>3</th>\n",
       "      <td>AMANAH</td>\n",
       "      <td>21.02</td>\n",
       "      <td>3.31</td>\n",
       "      <td>5230</td>\n",
       "    </tr>\n",
       "    <tr>\n",
       "      <th>4</th>\n",
       "      <td>AEONTS</td>\n",
       "      <td>26.36</td>\n",
       "      <td>2.52</td>\n",
       "      <td>45750</td>\n",
       "    </tr>\n",
       "    <tr>\n",
       "      <th>5</th>\n",
       "      <td>ASK</td>\n",
       "      <td>14.42</td>\n",
       "      <td>2.16</td>\n",
       "      <td>18606</td>\n",
       "    </tr>\n",
       "    <tr>\n",
       "      <th>6</th>\n",
       "      <td>CHAYO</td>\n",
       "      <td>9.83</td>\n",
       "      <td>4.88</td>\n",
       "      <td>11444</td>\n",
       "    </tr>\n",
       "    <tr>\n",
       "      <th>7</th>\n",
       "      <td>JMT</td>\n",
       "      <td>20.86</td>\n",
       "      <td>6.59</td>\n",
       "      <td>51346</td>\n",
       "    </tr>\n",
       "    <tr>\n",
       "      <th>8</th>\n",
       "      <td>KTC</td>\n",
       "      <td>26.35</td>\n",
       "      <td>5.91</td>\n",
       "      <td>143097</td>\n",
       "    </tr>\n",
       "    <tr>\n",
       "      <th>9</th>\n",
       "      <td>MICRO</td>\n",
       "      <td>11.54</td>\n",
       "      <td>3.67</td>\n",
       "      <td>6872</td>\n",
       "    </tr>\n",
       "    <tr>\n",
       "      <th>10</th>\n",
       "      <td>MTC</td>\n",
       "      <td>26.43</td>\n",
       "      <td>5.57</td>\n",
       "      <td>125610</td>\n",
       "    </tr>\n",
       "    <tr>\n",
       "      <th>11</th>\n",
       "      <td>NCAP</td>\n",
       "      <td>19.81</td>\n",
       "      <td>5.10</td>\n",
       "      <td>9360</td>\n",
       "    </tr>\n",
       "    <tr>\n",
       "      <th>12</th>\n",
       "      <td>S11</td>\n",
       "      <td>14.61</td>\n",
       "      <td>1.38</td>\n",
       "      <td>4045</td>\n",
       "    </tr>\n",
       "    <tr>\n",
       "      <th>13</th>\n",
       "      <td>SAK</td>\n",
       "      <td>11.86</td>\n",
       "      <td>3.83</td>\n",
       "      <td>17396</td>\n",
       "    </tr>\n",
       "    <tr>\n",
       "      <th>14</th>\n",
       "      <td>THANI</td>\n",
       "      <td>19.34</td>\n",
       "      <td>2.13</td>\n",
       "      <td>22765</td>\n",
       "    </tr>\n",
       "    <tr>\n",
       "      <th>15</th>\n",
       "      <td>TK</td>\n",
       "      <td>8.19</td>\n",
       "      <td>0.86</td>\n",
       "      <td>4600</td>\n",
       "    </tr>\n",
       "  </tbody>\n",
       "</table>\n",
       "</div>"
      ],
      "text/plain": [
       "    Stocks    ROE   PBV  MARKETCAP\n",
       "0    SAWAD  22.56  3.87      86851\n",
       "1      MTC  26.43  5.57     125610\n",
       "2   TIDLOR  13.34  3.87      80584\n",
       "3   AMANAH  21.02  3.31       5230\n",
       "4   AEONTS  26.36  2.52      45750\n",
       "5      ASK  14.42  2.16      18606\n",
       "6   CHAYO    9.83  4.88      11444\n",
       "7      JMT  20.86  6.59      51346\n",
       "8      KTC  26.35  5.91     143097\n",
       "9    MICRO  11.54  3.67       6872\n",
       "10     MTC  26.43  5.57     125610\n",
       "11    NCAP  19.81  5.10       9360\n",
       "12     S11  14.61  1.38       4045\n",
       "13     SAK  11.86  3.83      17396\n",
       "14   THANI  19.34  2.13      22765\n",
       "15      TK   8.19  0.86       4600"
      ]
     },
     "execution_count": 3,
     "metadata": {},
     "output_type": "execute_result"
    }
   ],
   "source": [
    "data"
   ]
  },
  {
   "cell_type": "code",
   "execution_count": 9,
   "id": "06eaff8b",
   "metadata": {},
   "outputs": [
    {
     "data": {
      "image/png": "[encoded data removed]",
      "text/plain": [
       "<Figure size 432x288 with 1 Axes>"
      ]
     },
     "metadata": {
      "needs_background": "light"
     },
     "output_type": "display_data"
    }
   ],
   "source": [
    "fig, ax = plt.subplots()\n",
    "\n",
    "for i, j in data.iterrows():\n",
    "    ax.scatter(j.ROE, j.PBV, s = j.MARKETCAP/100, alpha=0.5)\n",
    "    ax.annotate(j.Stocks, (j.ROE, j.PBV))\n",
    "\n",
    "plt.title('Bubble Chart')\n",
    "plt.xlabel('ROE')\n",
    "plt.ylabel('P/BV')\n",
    "plt.xlim(0,30)\n",
    "plt.ylim(0,8)\n",
    "plt.show()"
   ]
  },
  {
   "cell_type": "code",
   "execution_count": null,
   "id": "313d7fd7",
   "metadata": {},
   "outputs": [],
   "source": []
  }
 ],
 "metadata": {
  "kernelspec": {
   "display_name": "Python 3 (ipykernel)",
   "language": "python",
   "name": "python3"
  },
  "language_info": {
   "codemirror_mode": {
    "name": "ipython",
    "version": 3
   },
   "file_extension": ".py",
   "mimetype": "text/x-python",
   "name": "python",
   "nbconvert_exporter": "python",
   "pygments_lexer": "ipython3",
   "version": "3.9.7"
  }
 },
 "nbformat": 4,
 "nbformat_minor": 5
}
