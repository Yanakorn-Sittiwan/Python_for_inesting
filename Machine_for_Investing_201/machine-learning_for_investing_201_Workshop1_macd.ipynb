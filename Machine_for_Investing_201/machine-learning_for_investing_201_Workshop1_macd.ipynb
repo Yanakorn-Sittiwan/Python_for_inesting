{
 "cells": [
  {
   "cell_type": "markdown",
   "id": "f00e48df",
   "metadata": {},
   "source": [
    "# Import"
   ]
  },
  {
   "cell_type": "code",
   "execution_count": 1,
   "id": "b92575b1",
   "metadata": {},
   "outputs": [
    {
     "name": "stdout",
     "output_type": "stream",
     "text": [
      "Requirement already satisfied: pandas_ta in c:\\users\\yanak\\anaconda3\\lib\\site-packages (0.3.14b0)Note: you may need to restart the kernel to use updated packages.\n",
      "Requirement already satisfied: pandas in c:\\users\\yanak\\anaconda3\\lib\\site-packages (from pandas_ta) (1.4.3)\n",
      "Requirement already satisfied: pytz>=2020.1 in c:\\users\\yanak\\anaconda3\\lib\\site-packages (from pandas->pandas_ta) (2021.3)\n",
      "Requirement already satisfied: numpy>=1.18.5 in c:\\users\\yanak\\anaconda3\\lib\\site-packages (from pandas->pandas_ta) (1.20.3)\n",
      "Requirement already satisfied: python-dateutil>=2.8.1 in c:\\users\\yanak\\anaconda3\\lib\\site-packages (from pandas->pandas_ta) (2.8.2)\n",
      "Requirement already satisfied: six>=1.5 in c:\\users\\yanak\\anaconda3\\lib\\site-packages (from python-dateutil>=2.8.1->pandas->pandas_ta) (1.16.0)\n",
      "\n"
     ]
    },
    {
     "name": "stderr",
     "output_type": "stream",
     "text": [
      "\n",
      "[notice] A new release of pip is available: 23.0 -> 23.0.1\n",
      "[notice] To update, run: python.exe -m pip install --upgrade pip\n"
     ]
    }
   ],
   "source": [
    "pip install pandas_ta"
   ]
  },
  {
   "cell_type": "code",
   "execution_count": 2,
   "id": "c4050ab2",
   "metadata": {},
   "outputs": [
    {
     "name": "stdout",
     "output_type": "stream",
     "text": [
      "Requirement already satisfied: vectorbt in c:\\users\\yanak\\anaconda3\\lib\\site-packages (0.23.2)\n",
      "Requirement already satisfied: matplotlib in c:\\users\\yanak\\anaconda3\\lib\\site-packages (from vectorbt) (3.4.3)\n",
      "Requirement already satisfied: mypy-extensions in c:\\users\\yanak\\anaconda3\\lib\\site-packages (from vectorbt) (0.4.3)\n",
      "Requirement already satisfied: dateparser in c:\\users\\yanak\\anaconda3\\lib\\site-packages (from vectorbt) (1.1.0)\n",
      "Requirement already satisfied: pytz in c:\\users\\yanak\\anaconda3\\lib\\site-packages (from vectorbt) (2021.3)\n",
      "Requirement already satisfied: imageio in c:\\users\\yanak\\anaconda3\\lib\\site-packages (from vectorbt) (2.9.0)\n",
      "Requirement already satisfied: scikit-learn in c:\\users\\yanak\\anaconda3\\lib\\site-packages (from vectorbt) (1.1.3)\n",
      "Requirement already satisfied: ipywidgets>=7.0.0 in c:\\users\\yanak\\anaconda3\\lib\\site-packages (from vectorbt) (7.6.5)\n",
      "Requirement already satisfied: schedule in c:\\users\\yanak\\anaconda3\\lib\\site-packages (from vectorbt) (1.1.0)\n",
      "Requirement already satisfied: dill in c:\\users\\yanak\\anaconda3\\lib\\site-packages (from vectorbt) (0.3.4)\n",
      "Requirement already satisfied: numpy>=1.16.5 in c:\\users\\yanak\\anaconda3\\lib\\site-packages (from vectorbt) (1.20.3)\n",
      "Requirement already satisfied: tqdm in c:\\users\\yanak\\anaconda3\\lib\\site-packages (from vectorbt) (4.62.3)\n",
      "Requirement already satisfied: scipy in c:\\users\\yanak\\anaconda3\\lib\\site-packages (from vectorbt) (1.7.1)\n",
      "Requirement already satisfied: numba>=0.53.1 in c:\\users\\yanak\\anaconda3\\lib\\site-packages (from vectorbt) (0.54.1)\n",
      "Requirement already satisfied: pandas in c:\\users\\yanak\\anaconda3\\lib\\site-packages (from vectorbt) (1.4.3)\n",
      "Requirement already satisfied: requests in c:\\users\\yanak\\anaconda3\\lib\\site-packages (from vectorbt) (2.26.0)\n",
      "Requirement already satisfied: plotly>=4.12.0 in c:\\users\\yanak\\anaconda3\\lib\\site-packages (from vectorbt) (5.6.0)\n",
      "Requirement already satisfied: nbformat>=4.2.0 in c:\\users\\yanak\\anaconda3\\lib\\site-packages (from ipywidgets>=7.0.0->vectorbt) (5.1.3)\n",
      "Requirement already satisfied: ipython>=4.0.0 in c:\\users\\yanak\\anaconda3\\lib\\site-packages (from ipywidgets>=7.0.0->vectorbt) (7.29.0)\n",
      "Requirement already satisfied: jupyterlab-widgets>=1.0.0 in c:\\users\\yanak\\anaconda3\\lib\\site-packages (from ipywidgets>=7.0.0->vectorbt) (1.0.0)\n",
      "Requirement already satisfied: ipython-genutils~=0.2.0 in c:\\users\\yanak\\anaconda3\\lib\\site-packages (from ipywidgets>=7.0.0->vectorbt) (0.2.0)\n",
      "Requirement already satisfied: ipykernel>=4.5.1 in c:\\users\\yanak\\anaconda3\\lib\\site-packages (from ipywidgets>=7.0.0->vectorbt) (6.4.1)\n",
      "Requirement already satisfied: widgetsnbextension~=3.5.0 in c:\\users\\yanak\\anaconda3\\lib\\site-packages (from ipywidgets>=7.0.0->vectorbt) (3.5.1)\n",
      "Requirement already satisfied: traitlets>=4.3.1 in c:\\users\\yanak\\anaconda3\\lib\\site-packages (from ipywidgets>=7.0.0->vectorbt) (5.1.0)\n",
      "Requirement already satisfied: llvmlite<0.38,>=0.37.0rc1 in c:\\users\\yanak\\anaconda3\\lib\\site-packages (from numba>=0.53.1->vectorbt) (0.37.0)\n",
      "Requirement already satisfied: setuptools in c:\\users\\yanak\\anaconda3\\lib\\site-packages (from numba>=0.53.1->vectorbt) (65.6.3)\n",
      "Requirement already satisfied: six in c:\\users\\yanak\\anaconda3\\lib\\site-packages (from plotly>=4.12.0->vectorbt) (1.16.0)\n",
      "Requirement already satisfied: tenacity>=6.2.0 in c:\\users\\yanak\\anaconda3\\lib\\site-packages (from plotly>=4.12.0->vectorbt) (8.0.1)\n",
      "Requirement already satisfied: regex!=2019.02.19,!=2021.8.27 in c:\\users\\yanak\\anaconda3\\lib\\site-packages (from dateparser->vectorbt) (2021.8.3)\n",
      "Requirement already satisfied: python-dateutil in c:\\users\\yanak\\anaconda3\\lib\\site-packages (from dateparser->vectorbt) (2.8.2)\n",
      "Requirement already satisfied: tzlocal in c:\\users\\yanak\\anaconda3\\lib\\site-packages (from dateparser->vectorbt) (4.1)\n",
      "Requirement already satisfied: pillow in c:\\users\\yanak\\anaconda3\\lib\\site-packages (from imageio->vectorbt) (8.4.0)\n",
      "Requirement already satisfied: pyparsing>=2.2.1 in c:\\users\\yanak\\anaconda3\\lib\\site-packages (from matplotlib->vectorbt) (3.0.4)\n",
      "Requirement already satisfied: cycler>=0.10 in c:\\users\\yanak\\anaconda3\\lib\\site-packages (from matplotlib->vectorbt) (0.10.0)\n",
      "Requirement already satisfied: kiwisolver>=1.0.1 in c:\\users\\yanak\\anaconda3\\lib\\site-packages (from matplotlib->vectorbt) (1.3.1)\n",
      "Requirement already satisfied: urllib3<1.27,>=1.21.1 in c:\\users\\yanak\\anaconda3\\lib\\site-packages (from requests->vectorbt) (1.26.7)\n",
      "Requirement already satisfied: idna<4,>=2.5 in c:\\users\\yanak\\anaconda3\\lib\\site-packages (from requests->vectorbt) (3.2)\n",
      "Requirement already satisfied: certifi>=2017.4.17 in c:\\users\\yanak\\anaconda3\\lib\\site-packages (from requests->vectorbt) (2022.9.24)\n",
      "Requirement already satisfied: charset-normalizer~=2.0.0 in c:\\users\\yanak\\anaconda3\\lib\\site-packages (from requests->vectorbt) (2.0.4)\n",
      "Requirement already satisfied: threadpoolctl>=2.0.0 in c:\\users\\yanak\\anaconda3\\lib\\site-packages (from scikit-learn->vectorbt) (2.2.0)\n",
      "Requirement already satisfied: joblib>=1.0.0 in c:\\users\\yanak\\anaconda3\\lib\\site-packages (from scikit-learn->vectorbt) (1.1.0)\n",
      "Requirement already satisfied: colorama in c:\\users\\yanak\\anaconda3\\lib\\site-packages (from tqdm->vectorbt) (0.4.4)\n",
      "Requirement already satisfied: debugpy<2.0,>=1.0.0 in c:\\users\\yanak\\anaconda3\\lib\\site-packages (from ipykernel>=4.5.1->ipywidgets>=7.0.0->vectorbt) (1.4.1)\n",
      "Requirement already satisfied: jupyter-client<8.0 in c:\\users\\yanak\\anaconda3\\lib\\site-packages (from ipykernel>=4.5.1->ipywidgets>=7.0.0->vectorbt) (6.1.12)\n",
      "Requirement already satisfied: tornado<7.0,>=4.2 in c:\\users\\yanak\\anaconda3\\lib\\site-packages (from ipykernel>=4.5.1->ipywidgets>=7.0.0->vectorbt) (6.1)\n",
      "Requirement already satisfied: matplotlib-inline<0.2.0,>=0.1.0 in c:\\users\\yanak\\anaconda3\\lib\\site-packages (from ipykernel>=4.5.1->ipywidgets>=7.0.0->vectorbt) (0.1.2)\n",
      "Requirement already satisfied: prompt-toolkit!=3.0.0,!=3.0.1,<3.1.0,>=2.0.0 in c:\\users\\yanak\\anaconda3\\lib\\site-packages (from ipython>=4.0.0->ipywidgets>=7.0.0->vectorbt) (3.0.20)\n",
      "Requirement already satisfied: pickleshare in c:\\users\\yanak\\anaconda3\\lib\\site-packages (from ipython>=4.0.0->ipywidgets>=7.0.0->vectorbt) (0.7.5)\n",
      "Requirement already satisfied: pygments in c:\\users\\yanak\\anaconda3\\lib\\site-packages (from ipython>=4.0.0->ipywidgets>=7.0.0->vectorbt) (2.10.0)\n",
      "Requirement already satisfied: backcall in c:\\users\\yanak\\anaconda3\\lib\\site-packages (from ipython>=4.0.0->ipywidgets>=7.0.0->vectorbt) (0.2.0)\n",
      "Requirement already satisfied: jedi>=0.16 in c:\\users\\yanak\\anaconda3\\lib\\site-packages (from ipython>=4.0.0->ipywidgets>=7.0.0->vectorbt) (0.18.0)\n",
      "Requirement already satisfied: decorator in c:\\users\\yanak\\anaconda3\\lib\\site-packages (from ipython>=4.0.0->ipywidgets>=7.0.0->vectorbt) (5.1.0)\n",
      "Requirement already satisfied: jsonschema!=2.5.0,>=2.4 in c:\\users\\yanak\\anaconda3\\lib\\site-packages (from nbformat>=4.2.0->ipywidgets>=7.0.0->vectorbt) (3.2.0)\n",
      "Requirement already satisfied: jupyter-core in c:\\users\\yanak\\anaconda3\\lib\\site-packages (from nbformat>=4.2.0->ipywidgets>=7.0.0->vectorbt) (4.8.1)\n",
      "Requirement already satisfied: notebook>=4.4.1 in c:\\users\\yanak\\anaconda3\\lib\\site-packages (from widgetsnbextension~=3.5.0->ipywidgets>=7.0.0->vectorbt) (6.4.5)\n",
      "Requirement already satisfied: tzdata in c:\\users\\yanak\\anaconda3\\lib\\site-packages (from tzlocal->dateparser->vectorbt) (2021.5)\n",
      "Requirement already satisfied: pytz-deprecation-shim in c:\\users\\yanak\\anaconda3\\lib\\site-packages (from tzlocal->dateparser->vectorbt) (0.1.0.post0)\n",
      "Requirement already satisfied: parso<0.9.0,>=0.8.0 in c:\\users\\yanak\\anaconda3\\lib\\site-packages (from jedi>=0.16->ipython>=4.0.0->ipywidgets>=7.0.0->vectorbt) (0.8.2)\n",
      "Requirement already satisfied: pyrsistent>=0.14.0 in c:\\users\\yanak\\anaconda3\\lib\\site-packages (from jsonschema!=2.5.0,>=2.4->nbformat>=4.2.0->ipywidgets>=7.0.0->vectorbt) (0.18.0)\n",
      "Requirement already satisfied: attrs>=17.4.0 in c:\\users\\yanak\\anaconda3\\lib\\site-packages (from jsonschema!=2.5.0,>=2.4->nbformat>=4.2.0->ipywidgets>=7.0.0->vectorbt) (21.2.0)\n",
      "Requirement already satisfied: pyzmq>=13 in c:\\users\\yanak\\anaconda3\\lib\\site-packages (from jupyter-client<8.0->ipykernel>=4.5.1->ipywidgets>=7.0.0->vectorbt) (22.2.1)\n",
      "Requirement already satisfied: pywin32>=1.0 in c:\\users\\yanak\\anaconda3\\lib\\site-packages (from jupyter-core->nbformat>=4.2.0->ipywidgets>=7.0.0->vectorbt) (228)\n",
      "Requirement already satisfied: terminado>=0.8.3 in c:\\users\\yanak\\anaconda3\\lib\\site-packages (from notebook>=4.4.1->widgetsnbextension~=3.5.0->ipywidgets>=7.0.0->vectorbt) (0.9.4)\n",
      "Requirement already satisfied: nbconvert in c:\\users\\yanak\\anaconda3\\lib\\site-packages (from notebook>=4.4.1->widgetsnbextension~=3.5.0->ipywidgets>=7.0.0->vectorbt) (6.1.0)\n",
      "Requirement already satisfied: prometheus-client in c:\\users\\yanak\\anaconda3\\lib\\site-packages (from notebook>=4.4.1->widgetsnbextension~=3.5.0->ipywidgets>=7.0.0->vectorbt) (0.11.0)\n",
      "Requirement already satisfied: jinja2 in c:\\users\\yanak\\anaconda3\\lib\\site-packages (from notebook>=4.4.1->widgetsnbextension~=3.5.0->ipywidgets>=7.0.0->vectorbt) (2.11.3)\n",
      "Requirement already satisfied: Send2Trash>=1.5.0 in c:\\users\\yanak\\anaconda3\\lib\\site-packages (from notebook>=4.4.1->widgetsnbextension~=3.5.0->ipywidgets>=7.0.0->vectorbt) (1.8.0)\n",
      "Requirement already satisfied: argon2-cffi in c:\\users\\yanak\\anaconda3\\lib\\site-packages (from notebook>=4.4.1->widgetsnbextension~=3.5.0->ipywidgets>=7.0.0->vectorbt) (20.1.0)\n",
      "Requirement already satisfied: wcwidth in c:\\users\\yanak\\anaconda3\\lib\\site-packages (from prompt-toolkit!=3.0.0,!=3.0.1,<3.1.0,>=2.0.0->ipython>=4.0.0->ipywidgets>=7.0.0->vectorbt) (0.2.5)\n",
      "Requirement already satisfied: pywinpty>=0.5 in c:\\users\\yanak\\anaconda3\\lib\\site-packages (from terminado>=0.8.3->notebook>=4.4.1->widgetsnbextension~=3.5.0->ipywidgets>=7.0.0->vectorbt) (0.5.7)\n",
      "Requirement already satisfied: cffi>=1.0.0 in c:\\users\\yanak\\anaconda3\\lib\\site-packages (from argon2-cffi->notebook>=4.4.1->widgetsnbextension~=3.5.0->ipywidgets>=7.0.0->vectorbt) (1.14.6)\n",
      "Requirement already satisfied: MarkupSafe>=0.23 in c:\\users\\yanak\\anaconda3\\lib\\site-packages (from jinja2->notebook>=4.4.1->widgetsnbextension~=3.5.0->ipywidgets>=7.0.0->vectorbt) (1.1.1)\n",
      "Requirement already satisfied: bleach in c:\\users\\yanak\\anaconda3\\lib\\site-packages (from nbconvert->notebook>=4.4.1->widgetsnbextension~=3.5.0->ipywidgets>=7.0.0->vectorbt) (4.0.0)\n",
      "Requirement already satisfied: jupyterlab-pygments in c:\\users\\yanak\\anaconda3\\lib\\site-packages (from nbconvert->notebook>=4.4.1->widgetsnbextension~=3.5.0->ipywidgets>=7.0.0->vectorbt) (0.1.2)\n",
      "Requirement already satisfied: entrypoints>=0.2.2 in c:\\users\\yanak\\anaconda3\\lib\\site-packages (from nbconvert->notebook>=4.4.1->widgetsnbextension~=3.5.0->ipywidgets>=7.0.0->vectorbt) (0.3)\n",
      "Requirement already satisfied: testpath in c:\\users\\yanak\\anaconda3\\lib\\site-packages (from nbconvert->notebook>=4.4.1->widgetsnbextension~=3.5.0->ipywidgets>=7.0.0->vectorbt) (0.5.0)\n",
      "Requirement already satisfied: defusedxml in c:\\users\\yanak\\anaconda3\\lib\\site-packages (from nbconvert->notebook>=4.4.1->widgetsnbextension~=3.5.0->ipywidgets>=7.0.0->vectorbt) (0.7.1)\n",
      "Requirement already satisfied: nbclient<0.6.0,>=0.5.0 in c:\\users\\yanak\\anaconda3\\lib\\site-packages (from nbconvert->notebook>=4.4.1->widgetsnbextension~=3.5.0->ipywidgets>=7.0.0->vectorbt) (0.5.3)\n",
      "Requirement already satisfied: pandocfilters>=1.4.1 in c:\\users\\yanak\\anaconda3\\lib\\site-packages (from nbconvert->notebook>=4.4.1->widgetsnbextension~=3.5.0->ipywidgets>=7.0.0->vectorbt) (1.4.3)\n",
      "Requirement already satisfied: mistune<2,>=0.8.1 in c:\\users\\yanak\\anaconda3\\lib\\site-packages (from nbconvert->notebook>=4.4.1->widgetsnbextension~=3.5.0->ipywidgets>=7.0.0->vectorbt) (0.8.4)\n",
      "Requirement already satisfied: pycparser in c:\\users\\yanak\\anaconda3\\lib\\site-packages (from cffi>=1.0.0->argon2-cffi->notebook>=4.4.1->widgetsnbextension~=3.5.0->ipywidgets>=7.0.0->vectorbt) (2.20)\n",
      "Requirement already satisfied: async-generator in c:\\users\\yanak\\anaconda3\\lib\\site-packages (from nbclient<0.6.0,>=0.5.0->nbconvert->notebook>=4.4.1->widgetsnbextension~=3.5.0->ipywidgets>=7.0.0->vectorbt) (1.10)\n",
      "Requirement already satisfied: nest-asyncio in c:\\users\\yanak\\anaconda3\\lib\\site-packages (from nbclient<0.6.0,>=0.5.0->nbconvert->notebook>=4.4.1->widgetsnbextension~=3.5.0->ipywidgets>=7.0.0->vectorbt) (1.5.1)\n",
      "Requirement already satisfied: packaging in c:\\users\\yanak\\anaconda3\\lib\\site-packages (from bleach->nbconvert->notebook>=4.4.1->widgetsnbextension~=3.5.0->ipywidgets>=7.0.0->vectorbt) (21.0)\n",
      "Requirement already satisfied: webencodings in c:\\users\\yanak\\anaconda3\\lib\\site-packages (from bleach->nbconvert->notebook>=4.4.1->widgetsnbextension~=3.5.0->ipywidgets>=7.0.0->vectorbt) (0.5.1)\n",
      "Note: you may need to restart the kernel to use updated packages.\n"
     ]
    },
    {
     "name": "stderr",
     "output_type": "stream",
     "text": [
      "\n",
      "[notice] A new release of pip is available: 23.0 -> 23.0.1\n",
      "[notice] To update, run: python.exe -m pip install --upgrade pip\n"
     ]
    }
   ],
   "source": [
    "pip install vectorbt"
   ]
  },
  {
   "cell_type": "code",
   "execution_count": 3,
   "id": "f9db56a4",
   "metadata": {},
   "outputs": [
    {
     "name": "stdout",
     "output_type": "stream",
     "text": [
      "Requirement already satisfied: yfinance in c:\\users\\yanak\\anaconda3\\lib\\site-packages (0.1.87)\n",
      "Requirement already satisfied: pandas>=0.24.0 in c:\\users\\yanak\\anaconda3\\lib\\site-packages (from yfinance) (1.4.3)\n",
      "Requirement already satisfied: requests>=2.26 in c:\\users\\yanak\\anaconda3\\lib\\site-packages (from yfinance) (2.26.0)\n",
      "Requirement already satisfied: multitasking>=0.0.7 in c:\\users\\yanak\\anaconda3\\lib\\site-packages (from yfinance) (0.0.11)\n",
      "Requirement already satisfied: numpy>=1.15 in c:\\users\\yanak\\anaconda3\\lib\\site-packages (from yfinance) (1.20.3)\n",
      "Requirement already satisfied: lxml>=4.5.1 in c:\\users\\yanak\\anaconda3\\lib\\site-packages (from yfinance) (4.6.3)\n",
      "Requirement already satisfied: appdirs>=1.4.4 in c:\\users\\yanak\\anaconda3\\lib\\site-packages (from yfinance) (1.4.4)\n",
      "Requirement already satisfied: pytz>=2020.1 in c:\\users\\yanak\\anaconda3\\lib\\site-packages (from pandas>=0.24.0->yfinance) (2021.3)\n",
      "Requirement already satisfied: python-dateutil>=2.8.1 in c:\\users\\yanak\\anaconda3\\lib\\site-packages (from pandas>=0.24.0->yfinance) (2.8.2)\n",
      "Requirement already satisfied: charset-normalizer~=2.0.0 in c:\\users\\yanak\\anaconda3\\lib\\site-packages (from requests>=2.26->yfinance) (2.0.4)\n",
      "Requirement already satisfied: certifi>=2017.4.17 in c:\\users\\yanak\\anaconda3\\lib\\site-packages (from requests>=2.26->yfinance) (2022.9.24)\n",
      "Requirement already satisfied: urllib3<1.27,>=1.21.1 in c:\\users\\yanak\\anaconda3\\lib\\site-packages (from requests>=2.26->yfinance) (1.26.7)\n",
      "Requirement already satisfied: idna<4,>=2.5 in c:\\users\\yanak\\anaconda3\\lib\\site-packages (from requests>=2.26->yfinance) (3.2)\n",
      "Requirement already satisfied: six>=1.5 in c:\\users\\yanak\\anaconda3\\lib\\site-packages (from python-dateutil>=2.8.1->pandas>=0.24.0->yfinance) (1.16.0)\n",
      "Note: you may need to restart the kernel to use updated packages.\n"
     ]
    },
    {
     "name": "stderr",
     "output_type": "stream",
     "text": [
      "\n",
      "[notice] A new release of pip is available: 23.0 -> 23.0.1\n",
      "[notice] To update, run: python.exe -m pip install --upgrade pip\n"
     ]
    }
   ],
   "source": [
    "pip install yfinance"
   ]
  },
  {
   "cell_type": "code",
   "execution_count": 8,
   "id": "b78884a7",
   "metadata": {},
   "outputs": [],
   "source": [
    "import numpy as np\n",
    "import pandas as pd\n",
    "import seaborn as sns\n",
    "import matplotlib.pyplot as plt\n",
    "import pandas_ta as ta\n",
    "import vectorbt as vbt\n",
    "import yfinance as yf\n",
    "from datetime import datetime\n",
    "from scipy import stats\n",
    "from scipy import stats\n",
    "\n",
    "from sklearn.model_selection import (GridSearchCV, \n",
    "                                     TimeSeriesSplit,\n",
    "                                     train_test_split)\n",
    "from sklearn.preprocessing import (OrdinalEncoder, \n",
    "                                   OneHotEncoder)\n",
    "from sklearn.linear_model import (LinearRegression, \n",
    "                                  RidgeCV, \n",
    "                                  LassoCV, \n",
    "                                  ElasticNetCV)\n",
    "from sklearn.metrics import (r2_score, \n",
    "                             mean_squared_error, \n",
    "                             mean_absolute_error, \n",
    "                             mean_absolute_percentage_error)\n",
    "\n",
    "import warnings\n",
    "warnings.filterwarnings('ignore')"
   ]
  },
  {
   "cell_type": "code",
   "execution_count": 2,
   "id": "2bcae108",
   "metadata": {},
   "outputs": [],
   "source": [
    "start_date = datetime(2023,1,1)\n",
    "end_date = datetime(2023,2,10)"
   ]
  },
  {
   "cell_type": "code",
   "execution_count": 3,
   "id": "afae9124",
   "metadata": {},
   "outputs": [
    {
     "name": "stdout",
     "output_type": "stream",
     "text": [
      "Wall time: 5.35 s\n"
     ]
    }
   ],
   "source": [
    "%%time\n",
    "data = pd.DataFrame()\n",
    "data = data.ta.ticker('spy',start = start_date, end = end_date,interval = '5m')"
   ]
  },
  {
   "cell_type": "code",
   "execution_count": 4,
   "id": "8339faa4",
   "metadata": {},
   "outputs": [
    {
     "data": {
      "text/html": [
       "<div>\n",
       "<style scoped>\n",
       "    .dataframe tbody tr th:only-of-type {\n",
       "        vertical-align: middle;\n",
       "    }\n",
       "\n",
       "    .dataframe tbody tr th {\n",
       "        vertical-align: top;\n",
       "    }\n",
       "\n",
       "    .dataframe thead th {\n",
       "        text-align: right;\n",
       "    }\n",
       "</style>\n",
       "<table border=\"1\" class=\"dataframe\">\n",
       "  <thead>\n",
       "    <tr style=\"text-align: right;\">\n",
       "      <th></th>\n",
       "      <th>Open</th>\n",
       "      <th>High</th>\n",
       "      <th>Low</th>\n",
       "      <th>Close</th>\n",
       "      <th>Volume</th>\n",
       "      <th>Dividends</th>\n",
       "      <th>Stock Splits</th>\n",
       "    </tr>\n",
       "    <tr>\n",
       "      <th>Datetime</th>\n",
       "      <th></th>\n",
       "      <th></th>\n",
       "      <th></th>\n",
       "      <th></th>\n",
       "      <th></th>\n",
       "      <th></th>\n",
       "      <th></th>\n",
       "    </tr>\n",
       "  </thead>\n",
       "  <tbody>\n",
       "    <tr>\n",
       "      <th>2023-01-03 09:30:00-05:00</th>\n",
       "      <td>384.369995</td>\n",
       "      <td>385.119995</td>\n",
       "      <td>383.589996</td>\n",
       "      <td>384.510010</td>\n",
       "      <td>4178396</td>\n",
       "      <td>0</td>\n",
       "      <td>0</td>\n",
       "    </tr>\n",
       "    <tr>\n",
       "      <th>2023-01-03 09:35:00-05:00</th>\n",
       "      <td>384.540009</td>\n",
       "      <td>385.440002</td>\n",
       "      <td>384.325012</td>\n",
       "      <td>385.390015</td>\n",
       "      <td>962032</td>\n",
       "      <td>0</td>\n",
       "      <td>0</td>\n",
       "    </tr>\n",
       "    <tr>\n",
       "      <th>2023-01-03 09:40:00-05:00</th>\n",
       "      <td>385.390015</td>\n",
       "      <td>386.429993</td>\n",
       "      <td>385.165497</td>\n",
       "      <td>385.279999</td>\n",
       "      <td>1629643</td>\n",
       "      <td>0</td>\n",
       "      <td>0</td>\n",
       "    </tr>\n",
       "    <tr>\n",
       "      <th>2023-01-03 09:45:00-05:00</th>\n",
       "      <td>385.279999</td>\n",
       "      <td>385.399994</td>\n",
       "      <td>383.019989</td>\n",
       "      <td>383.500000</td>\n",
       "      <td>1997329</td>\n",
       "      <td>0</td>\n",
       "      <td>0</td>\n",
       "    </tr>\n",
       "    <tr>\n",
       "      <th>2023-01-03 09:50:00-05:00</th>\n",
       "      <td>383.489990</td>\n",
       "      <td>383.959991</td>\n",
       "      <td>382.500000</td>\n",
       "      <td>382.800110</td>\n",
       "      <td>1800303</td>\n",
       "      <td>0</td>\n",
       "      <td>0</td>\n",
       "    </tr>\n",
       "    <tr>\n",
       "      <th>...</th>\n",
       "      <td>...</td>\n",
       "      <td>...</td>\n",
       "      <td>...</td>\n",
       "      <td>...</td>\n",
       "      <td>...</td>\n",
       "      <td>...</td>\n",
       "      <td>...</td>\n",
       "    </tr>\n",
       "    <tr>\n",
       "      <th>2023-02-09 15:35:00-05:00</th>\n",
       "      <td>406.040009</td>\n",
       "      <td>406.809998</td>\n",
       "      <td>405.809998</td>\n",
       "      <td>406.799988</td>\n",
       "      <td>1551788</td>\n",
       "      <td>0</td>\n",
       "      <td>0</td>\n",
       "    </tr>\n",
       "    <tr>\n",
       "      <th>2023-02-09 15:40:00-05:00</th>\n",
       "      <td>406.799988</td>\n",
       "      <td>407.170013</td>\n",
       "      <td>406.540009</td>\n",
       "      <td>407.119995</td>\n",
       "      <td>1462716</td>\n",
       "      <td>0</td>\n",
       "      <td>0</td>\n",
       "    </tr>\n",
       "    <tr>\n",
       "      <th>2023-02-09 15:45:00-05:00</th>\n",
       "      <td>407.119995</td>\n",
       "      <td>407.549988</td>\n",
       "      <td>406.799988</td>\n",
       "      <td>407.000000</td>\n",
       "      <td>2273052</td>\n",
       "      <td>0</td>\n",
       "      <td>0</td>\n",
       "    </tr>\n",
       "    <tr>\n",
       "      <th>2023-02-09 15:50:00-05:00</th>\n",
       "      <td>407.000000</td>\n",
       "      <td>408.202087</td>\n",
       "      <td>406.940002</td>\n",
       "      <td>407.869995</td>\n",
       "      <td>3290510</td>\n",
       "      <td>0</td>\n",
       "      <td>0</td>\n",
       "    </tr>\n",
       "    <tr>\n",
       "      <th>2023-02-09 15:55:00-05:00</th>\n",
       "      <td>407.890015</td>\n",
       "      <td>407.910004</td>\n",
       "      <td>406.885010</td>\n",
       "      <td>407.130005</td>\n",
       "      <td>4340459</td>\n",
       "      <td>0</td>\n",
       "      <td>0</td>\n",
       "    </tr>\n",
       "  </tbody>\n",
       "</table>\n",
       "<p>2106 rows × 7 columns</p>\n",
       "</div>"
      ],
      "text/plain": [
       "                                 Open        High         Low       Close  \\\n",
       "Datetime                                                                    \n",
       "2023-01-03 09:30:00-05:00  384.369995  385.119995  383.589996  384.510010   \n",
       "2023-01-03 09:35:00-05:00  384.540009  385.440002  384.325012  385.390015   \n",
       "2023-01-03 09:40:00-05:00  385.390015  386.429993  385.165497  385.279999   \n",
       "2023-01-03 09:45:00-05:00  385.279999  385.399994  383.019989  383.500000   \n",
       "2023-01-03 09:50:00-05:00  383.489990  383.959991  382.500000  382.800110   \n",
       "...                               ...         ...         ...         ...   \n",
       "2023-02-09 15:35:00-05:00  406.040009  406.809998  405.809998  406.799988   \n",
       "2023-02-09 15:40:00-05:00  406.799988  407.170013  406.540009  407.119995   \n",
       "2023-02-09 15:45:00-05:00  407.119995  407.549988  406.799988  407.000000   \n",
       "2023-02-09 15:50:00-05:00  407.000000  408.202087  406.940002  407.869995   \n",
       "2023-02-09 15:55:00-05:00  407.890015  407.910004  406.885010  407.130005   \n",
       "\n",
       "                            Volume  Dividends  Stock Splits  \n",
       "Datetime                                                     \n",
       "2023-01-03 09:30:00-05:00  4178396          0             0  \n",
       "2023-01-03 09:35:00-05:00   962032          0             0  \n",
       "2023-01-03 09:40:00-05:00  1629643          0             0  \n",
       "2023-01-03 09:45:00-05:00  1997329          0             0  \n",
       "2023-01-03 09:50:00-05:00  1800303          0             0  \n",
       "...                            ...        ...           ...  \n",
       "2023-02-09 15:35:00-05:00  1551788          0             0  \n",
       "2023-02-09 15:40:00-05:00  1462716          0             0  \n",
       "2023-02-09 15:45:00-05:00  2273052          0             0  \n",
       "2023-02-09 15:50:00-05:00  3290510          0             0  \n",
       "2023-02-09 15:55:00-05:00  4340459          0             0  \n",
       "\n",
       "[2106 rows x 7 columns]"
      ]
     },
     "execution_count": 4,
     "metadata": {},
     "output_type": "execute_result"
    }
   ],
   "source": [
    "data"
   ]
  },
  {
   "cell_type": "markdown",
   "id": "9481901f",
   "metadata": {},
   "source": [
    "# Prepare Data"
   ]
  },
  {
   "cell_type": "code",
   "execution_count": 5,
   "id": "0f49faac",
   "metadata": {
    "scrolled": true
   },
   "outputs": [
    {
     "data": {
      "text/html": [
       "<div>\n",
       "<style scoped>\n",
       "    .dataframe tbody tr th:only-of-type {\n",
       "        vertical-align: middle;\n",
       "    }\n",
       "\n",
       "    .dataframe tbody tr th {\n",
       "        vertical-align: top;\n",
       "    }\n",
       "\n",
       "    .dataframe thead th {\n",
       "        text-align: right;\n",
       "    }\n",
       "</style>\n",
       "<table border=\"1\" class=\"dataframe\">\n",
       "  <thead>\n",
       "    <tr style=\"text-align: right;\">\n",
       "      <th></th>\n",
       "      <th>MACD_12_21_9</th>\n",
       "      <th>MACDh_12_21_9</th>\n",
       "      <th>MACDs_12_21_9</th>\n",
       "    </tr>\n",
       "    <tr>\n",
       "      <th>Datetime</th>\n",
       "      <th></th>\n",
       "      <th></th>\n",
       "      <th></th>\n",
       "    </tr>\n",
       "  </thead>\n",
       "  <tbody>\n",
       "    <tr>\n",
       "      <th>2023-01-03 09:30:00-05:00</th>\n",
       "      <td>NaN</td>\n",
       "      <td>NaN</td>\n",
       "      <td>NaN</td>\n",
       "    </tr>\n",
       "    <tr>\n",
       "      <th>2023-01-03 09:35:00-05:00</th>\n",
       "      <td>NaN</td>\n",
       "      <td>NaN</td>\n",
       "      <td>NaN</td>\n",
       "    </tr>\n",
       "    <tr>\n",
       "      <th>2023-01-03 09:40:00-05:00</th>\n",
       "      <td>NaN</td>\n",
       "      <td>NaN</td>\n",
       "      <td>NaN</td>\n",
       "    </tr>\n",
       "    <tr>\n",
       "      <th>2023-01-03 09:45:00-05:00</th>\n",
       "      <td>NaN</td>\n",
       "      <td>NaN</td>\n",
       "      <td>NaN</td>\n",
       "    </tr>\n",
       "    <tr>\n",
       "      <th>2023-01-03 09:50:00-05:00</th>\n",
       "      <td>NaN</td>\n",
       "      <td>NaN</td>\n",
       "      <td>NaN</td>\n",
       "    </tr>\n",
       "    <tr>\n",
       "      <th>...</th>\n",
       "      <td>...</td>\n",
       "      <td>...</td>\n",
       "      <td>...</td>\n",
       "    </tr>\n",
       "    <tr>\n",
       "      <th>2023-02-09 15:35:00-05:00</th>\n",
       "      <td>-0.557726</td>\n",
       "      <td>-0.084563</td>\n",
       "      <td>-0.473163</td>\n",
       "    </tr>\n",
       "    <tr>\n",
       "      <th>2023-02-09 15:40:00-05:00</th>\n",
       "      <td>-0.526630</td>\n",
       "      <td>-0.042773</td>\n",
       "      <td>-0.483857</td>\n",
       "    </tr>\n",
       "    <tr>\n",
       "      <th>2023-02-09 15:45:00-05:00</th>\n",
       "      <td>-0.502897</td>\n",
       "      <td>-0.015232</td>\n",
       "      <td>-0.487665</td>\n",
       "    </tr>\n",
       "    <tr>\n",
       "      <th>2023-02-09 15:50:00-05:00</th>\n",
       "      <td>-0.422852</td>\n",
       "      <td>0.051850</td>\n",
       "      <td>-0.474702</td>\n",
       "    </tr>\n",
       "    <tr>\n",
       "      <th>2023-02-09 15:55:00-05:00</th>\n",
       "      <td>-0.401938</td>\n",
       "      <td>0.058211</td>\n",
       "      <td>-0.460149</td>\n",
       "    </tr>\n",
       "  </tbody>\n",
       "</table>\n",
       "<p>2106 rows × 3 columns</p>\n",
       "</div>"
      ],
      "text/plain": [
       "                           MACD_12_21_9  MACDh_12_21_9  MACDs_12_21_9\n",
       "Datetime                                                             \n",
       "2023-01-03 09:30:00-05:00           NaN            NaN            NaN\n",
       "2023-01-03 09:35:00-05:00           NaN            NaN            NaN\n",
       "2023-01-03 09:40:00-05:00           NaN            NaN            NaN\n",
       "2023-01-03 09:45:00-05:00           NaN            NaN            NaN\n",
       "2023-01-03 09:50:00-05:00           NaN            NaN            NaN\n",
       "...                                 ...            ...            ...\n",
       "2023-02-09 15:35:00-05:00     -0.557726      -0.084563      -0.473163\n",
       "2023-02-09 15:40:00-05:00     -0.526630      -0.042773      -0.483857\n",
       "2023-02-09 15:45:00-05:00     -0.502897      -0.015232      -0.487665\n",
       "2023-02-09 15:50:00-05:00     -0.422852       0.051850      -0.474702\n",
       "2023-02-09 15:55:00-05:00     -0.401938       0.058211      -0.460149\n",
       "\n",
       "[2106 rows x 3 columns]"
      ]
     },
     "execution_count": 5,
     "metadata": {},
     "output_type": "execute_result"
    }
   ],
   "source": [
    "data.ta.macd(fast=12, slow=21, signal=9,append=True)"
   ]
  },
  {
   "cell_type": "code",
   "execution_count": 6,
   "id": "56a0535a",
   "metadata": {},
   "outputs": [],
   "source": []
  },
  {
   "cell_type": "code",
   "execution_count": 7,
   "id": "6cbd6068",
   "metadata": {},
   "outputs": [],
   "source": []
  },
  {
   "cell_type": "code",
   "execution_count": 9,
   "id": "1f12ca64",
   "metadata": {},
   "outputs": [
    {
     "data": {
      "text/html": [
       "<div>\n",
       "<style scoped>\n",
       "    .dataframe tbody tr th:only-of-type {\n",
       "        vertical-align: middle;\n",
       "    }\n",
       "\n",
       "    .dataframe tbody tr th {\n",
       "        vertical-align: top;\n",
       "    }\n",
       "\n",
       "    .dataframe thead th {\n",
       "        text-align: right;\n",
       "    }\n",
       "</style>\n",
       "<table border=\"1\" class=\"dataframe\">\n",
       "  <thead>\n",
       "    <tr style=\"text-align: right;\">\n",
       "      <th></th>\n",
       "      <th>Open</th>\n",
       "      <th>High</th>\n",
       "      <th>Low</th>\n",
       "      <th>Close</th>\n",
       "      <th>Volume</th>\n",
       "      <th>Dividends</th>\n",
       "      <th>Stock Splits</th>\n",
       "      <th>MACD_12_21_9</th>\n",
       "      <th>MACDh_12_21_9</th>\n",
       "      <th>MACDs_12_21_9</th>\n",
       "      <th>z-score-MACDh</th>\n",
       "    </tr>\n",
       "    <tr>\n",
       "      <th>Datetime</th>\n",
       "      <th></th>\n",
       "      <th></th>\n",
       "      <th></th>\n",
       "      <th></th>\n",
       "      <th></th>\n",
       "      <th></th>\n",
       "      <th></th>\n",
       "      <th></th>\n",
       "      <th></th>\n",
       "      <th></th>\n",
       "      <th></th>\n",
       "    </tr>\n",
       "  </thead>\n",
       "  <tbody>\n",
       "    <tr>\n",
       "      <th>2023-01-03 09:30:00-05:00</th>\n",
       "      <td>384.369995</td>\n",
       "      <td>385.119995</td>\n",
       "      <td>383.589996</td>\n",
       "      <td>384.510010</td>\n",
       "      <td>4178396</td>\n",
       "      <td>0</td>\n",
       "      <td>0</td>\n",
       "      <td>NaN</td>\n",
       "      <td>NaN</td>\n",
       "      <td>NaN</td>\n",
       "      <td>NaN</td>\n",
       "    </tr>\n",
       "    <tr>\n",
       "      <th>2023-01-03 09:35:00-05:00</th>\n",
       "      <td>384.540009</td>\n",
       "      <td>385.440002</td>\n",
       "      <td>384.325012</td>\n",
       "      <td>385.390015</td>\n",
       "      <td>962032</td>\n",
       "      <td>0</td>\n",
       "      <td>0</td>\n",
       "      <td>NaN</td>\n",
       "      <td>NaN</td>\n",
       "      <td>NaN</td>\n",
       "      <td>NaN</td>\n",
       "    </tr>\n",
       "    <tr>\n",
       "      <th>2023-01-03 09:40:00-05:00</th>\n",
       "      <td>385.390015</td>\n",
       "      <td>386.429993</td>\n",
       "      <td>385.165497</td>\n",
       "      <td>385.279999</td>\n",
       "      <td>1629643</td>\n",
       "      <td>0</td>\n",
       "      <td>0</td>\n",
       "      <td>NaN</td>\n",
       "      <td>NaN</td>\n",
       "      <td>NaN</td>\n",
       "      <td>NaN</td>\n",
       "    </tr>\n",
       "    <tr>\n",
       "      <th>2023-01-03 09:45:00-05:00</th>\n",
       "      <td>385.279999</td>\n",
       "      <td>385.399994</td>\n",
       "      <td>383.019989</td>\n",
       "      <td>383.500000</td>\n",
       "      <td>1997329</td>\n",
       "      <td>0</td>\n",
       "      <td>0</td>\n",
       "      <td>NaN</td>\n",
       "      <td>NaN</td>\n",
       "      <td>NaN</td>\n",
       "      <td>NaN</td>\n",
       "    </tr>\n",
       "    <tr>\n",
       "      <th>2023-01-03 09:50:00-05:00</th>\n",
       "      <td>383.489990</td>\n",
       "      <td>383.959991</td>\n",
       "      <td>382.500000</td>\n",
       "      <td>382.800110</td>\n",
       "      <td>1800303</td>\n",
       "      <td>0</td>\n",
       "      <td>0</td>\n",
       "      <td>NaN</td>\n",
       "      <td>NaN</td>\n",
       "      <td>NaN</td>\n",
       "      <td>NaN</td>\n",
       "    </tr>\n",
       "    <tr>\n",
       "      <th>...</th>\n",
       "      <td>...</td>\n",
       "      <td>...</td>\n",
       "      <td>...</td>\n",
       "      <td>...</td>\n",
       "      <td>...</td>\n",
       "      <td>...</td>\n",
       "      <td>...</td>\n",
       "      <td>...</td>\n",
       "      <td>...</td>\n",
       "      <td>...</td>\n",
       "      <td>...</td>\n",
       "    </tr>\n",
       "    <tr>\n",
       "      <th>2023-02-09 15:35:00-05:00</th>\n",
       "      <td>406.040009</td>\n",
       "      <td>406.809998</td>\n",
       "      <td>405.809998</td>\n",
       "      <td>406.799988</td>\n",
       "      <td>1551788</td>\n",
       "      <td>0</td>\n",
       "      <td>0</td>\n",
       "      <td>-0.557726</td>\n",
       "      <td>-0.084563</td>\n",
       "      <td>-0.473163</td>\n",
       "      <td>-1.635637</td>\n",
       "    </tr>\n",
       "    <tr>\n",
       "      <th>2023-02-09 15:40:00-05:00</th>\n",
       "      <td>406.799988</td>\n",
       "      <td>407.170013</td>\n",
       "      <td>406.540009</td>\n",
       "      <td>407.119995</td>\n",
       "      <td>1462716</td>\n",
       "      <td>0</td>\n",
       "      <td>0</td>\n",
       "      <td>-0.526630</td>\n",
       "      <td>-0.042773</td>\n",
       "      <td>-0.483857</td>\n",
       "      <td>-0.466368</td>\n",
       "    </tr>\n",
       "    <tr>\n",
       "      <th>2023-02-09 15:45:00-05:00</th>\n",
       "      <td>407.119995</td>\n",
       "      <td>407.549988</td>\n",
       "      <td>406.799988</td>\n",
       "      <td>407.000000</td>\n",
       "      <td>2273052</td>\n",
       "      <td>0</td>\n",
       "      <td>0</td>\n",
       "      <td>-0.502897</td>\n",
       "      <td>-0.015232</td>\n",
       "      <td>-0.487665</td>\n",
       "      <td>0.310375</td>\n",
       "    </tr>\n",
       "    <tr>\n",
       "      <th>2023-02-09 15:50:00-05:00</th>\n",
       "      <td>407.000000</td>\n",
       "      <td>408.202087</td>\n",
       "      <td>406.940002</td>\n",
       "      <td>407.869995</td>\n",
       "      <td>3290510</td>\n",
       "      <td>0</td>\n",
       "      <td>0</td>\n",
       "      <td>-0.422852</td>\n",
       "      <td>0.051850</td>\n",
       "      <td>-0.474702</td>\n",
       "      <td>1.950693</td>\n",
       "    </tr>\n",
       "    <tr>\n",
       "      <th>2023-02-09 15:55:00-05:00</th>\n",
       "      <td>407.890015</td>\n",
       "      <td>407.910004</td>\n",
       "      <td>406.885010</td>\n",
       "      <td>407.130005</td>\n",
       "      <td>4340459</td>\n",
       "      <td>0</td>\n",
       "      <td>0</td>\n",
       "      <td>-0.401938</td>\n",
       "      <td>0.058211</td>\n",
       "      <td>-0.460149</td>\n",
       "      <td>1.881607</td>\n",
       "    </tr>\n",
       "  </tbody>\n",
       "</table>\n",
       "<p>2106 rows × 11 columns</p>\n",
       "</div>"
      ],
      "text/plain": [
       "                                 Open        High         Low       Close  \\\n",
       "Datetime                                                                    \n",
       "2023-01-03 09:30:00-05:00  384.369995  385.119995  383.589996  384.510010   \n",
       "2023-01-03 09:35:00-05:00  384.540009  385.440002  384.325012  385.390015   \n",
       "2023-01-03 09:40:00-05:00  385.390015  386.429993  385.165497  385.279999   \n",
       "2023-01-03 09:45:00-05:00  385.279999  385.399994  383.019989  383.500000   \n",
       "2023-01-03 09:50:00-05:00  383.489990  383.959991  382.500000  382.800110   \n",
       "...                               ...         ...         ...         ...   \n",
       "2023-02-09 15:35:00-05:00  406.040009  406.809998  405.809998  406.799988   \n",
       "2023-02-09 15:40:00-05:00  406.799988  407.170013  406.540009  407.119995   \n",
       "2023-02-09 15:45:00-05:00  407.119995  407.549988  406.799988  407.000000   \n",
       "2023-02-09 15:50:00-05:00  407.000000  408.202087  406.940002  407.869995   \n",
       "2023-02-09 15:55:00-05:00  407.890015  407.910004  406.885010  407.130005   \n",
       "\n",
       "                            Volume  Dividends  Stock Splits  MACD_12_21_9  \\\n",
       "Datetime                                                                    \n",
       "2023-01-03 09:30:00-05:00  4178396          0             0           NaN   \n",
       "2023-01-03 09:35:00-05:00   962032          0             0           NaN   \n",
       "2023-01-03 09:40:00-05:00  1629643          0             0           NaN   \n",
       "2023-01-03 09:45:00-05:00  1997329          0             0           NaN   \n",
       "2023-01-03 09:50:00-05:00  1800303          0             0           NaN   \n",
       "...                            ...        ...           ...           ...   \n",
       "2023-02-09 15:35:00-05:00  1551788          0             0     -0.557726   \n",
       "2023-02-09 15:40:00-05:00  1462716          0             0     -0.526630   \n",
       "2023-02-09 15:45:00-05:00  2273052          0             0     -0.502897   \n",
       "2023-02-09 15:50:00-05:00  3290510          0             0     -0.422852   \n",
       "2023-02-09 15:55:00-05:00  4340459          0             0     -0.401938   \n",
       "\n",
       "                           MACDh_12_21_9  MACDs_12_21_9  z-score-MACDh  \n",
       "Datetime                                                                \n",
       "2023-01-03 09:30:00-05:00            NaN            NaN            NaN  \n",
       "2023-01-03 09:35:00-05:00            NaN            NaN            NaN  \n",
       "2023-01-03 09:40:00-05:00            NaN            NaN            NaN  \n",
       "2023-01-03 09:45:00-05:00            NaN            NaN            NaN  \n",
       "2023-01-03 09:50:00-05:00            NaN            NaN            NaN  \n",
       "...                                  ...            ...            ...  \n",
       "2023-02-09 15:35:00-05:00      -0.084563      -0.473163      -1.635637  \n",
       "2023-02-09 15:40:00-05:00      -0.042773      -0.483857      -0.466368  \n",
       "2023-02-09 15:45:00-05:00      -0.015232      -0.487665       0.310375  \n",
       "2023-02-09 15:50:00-05:00       0.051850      -0.474702       1.950693  \n",
       "2023-02-09 15:55:00-05:00       0.058211      -0.460149       1.881607  \n",
       "\n",
       "[2106 rows x 11 columns]"
      ]
     },
     "execution_count": 9,
     "metadata": {},
     "output_type": "execute_result"
    }
   ],
   "source": [
    "window = 21\n",
    "target_column = 'MACDh_12_21_9'\n",
    "roll = data[target_column].rolling(window)\n",
    "data['z-score-MACDh'] = (data[target_column] - roll.mean()) / roll.std()\n",
    "data"
   ]
  },
  {
   "cell_type": "code",
   "execution_count": 39,
   "id": "8f2db00c",
   "metadata": {},
   "outputs": [
    {
     "data": {
      "text/html": [
       "<div>\n",
       "<style scoped>\n",
       "    .dataframe tbody tr th:only-of-type {\n",
       "        vertical-align: middle;\n",
       "    }\n",
       "\n",
       "    .dataframe tbody tr th {\n",
       "        vertical-align: top;\n",
       "    }\n",
       "\n",
       "    .dataframe thead th {\n",
       "        text-align: right;\n",
       "    }\n",
       "</style>\n",
       "<table border=\"1\" class=\"dataframe\">\n",
       "  <thead>\n",
       "    <tr style=\"text-align: right;\">\n",
       "      <th></th>\n",
       "      <th>Open</th>\n",
       "      <th>High</th>\n",
       "      <th>Low</th>\n",
       "      <th>Close</th>\n",
       "      <th>Volume</th>\n",
       "      <th>Dividends</th>\n",
       "      <th>Stock Splits</th>\n",
       "      <th>MACD_12_21_9</th>\n",
       "      <th>MACDh_12_21_9</th>\n",
       "      <th>MACDs_12_21_9</th>\n",
       "      <th>z-score-MACDh</th>\n",
       "    </tr>\n",
       "    <tr>\n",
       "      <th>Datetime</th>\n",
       "      <th></th>\n",
       "      <th></th>\n",
       "      <th></th>\n",
       "      <th></th>\n",
       "      <th></th>\n",
       "      <th></th>\n",
       "      <th></th>\n",
       "      <th></th>\n",
       "      <th></th>\n",
       "      <th></th>\n",
       "      <th></th>\n",
       "    </tr>\n",
       "  </thead>\n",
       "  <tbody>\n",
       "    <tr>\n",
       "      <th>2023-01-03 09:30:00-05:00</th>\n",
       "      <td>384.369995</td>\n",
       "      <td>385.119995</td>\n",
       "      <td>383.589996</td>\n",
       "      <td>384.510010</td>\n",
       "      <td>4178396</td>\n",
       "      <td>0</td>\n",
       "      <td>0</td>\n",
       "      <td>NaN</td>\n",
       "      <td>NaN</td>\n",
       "      <td>NaN</td>\n",
       "      <td>NaN</td>\n",
       "    </tr>\n",
       "    <tr>\n",
       "      <th>2023-01-03 09:35:00-05:00</th>\n",
       "      <td>384.540009</td>\n",
       "      <td>385.440002</td>\n",
       "      <td>384.325012</td>\n",
       "      <td>385.390015</td>\n",
       "      <td>962032</td>\n",
       "      <td>0</td>\n",
       "      <td>0</td>\n",
       "      <td>NaN</td>\n",
       "      <td>NaN</td>\n",
       "      <td>NaN</td>\n",
       "      <td>NaN</td>\n",
       "    </tr>\n",
       "    <tr>\n",
       "      <th>2023-01-03 09:40:00-05:00</th>\n",
       "      <td>385.390015</td>\n",
       "      <td>386.429993</td>\n",
       "      <td>385.165497</td>\n",
       "      <td>385.279999</td>\n",
       "      <td>1629643</td>\n",
       "      <td>0</td>\n",
       "      <td>0</td>\n",
       "      <td>NaN</td>\n",
       "      <td>NaN</td>\n",
       "      <td>NaN</td>\n",
       "      <td>NaN</td>\n",
       "    </tr>\n",
       "    <tr>\n",
       "      <th>2023-01-03 09:45:00-05:00</th>\n",
       "      <td>385.279999</td>\n",
       "      <td>385.399994</td>\n",
       "      <td>383.019989</td>\n",
       "      <td>383.500000</td>\n",
       "      <td>1997329</td>\n",
       "      <td>0</td>\n",
       "      <td>0</td>\n",
       "      <td>NaN</td>\n",
       "      <td>NaN</td>\n",
       "      <td>NaN</td>\n",
       "      <td>NaN</td>\n",
       "    </tr>\n",
       "    <tr>\n",
       "      <th>2023-01-03 09:50:00-05:00</th>\n",
       "      <td>383.489990</td>\n",
       "      <td>383.959991</td>\n",
       "      <td>382.500000</td>\n",
       "      <td>382.800110</td>\n",
       "      <td>1800303</td>\n",
       "      <td>0</td>\n",
       "      <td>0</td>\n",
       "      <td>NaN</td>\n",
       "      <td>NaN</td>\n",
       "      <td>NaN</td>\n",
       "      <td>NaN</td>\n",
       "    </tr>\n",
       "  </tbody>\n",
       "</table>\n",
       "</div>"
      ],
      "text/plain": [
       "                                 Open        High         Low       Close  \\\n",
       "Datetime                                                                    \n",
       "2023-01-03 09:30:00-05:00  384.369995  385.119995  383.589996  384.510010   \n",
       "2023-01-03 09:35:00-05:00  384.540009  385.440002  384.325012  385.390015   \n",
       "2023-01-03 09:40:00-05:00  385.390015  386.429993  385.165497  385.279999   \n",
       "2023-01-03 09:45:00-05:00  385.279999  385.399994  383.019989  383.500000   \n",
       "2023-01-03 09:50:00-05:00  383.489990  383.959991  382.500000  382.800110   \n",
       "\n",
       "                            Volume  Dividends  Stock Splits  MACD_12_21_9  \\\n",
       "Datetime                                                                    \n",
       "2023-01-03 09:30:00-05:00  4178396          0             0           NaN   \n",
       "2023-01-03 09:35:00-05:00   962032          0             0           NaN   \n",
       "2023-01-03 09:40:00-05:00  1629643          0             0           NaN   \n",
       "2023-01-03 09:45:00-05:00  1997329          0             0           NaN   \n",
       "2023-01-03 09:50:00-05:00  1800303          0             0           NaN   \n",
       "\n",
       "                           MACDh_12_21_9  MACDs_12_21_9  z-score-MACDh  \n",
       "Datetime                                                                \n",
       "2023-01-03 09:30:00-05:00            NaN            NaN            NaN  \n",
       "2023-01-03 09:35:00-05:00            NaN            NaN            NaN  \n",
       "2023-01-03 09:40:00-05:00            NaN            NaN            NaN  \n",
       "2023-01-03 09:45:00-05:00            NaN            NaN            NaN  \n",
       "2023-01-03 09:50:00-05:00            NaN            NaN            NaN  "
      ]
     },
     "execution_count": 39,
     "metadata": {},
     "output_type": "execute_result"
    }
   ],
   "source": [
    "data.head()"
   ]
  },
  {
   "cell_type": "code",
   "execution_count": 43,
   "id": "38516c6e",
   "metadata": {},
   "outputs": [
    {
     "data": {
      "text/plain": [
       "Datetime\n",
       "2023-01-03 09:30:00-05:00   -0.010065\n",
       "2023-01-03 09:35:00-05:00   -0.011365\n",
       "2023-01-03 09:40:00-05:00   -0.010953\n",
       "2023-01-03 09:45:00-05:00   -0.005489\n",
       "2023-01-03 09:50:00-05:00   -0.004833\n",
       "                               ...   \n",
       "2023-02-09 15:35:00-05:00         NaN\n",
       "2023-02-09 15:40:00-05:00         NaN\n",
       "2023-02-09 15:45:00-05:00         NaN\n",
       "2023-02-09 15:50:00-05:00         NaN\n",
       "2023-02-09 15:55:00-05:00         NaN\n",
       "Name: Close, Length: 2106, dtype: float64"
      ]
     },
     "execution_count": 43,
     "metadata": {},
     "output_type": "execute_result"
    }
   ],
   "source": [
    "data['Close'].pct_change(12).shift(-12)"
   ]
  },
  {
   "cell_type": "code",
   "execution_count": 45,
   "id": "e69fe002",
   "metadata": {},
   "outputs": [
    {
     "data": {
      "text/html": [
       "<div>\n",
       "<style scoped>\n",
       "    .dataframe tbody tr th:only-of-type {\n",
       "        vertical-align: middle;\n",
       "    }\n",
       "\n",
       "    .dataframe tbody tr th {\n",
       "        vertical-align: top;\n",
       "    }\n",
       "\n",
       "    .dataframe thead th {\n",
       "        text-align: right;\n",
       "    }\n",
       "</style>\n",
       "<table border=\"1\" class=\"dataframe\">\n",
       "  <thead>\n",
       "    <tr style=\"text-align: right;\">\n",
       "      <th></th>\n",
       "      <th>Open</th>\n",
       "      <th>High</th>\n",
       "      <th>Low</th>\n",
       "      <th>Close</th>\n",
       "      <th>Volume</th>\n",
       "      <th>Dividends</th>\n",
       "      <th>Stock Splits</th>\n",
       "      <th>MACD_12_21_9</th>\n",
       "      <th>MACDh_12_21_9</th>\n",
       "      <th>MACDs_12_21_9</th>\n",
       "      <th>z-score-MACDh</th>\n",
       "      <th>Profit-Loss</th>\n",
       "    </tr>\n",
       "    <tr>\n",
       "      <th>Datetime</th>\n",
       "      <th></th>\n",
       "      <th></th>\n",
       "      <th></th>\n",
       "      <th></th>\n",
       "      <th></th>\n",
       "      <th></th>\n",
       "      <th></th>\n",
       "      <th></th>\n",
       "      <th></th>\n",
       "      <th></th>\n",
       "      <th></th>\n",
       "      <th></th>\n",
       "    </tr>\n",
       "  </thead>\n",
       "  <tbody>\n",
       "    <tr>\n",
       "      <th>2023-01-03 09:30:00-05:00</th>\n",
       "      <td>384.369995</td>\n",
       "      <td>385.119995</td>\n",
       "      <td>383.589996</td>\n",
       "      <td>384.510010</td>\n",
       "      <td>4178396</td>\n",
       "      <td>0</td>\n",
       "      <td>0</td>\n",
       "      <td>NaN</td>\n",
       "      <td>NaN</td>\n",
       "      <td>NaN</td>\n",
       "      <td>NaN</td>\n",
       "      <td>-0.010065</td>\n",
       "    </tr>\n",
       "    <tr>\n",
       "      <th>2023-01-03 09:35:00-05:00</th>\n",
       "      <td>384.540009</td>\n",
       "      <td>385.440002</td>\n",
       "      <td>384.325012</td>\n",
       "      <td>385.390015</td>\n",
       "      <td>962032</td>\n",
       "      <td>0</td>\n",
       "      <td>0</td>\n",
       "      <td>NaN</td>\n",
       "      <td>NaN</td>\n",
       "      <td>NaN</td>\n",
       "      <td>NaN</td>\n",
       "      <td>-0.011365</td>\n",
       "    </tr>\n",
       "    <tr>\n",
       "      <th>2023-01-03 09:40:00-05:00</th>\n",
       "      <td>385.390015</td>\n",
       "      <td>386.429993</td>\n",
       "      <td>385.165497</td>\n",
       "      <td>385.279999</td>\n",
       "      <td>1629643</td>\n",
       "      <td>0</td>\n",
       "      <td>0</td>\n",
       "      <td>NaN</td>\n",
       "      <td>NaN</td>\n",
       "      <td>NaN</td>\n",
       "      <td>NaN</td>\n",
       "      <td>-0.010953</td>\n",
       "    </tr>\n",
       "    <tr>\n",
       "      <th>2023-01-03 09:45:00-05:00</th>\n",
       "      <td>385.279999</td>\n",
       "      <td>385.399994</td>\n",
       "      <td>383.019989</td>\n",
       "      <td>383.500000</td>\n",
       "      <td>1997329</td>\n",
       "      <td>0</td>\n",
       "      <td>0</td>\n",
       "      <td>NaN</td>\n",
       "      <td>NaN</td>\n",
       "      <td>NaN</td>\n",
       "      <td>NaN</td>\n",
       "      <td>-0.005489</td>\n",
       "    </tr>\n",
       "    <tr>\n",
       "      <th>2023-01-03 09:50:00-05:00</th>\n",
       "      <td>383.489990</td>\n",
       "      <td>383.959991</td>\n",
       "      <td>382.500000</td>\n",
       "      <td>382.800110</td>\n",
       "      <td>1800303</td>\n",
       "      <td>0</td>\n",
       "      <td>0</td>\n",
       "      <td>NaN</td>\n",
       "      <td>NaN</td>\n",
       "      <td>NaN</td>\n",
       "      <td>NaN</td>\n",
       "      <td>-0.004833</td>\n",
       "    </tr>\n",
       "    <tr>\n",
       "      <th>...</th>\n",
       "      <td>...</td>\n",
       "      <td>...</td>\n",
       "      <td>...</td>\n",
       "      <td>...</td>\n",
       "      <td>...</td>\n",
       "      <td>...</td>\n",
       "      <td>...</td>\n",
       "      <td>...</td>\n",
       "      <td>...</td>\n",
       "      <td>...</td>\n",
       "      <td>...</td>\n",
       "      <td>...</td>\n",
       "    </tr>\n",
       "    <tr>\n",
       "      <th>2023-02-09 15:35:00-05:00</th>\n",
       "      <td>406.040009</td>\n",
       "      <td>406.809998</td>\n",
       "      <td>405.809998</td>\n",
       "      <td>406.799988</td>\n",
       "      <td>1551788</td>\n",
       "      <td>0</td>\n",
       "      <td>0</td>\n",
       "      <td>-0.557726</td>\n",
       "      <td>-0.084563</td>\n",
       "      <td>-0.473163</td>\n",
       "      <td>-1.635637</td>\n",
       "      <td>NaN</td>\n",
       "    </tr>\n",
       "    <tr>\n",
       "      <th>2023-02-09 15:40:00-05:00</th>\n",
       "      <td>406.799988</td>\n",
       "      <td>407.170013</td>\n",
       "      <td>406.540009</td>\n",
       "      <td>407.119995</td>\n",
       "      <td>1462716</td>\n",
       "      <td>0</td>\n",
       "      <td>0</td>\n",
       "      <td>-0.526630</td>\n",
       "      <td>-0.042773</td>\n",
       "      <td>-0.483857</td>\n",
       "      <td>-0.466368</td>\n",
       "      <td>NaN</td>\n",
       "    </tr>\n",
       "    <tr>\n",
       "      <th>2023-02-09 15:45:00-05:00</th>\n",
       "      <td>407.119995</td>\n",
       "      <td>407.549988</td>\n",
       "      <td>406.799988</td>\n",
       "      <td>407.000000</td>\n",
       "      <td>2273052</td>\n",
       "      <td>0</td>\n",
       "      <td>0</td>\n",
       "      <td>-0.502897</td>\n",
       "      <td>-0.015232</td>\n",
       "      <td>-0.487665</td>\n",
       "      <td>0.310375</td>\n",
       "      <td>NaN</td>\n",
       "    </tr>\n",
       "    <tr>\n",
       "      <th>2023-02-09 15:50:00-05:00</th>\n",
       "      <td>407.000000</td>\n",
       "      <td>408.202087</td>\n",
       "      <td>406.940002</td>\n",
       "      <td>407.869995</td>\n",
       "      <td>3290510</td>\n",
       "      <td>0</td>\n",
       "      <td>0</td>\n",
       "      <td>-0.422852</td>\n",
       "      <td>0.051850</td>\n",
       "      <td>-0.474702</td>\n",
       "      <td>1.950693</td>\n",
       "      <td>NaN</td>\n",
       "    </tr>\n",
       "    <tr>\n",
       "      <th>2023-02-09 15:55:00-05:00</th>\n",
       "      <td>407.890015</td>\n",
       "      <td>407.910004</td>\n",
       "      <td>406.885010</td>\n",
       "      <td>407.130005</td>\n",
       "      <td>4340459</td>\n",
       "      <td>0</td>\n",
       "      <td>0</td>\n",
       "      <td>-0.401938</td>\n",
       "      <td>0.058211</td>\n",
       "      <td>-0.460149</td>\n",
       "      <td>1.881607</td>\n",
       "      <td>NaN</td>\n",
       "    </tr>\n",
       "  </tbody>\n",
       "</table>\n",
       "<p>2106 rows × 12 columns</p>\n",
       "</div>"
      ],
      "text/plain": [
       "                                 Open        High         Low       Close  \\\n",
       "Datetime                                                                    \n",
       "2023-01-03 09:30:00-05:00  384.369995  385.119995  383.589996  384.510010   \n",
       "2023-01-03 09:35:00-05:00  384.540009  385.440002  384.325012  385.390015   \n",
       "2023-01-03 09:40:00-05:00  385.390015  386.429993  385.165497  385.279999   \n",
       "2023-01-03 09:45:00-05:00  385.279999  385.399994  383.019989  383.500000   \n",
       "2023-01-03 09:50:00-05:00  383.489990  383.959991  382.500000  382.800110   \n",
       "...                               ...         ...         ...         ...   \n",
       "2023-02-09 15:35:00-05:00  406.040009  406.809998  405.809998  406.799988   \n",
       "2023-02-09 15:40:00-05:00  406.799988  407.170013  406.540009  407.119995   \n",
       "2023-02-09 15:45:00-05:00  407.119995  407.549988  406.799988  407.000000   \n",
       "2023-02-09 15:50:00-05:00  407.000000  408.202087  406.940002  407.869995   \n",
       "2023-02-09 15:55:00-05:00  407.890015  407.910004  406.885010  407.130005   \n",
       "\n",
       "                            Volume  Dividends  Stock Splits  MACD_12_21_9  \\\n",
       "Datetime                                                                    \n",
       "2023-01-03 09:30:00-05:00  4178396          0             0           NaN   \n",
       "2023-01-03 09:35:00-05:00   962032          0             0           NaN   \n",
       "2023-01-03 09:40:00-05:00  1629643          0             0           NaN   \n",
       "2023-01-03 09:45:00-05:00  1997329          0             0           NaN   \n",
       "2023-01-03 09:50:00-05:00  1800303          0             0           NaN   \n",
       "...                            ...        ...           ...           ...   \n",
       "2023-02-09 15:35:00-05:00  1551788          0             0     -0.557726   \n",
       "2023-02-09 15:40:00-05:00  1462716          0             0     -0.526630   \n",
       "2023-02-09 15:45:00-05:00  2273052          0             0     -0.502897   \n",
       "2023-02-09 15:50:00-05:00  3290510          0             0     -0.422852   \n",
       "2023-02-09 15:55:00-05:00  4340459          0             0     -0.401938   \n",
       "\n",
       "                           MACDh_12_21_9  MACDs_12_21_9  z-score-MACDh  \\\n",
       "Datetime                                                                 \n",
       "2023-01-03 09:30:00-05:00            NaN            NaN            NaN   \n",
       "2023-01-03 09:35:00-05:00            NaN            NaN            NaN   \n",
       "2023-01-03 09:40:00-05:00            NaN            NaN            NaN   \n",
       "2023-01-03 09:45:00-05:00            NaN            NaN            NaN   \n",
       "2023-01-03 09:50:00-05:00            NaN            NaN            NaN   \n",
       "...                                  ...            ...            ...   \n",
       "2023-02-09 15:35:00-05:00      -0.084563      -0.473163      -1.635637   \n",
       "2023-02-09 15:40:00-05:00      -0.042773      -0.483857      -0.466368   \n",
       "2023-02-09 15:45:00-05:00      -0.015232      -0.487665       0.310375   \n",
       "2023-02-09 15:50:00-05:00       0.051850      -0.474702       1.950693   \n",
       "2023-02-09 15:55:00-05:00       0.058211      -0.460149       1.881607   \n",
       "\n",
       "                           Profit-Loss  \n",
       "Datetime                                \n",
       "2023-01-03 09:30:00-05:00    -0.010065  \n",
       "2023-01-03 09:35:00-05:00    -0.011365  \n",
       "2023-01-03 09:40:00-05:00    -0.010953  \n",
       "2023-01-03 09:45:00-05:00    -0.005489  \n",
       "2023-01-03 09:50:00-05:00    -0.004833  \n",
       "...                                ...  \n",
       "2023-02-09 15:35:00-05:00          NaN  \n",
       "2023-02-09 15:40:00-05:00          NaN  \n",
       "2023-02-09 15:45:00-05:00          NaN  \n",
       "2023-02-09 15:50:00-05:00          NaN  \n",
       "2023-02-09 15:55:00-05:00          NaN  \n",
       "\n",
       "[2106 rows x 12 columns]"
      ]
     },
     "execution_count": 45,
     "metadata": {},
     "output_type": "execute_result"
    }
   ],
   "source": [
    "data['Profit-Loss'] = data['Close'].pct_change(12).shift(-12)\n",
    "data"
   ]
  },
  {
   "cell_type": "code",
   "execution_count": 46,
   "id": "9c215cdd",
   "metadata": {},
   "outputs": [
    {
     "data": {
      "text/html": [
       "<div>\n",
       "<style scoped>\n",
       "    .dataframe tbody tr th:only-of-type {\n",
       "        vertical-align: middle;\n",
       "    }\n",
       "\n",
       "    .dataframe tbody tr th {\n",
       "        vertical-align: top;\n",
       "    }\n",
       "\n",
       "    .dataframe thead th {\n",
       "        text-align: right;\n",
       "    }\n",
       "</style>\n",
       "<table border=\"1\" class=\"dataframe\">\n",
       "  <thead>\n",
       "    <tr style=\"text-align: right;\">\n",
       "      <th></th>\n",
       "      <th>Open</th>\n",
       "      <th>High</th>\n",
       "      <th>Low</th>\n",
       "      <th>Close</th>\n",
       "      <th>Volume</th>\n",
       "      <th>Dividends</th>\n",
       "      <th>Stock Splits</th>\n",
       "      <th>MACD_12_21_9</th>\n",
       "      <th>MACDh_12_21_9</th>\n",
       "      <th>MACDs_12_21_9</th>\n",
       "      <th>z-score-MACDh</th>\n",
       "      <th>Profit-Loss</th>\n",
       "    </tr>\n",
       "    <tr>\n",
       "      <th>Datetime</th>\n",
       "      <th></th>\n",
       "      <th></th>\n",
       "      <th></th>\n",
       "      <th></th>\n",
       "      <th></th>\n",
       "      <th></th>\n",
       "      <th></th>\n",
       "      <th></th>\n",
       "      <th></th>\n",
       "      <th></th>\n",
       "      <th></th>\n",
       "      <th></th>\n",
       "    </tr>\n",
       "  </thead>\n",
       "  <tbody>\n",
       "    <tr>\n",
       "      <th>2023-01-03 13:30:00-05:00</th>\n",
       "      <td>379.519989</td>\n",
       "      <td>379.609985</td>\n",
       "      <td>379.179993</td>\n",
       "      <td>379.209991</td>\n",
       "      <td>392933</td>\n",
       "      <td>0</td>\n",
       "      <td>0</td>\n",
       "      <td>-0.223269</td>\n",
       "      <td>0.137801</td>\n",
       "      <td>-0.361070</td>\n",
       "      <td>1.160757</td>\n",
       "      <td>-0.002307</td>\n",
       "    </tr>\n",
       "    <tr>\n",
       "      <th>2023-01-03 13:35:00-05:00</th>\n",
       "      <td>379.230011</td>\n",
       "      <td>379.619995</td>\n",
       "      <td>379.079987</td>\n",
       "      <td>379.159912</td>\n",
       "      <td>376260</td>\n",
       "      <td>0</td>\n",
       "      <td>0</td>\n",
       "      <td>-0.186774</td>\n",
       "      <td>0.139437</td>\n",
       "      <td>-0.326211</td>\n",
       "      <td>1.095096</td>\n",
       "      <td>-0.002031</td>\n",
       "    </tr>\n",
       "    <tr>\n",
       "      <th>2023-01-03 13:40:00-05:00</th>\n",
       "      <td>379.154999</td>\n",
       "      <td>379.749115</td>\n",
       "      <td>379.130005</td>\n",
       "      <td>379.355408</td>\n",
       "      <td>617556</td>\n",
       "      <td>0</td>\n",
       "      <td>0</td>\n",
       "      <td>-0.143784</td>\n",
       "      <td>0.145942</td>\n",
       "      <td>-0.289726</td>\n",
       "      <td>1.155702</td>\n",
       "      <td>0.000249</td>\n",
       "    </tr>\n",
       "    <tr>\n",
       "      <th>2023-01-03 13:45:00-05:00</th>\n",
       "      <td>379.353607</td>\n",
       "      <td>379.356506</td>\n",
       "      <td>378.959991</td>\n",
       "      <td>379.306488</td>\n",
       "      <td>388792</td>\n",
       "      <td>0</td>\n",
       "      <td>0</td>\n",
       "      <td>-0.111783</td>\n",
       "      <td>0.142354</td>\n",
       "      <td>-0.254137</td>\n",
       "      <td>0.961196</td>\n",
       "      <td>0.003173</td>\n",
       "    </tr>\n",
       "    <tr>\n",
       "      <th>2023-01-03 13:50:00-05:00</th>\n",
       "      <td>379.309998</td>\n",
       "      <td>379.929993</td>\n",
       "      <td>379.130005</td>\n",
       "      <td>379.760010</td>\n",
       "      <td>388273</td>\n",
       "      <td>0</td>\n",
       "      <td>0</td>\n",
       "      <td>-0.057060</td>\n",
       "      <td>0.157662</td>\n",
       "      <td>-0.214721</td>\n",
       "      <td>1.256513</td>\n",
       "      <td>0.000685</td>\n",
       "    </tr>\n",
       "  </tbody>\n",
       "</table>\n",
       "</div>"
      ],
      "text/plain": [
       "                                 Open        High         Low       Close  \\\n",
       "Datetime                                                                    \n",
       "2023-01-03 13:30:00-05:00  379.519989  379.609985  379.179993  379.209991   \n",
       "2023-01-03 13:35:00-05:00  379.230011  379.619995  379.079987  379.159912   \n",
       "2023-01-03 13:40:00-05:00  379.154999  379.749115  379.130005  379.355408   \n",
       "2023-01-03 13:45:00-05:00  379.353607  379.356506  378.959991  379.306488   \n",
       "2023-01-03 13:50:00-05:00  379.309998  379.929993  379.130005  379.760010   \n",
       "\n",
       "                           Volume  Dividends  Stock Splits  MACD_12_21_9  \\\n",
       "Datetime                                                                   \n",
       "2023-01-03 13:30:00-05:00  392933          0             0     -0.223269   \n",
       "2023-01-03 13:35:00-05:00  376260          0             0     -0.186774   \n",
       "2023-01-03 13:40:00-05:00  617556          0             0     -0.143784   \n",
       "2023-01-03 13:45:00-05:00  388792          0             0     -0.111783   \n",
       "2023-01-03 13:50:00-05:00  388273          0             0     -0.057060   \n",
       "\n",
       "                           MACDh_12_21_9  MACDs_12_21_9  z-score-MACDh  \\\n",
       "Datetime                                                                 \n",
       "2023-01-03 13:30:00-05:00       0.137801      -0.361070       1.160757   \n",
       "2023-01-03 13:35:00-05:00       0.139437      -0.326211       1.095096   \n",
       "2023-01-03 13:40:00-05:00       0.145942      -0.289726       1.155702   \n",
       "2023-01-03 13:45:00-05:00       0.142354      -0.254137       0.961196   \n",
       "2023-01-03 13:50:00-05:00       0.157662      -0.214721       1.256513   \n",
       "\n",
       "                           Profit-Loss  \n",
       "Datetime                                \n",
       "2023-01-03 13:30:00-05:00    -0.002307  \n",
       "2023-01-03 13:35:00-05:00    -0.002031  \n",
       "2023-01-03 13:40:00-05:00     0.000249  \n",
       "2023-01-03 13:45:00-05:00     0.003173  \n",
       "2023-01-03 13:50:00-05:00     0.000685  "
      ]
     },
     "execution_count": 46,
     "metadata": {},
     "output_type": "execute_result"
    }
   ],
   "source": [
    "data = data.dropna()\n",
    "data.head()"
   ]
  },
  {
   "cell_type": "markdown",
   "id": "1daa4518",
   "metadata": {},
   "source": [
    "# Train Model"
   ]
  },
  {
   "cell_type": "code",
   "execution_count": 49,
   "id": "ee95b998",
   "metadata": {},
   "outputs": [],
   "source": [
    "my_features = ['MACD_12_21_9', 'MACDs_12_21_9','z-score-MACDh']\n",
    "X = data[my_features]\n",
    "y = data['Profit-Loss']"
   ]
  },
  {
   "cell_type": "code",
   "execution_count": 53,
   "id": "25505285",
   "metadata": {},
   "outputs": [],
   "source": [
    "X_train, X_test, y_train, y_test = train_test_split(X, y, test_size=0.25, random_state=42)"
   ]
  },
  {
   "cell_type": "code",
   "execution_count": 54,
   "id": "b9c3e46f",
   "metadata": {},
   "outputs": [],
   "source": [
    "reg = LinearRegression()"
   ]
  },
  {
   "cell_type": "code",
   "execution_count": 55,
   "id": "3ba79720",
   "metadata": {},
   "outputs": [
    {
     "data": {
      "text/html": [
       "<style>#sk-container-id-1 {color: black;background-color: white;}#sk-container-id-1 pre{padding: 0;}#sk-container-id-1 div.sk-toggleable {background-color: white;}#sk-container-id-1 label.sk-toggleable__label {cursor: pointer;display: block;width: 100%;margin-bottom: 0;padding: 0.3em;box-sizing: border-box;text-align: center;}#sk-container-id-1 label.sk-toggleable__label-arrow:before {content: \"▸\";float: left;margin-right: 0.25em;color: #696969;}#sk-container-id-1 label.sk-toggleable__label-arrow:hover:before {color: black;}#sk-container-id-1 div.sk-estimator:hover label.sk-toggleable__label-arrow:before {color: black;}#sk-container-id-1 div.sk-toggleable__content {max-height: 0;max-width: 0;overflow: hidden;text-align: left;background-color: #f0f8ff;}#sk-container-id-1 div.sk-toggleable__content pre {margin: 0.2em;color: black;border-radius: 0.25em;background-color: #f0f8ff;}#sk-container-id-1 input.sk-toggleable__control:checked~div.sk-toggleable__content {max-height: 200px;max-width: 100%;overflow: auto;}#sk-container-id-1 input.sk-toggleable__control:checked~label.sk-toggleable__label-arrow:before {content: \"▾\";}#sk-container-id-1 div.sk-estimator input.sk-toggleable__control:checked~label.sk-toggleable__label {background-color: #d4ebff;}#sk-container-id-1 div.sk-label input.sk-toggleable__control:checked~label.sk-toggleable__label {background-color: #d4ebff;}#sk-container-id-1 input.sk-hidden--visually {border: 0;clip: rect(1px 1px 1px 1px);clip: rect(1px, 1px, 1px, 1px);height: 1px;margin: -1px;overflow: hidden;padding: 0;position: absolute;width: 1px;}#sk-container-id-1 div.sk-estimator {font-family: monospace;background-color: #f0f8ff;border: 1px dotted black;border-radius: 0.25em;box-sizing: border-box;margin-bottom: 0.5em;}#sk-container-id-1 div.sk-estimator:hover {background-color: #d4ebff;}#sk-container-id-1 div.sk-parallel-item::after {content: \"\";width: 100%;border-bottom: 1px solid gray;flex-grow: 1;}#sk-container-id-1 div.sk-label:hover label.sk-toggleable__label {background-color: #d4ebff;}#sk-container-id-1 div.sk-serial::before {content: \"\";position: absolute;border-left: 1px solid gray;box-sizing: border-box;top: 0;bottom: 0;left: 50%;z-index: 0;}#sk-container-id-1 div.sk-serial {display: flex;flex-direction: column;align-items: center;background-color: white;padding-right: 0.2em;padding-left: 0.2em;position: relative;}#sk-container-id-1 div.sk-item {position: relative;z-index: 1;}#sk-container-id-1 div.sk-parallel {display: flex;align-items: stretch;justify-content: center;background-color: white;position: relative;}#sk-container-id-1 div.sk-item::before, #sk-container-id-1 div.sk-parallel-item::before {content: \"\";position: absolute;border-left: 1px solid gray;box-sizing: border-box;top: 0;bottom: 0;left: 50%;z-index: -1;}#sk-container-id-1 div.sk-parallel-item {display: flex;flex-direction: column;z-index: 1;position: relative;background-color: white;}#sk-container-id-1 div.sk-parallel-item:first-child::after {align-self: flex-end;width: 50%;}#sk-container-id-1 div.sk-parallel-item:last-child::after {align-self: flex-start;width: 50%;}#sk-container-id-1 div.sk-parallel-item:only-child::after {width: 0;}#sk-container-id-1 div.sk-dashed-wrapped {border: 1px dashed gray;margin: 0 0.4em 0.5em 0.4em;box-sizing: border-box;padding-bottom: 0.4em;background-color: white;}#sk-container-id-1 div.sk-label label {font-family: monospace;font-weight: bold;display: inline-block;line-height: 1.2em;}#sk-container-id-1 div.sk-label-container {text-align: center;}#sk-container-id-1 div.sk-container {/* jupyter's `normalize.less` sets `[hidden] { display: none; }` but bootstrap.min.css set `[hidden] { display: none !important; }` so we also need the `!important` here to be able to override the default hidden behavior on the sphinx rendered scikit-learn.org. See: https://github.com/scikit-learn/scikit-learn/issues/21755 */display: inline-block !important;position: relative;}#sk-container-id-1 div.sk-text-repr-fallback {display: none;}</style><div id=\"sk-container-id-1\" class=\"sk-top-container\"><div class=\"sk-text-repr-fallback\"><pre>LinearRegression()</pre><b>In a Jupyter environment, please rerun this cell to show the HTML representation or trust the notebook. <br />On GitHub, the HTML representation is unable to render, please try loading this page with nbviewer.org.</b></div><div class=\"sk-container\" hidden><div class=\"sk-item\"><div class=\"sk-estimator sk-toggleable\"><input class=\"sk-toggleable__control sk-hidden--visually\" id=\"sk-estimator-id-1\" type=\"checkbox\" checked><label for=\"sk-estimator-id-1\" class=\"sk-toggleable__label sk-toggleable__label-arrow\">LinearRegression</label><div class=\"sk-toggleable__content\"><pre>LinearRegression()</pre></div></div></div></div></div>"
      ],
      "text/plain": [
       "LinearRegression()"
      ]
     },
     "execution_count": 55,
     "metadata": {},
     "output_type": "execute_result"
    }
   ],
   "source": [
    "reg.fit(X_train, y_train)"
   ]
  },
  {
   "cell_type": "code",
   "execution_count": 57,
   "id": "1994dd76",
   "metadata": {},
   "outputs": [
    {
     "name": "stdout",
     "output_type": "stream",
     "text": [
      "[ 0.00359799 -0.00264238 -0.0003721 ]\n",
      "0.0003047215775582316\n"
     ]
    }
   ],
   "source": [
    "print(reg.coef_)\n",
    "print(reg.intercept_)"
   ]
  },
  {
   "cell_type": "markdown",
   "id": "d20e3d6b",
   "metadata": {},
   "source": [
    "# Test Model"
   ]
  },
  {
   "cell_type": "markdown",
   "id": "d56549b4",
   "metadata": {},
   "source": [
    "## training set"
   ]
  },
  {
   "cell_type": "code",
   "execution_count": 58,
   "id": "8b1bc232",
   "metadata": {},
   "outputs": [],
   "source": [
    "y_pred_train = reg.predict(X_train)"
   ]
  },
  {
   "cell_type": "code",
   "execution_count": 59,
   "id": "378485d0",
   "metadata": {},
   "outputs": [],
   "source": [
    "y_pred_test = reg.predict(X_test)"
   ]
  },
  {
   "cell_type": "code",
   "execution_count": 60,
   "id": "9effdeb9",
   "metadata": {},
   "outputs": [
    {
     "name": "stdout",
     "output_type": "stream",
     "text": [
      "r2_score =\t\t\t 0.02462630977677871\n",
      "mean_squared_error =\t\t 1.3490590878282351e-05\n",
      "mean_absolute_error =\t\t 0.0027277457728659\n",
      "mean_absolute_percentage_error = 730668221.8515977\n"
     ]
    }
   ],
   "source": [
    "print('r2_score =\\t\\t\\t', r2_score(y_train, y_pred_train))\n",
    "print('mean_squared_error =\\t\\t', mean_squared_error(y_train, y_pred_train))\n",
    "print('mean_absolute_error =\\t\\t', mean_absolute_error(y_train, y_pred_train))\n",
    "print('mean_absolute_percentage_error =', mean_absolute_percentage_error(y_train, y_pred_train))"
   ]
  },
  {
   "cell_type": "code",
   "execution_count": 61,
   "id": "3d32c9b1",
   "metadata": {},
   "outputs": [
    {
     "data": {
      "text/plain": [
       "Text(0, 0.5, 'Actual')"
      ]
     },
     "execution_count": 61,
     "metadata": {},
     "output_type": "execute_result"
    },
    {
     "data": {
      "image/png": "[encoded data removed]",
      "text/plain": [
       "<Figure size 432x288 with 1 Axes>"
      ]
     },
     "metadata": {
      "needs_background": "light"
     },
     "output_type": "display_data"
    }
   ],
   "source": [
    "plt.scatter(y_pred_train, y_train)\n",
    "\n",
    "plt.plot(y_pred_train, y_pred_train, color='red')\n",
    "\n",
    "plt.title('Scatter Plot between Predicted & Actual Values')\n",
    "plt.xlabel('Predicted')\n",
    "plt.ylabel('Actual')"
   ]
  },
  {
   "cell_type": "markdown",
   "id": "fff0164c",
   "metadata": {},
   "source": [
    "## test set"
   ]
  },
  {
   "cell_type": "code",
   "execution_count": 62,
   "id": "6e5104d3",
   "metadata": {},
   "outputs": [
    {
     "name": "stdout",
     "output_type": "stream",
     "text": [
      "r2_score =\t\t\t 0.021611635683778108\n",
      "mean_squared_error =\t\t 1.801792655265721e-05\n",
      "mean_absolute_error =\t\t 0.003085523197523573\n",
      "mean_absolute_percentage_error = 13197550943.264074\n"
     ]
    }
   ],
   "source": [
    "print('r2_score =\\t\\t\\t', r2_score(y_test, y_pred_test))\n",
    "print('mean_squared_error =\\t\\t', mean_squared_error(y_test, y_pred_test))\n",
    "print('mean_absolute_error =\\t\\t', mean_absolute_error(y_test, y_pred_test))\n",
    "print('mean_absolute_percentage_error =', mean_absolute_percentage_error(y_test, y_pred_test))"
   ]
  },
  {
   "cell_type": "code",
   "execution_count": 63,
   "id": "12a39062",
   "metadata": {},
   "outputs": [
    {
     "data": {
      "text/plain": [
       "Text(0, 0.5, 'Actual')"
      ]
     },
     "execution_count": 63,
     "metadata": {},
     "output_type": "execute_result"
    },
    {
     "data": {
      "image/png": "[encoded data removed]",
      "text/plain": [
       "<Figure size 432x288 with 1 Axes>"
      ]
     },
     "metadata": {
      "needs_background": "light"
     },
     "output_type": "display_data"
    }
   ],
   "source": [
    "# Scatter Plot between Predicted & Actual Values\n",
    "plt.scatter(y_pred_test, y_test)\n",
    "\n",
    "plt.plot(y_pred_test, y_pred_test, color='red')\n",
    "\n",
    "plt.title('Scatter Plot between Predicted & Actual Values')\n",
    "plt.xlabel('Predicted')\n",
    "plt.ylabel('Actual')"
   ]
  },
  {
   "cell_type": "markdown",
   "id": "4a70eb14",
   "metadata": {},
   "source": [
    "# Ridge Regression"
   ]
  },
  {
   "cell_type": "code",
   "execution_count": 64,
   "id": "f5696535",
   "metadata": {},
   "outputs": [],
   "source": [
    "alphas = np.logspace(-3, 3, num=100)"
   ]
  },
  {
   "cell_type": "code",
   "execution_count": 65,
   "id": "e7576252",
   "metadata": {},
   "outputs": [
    {
     "data": {
      "text/plain": [
       "[<matplotlib.lines.Line2D at 0x1b9735a5b50>]"
      ]
     },
     "execution_count": 65,
     "metadata": {},
     "output_type": "execute_result"
    },
    {
     "data": {
      "image/png": "[encoded data removed]",
      "text/plain": [
       "<Figure size 432x288 with 1 Axes>"
      ]
     },
     "metadata": {
      "needs_background": "light"
     },
     "output_type": "display_data"
    }
   ],
   "source": [
    "plt.plot(alphas, '*')"
   ]
  },
  {
   "cell_type": "code",
   "execution_count": 66,
   "id": "9f56345d",
   "metadata": {},
   "outputs": [
    {
     "name": "stdout",
     "output_type": "stream",
     "text": [
      "Wall time: 2.27 s\n"
     ]
    },
    {
     "data": {
      "text/html": [
       "<style>#sk-container-id-2 {color: black;background-color: white;}#sk-container-id-2 pre{padding: 0;}#sk-container-id-2 div.sk-toggleable {background-color: white;}#sk-container-id-2 label.sk-toggleable__label {cursor: pointer;display: block;width: 100%;margin-bottom: 0;padding: 0.3em;box-sizing: border-box;text-align: center;}#sk-container-id-2 label.sk-toggleable__label-arrow:before {content: \"▸\";float: left;margin-right: 0.25em;color: #696969;}#sk-container-id-2 label.sk-toggleable__label-arrow:hover:before {color: black;}#sk-container-id-2 div.sk-estimator:hover label.sk-toggleable__label-arrow:before {color: black;}#sk-container-id-2 div.sk-toggleable__content {max-height: 0;max-width: 0;overflow: hidden;text-align: left;background-color: #f0f8ff;}#sk-container-id-2 div.sk-toggleable__content pre {margin: 0.2em;color: black;border-radius: 0.25em;background-color: #f0f8ff;}#sk-container-id-2 input.sk-toggleable__control:checked~div.sk-toggleable__content {max-height: 200px;max-width: 100%;overflow: auto;}#sk-container-id-2 input.sk-toggleable__control:checked~label.sk-toggleable__label-arrow:before {content: \"▾\";}#sk-container-id-2 div.sk-estimator input.sk-toggleable__control:checked~label.sk-toggleable__label {background-color: #d4ebff;}#sk-container-id-2 div.sk-label input.sk-toggleable__control:checked~label.sk-toggleable__label {background-color: #d4ebff;}#sk-container-id-2 input.sk-hidden--visually {border: 0;clip: rect(1px 1px 1px 1px);clip: rect(1px, 1px, 1px, 1px);height: 1px;margin: -1px;overflow: hidden;padding: 0;position: absolute;width: 1px;}#sk-container-id-2 div.sk-estimator {font-family: monospace;background-color: #f0f8ff;border: 1px dotted black;border-radius: 0.25em;box-sizing: border-box;margin-bottom: 0.5em;}#sk-container-id-2 div.sk-estimator:hover {background-color: #d4ebff;}#sk-container-id-2 div.sk-parallel-item::after {content: \"\";width: 100%;border-bottom: 1px solid gray;flex-grow: 1;}#sk-container-id-2 div.sk-label:hover label.sk-toggleable__label {background-color: #d4ebff;}#sk-container-id-2 div.sk-serial::before {content: \"\";position: absolute;border-left: 1px solid gray;box-sizing: border-box;top: 0;bottom: 0;left: 50%;z-index: 0;}#sk-container-id-2 div.sk-serial {display: flex;flex-direction: column;align-items: center;background-color: white;padding-right: 0.2em;padding-left: 0.2em;position: relative;}#sk-container-id-2 div.sk-item {position: relative;z-index: 1;}#sk-container-id-2 div.sk-parallel {display: flex;align-items: stretch;justify-content: center;background-color: white;position: relative;}#sk-container-id-2 div.sk-item::before, #sk-container-id-2 div.sk-parallel-item::before {content: \"\";position: absolute;border-left: 1px solid gray;box-sizing: border-box;top: 0;bottom: 0;left: 50%;z-index: -1;}#sk-container-id-2 div.sk-parallel-item {display: flex;flex-direction: column;z-index: 1;position: relative;background-color: white;}#sk-container-id-2 div.sk-parallel-item:first-child::after {align-self: flex-end;width: 50%;}#sk-container-id-2 div.sk-parallel-item:last-child::after {align-self: flex-start;width: 50%;}#sk-container-id-2 div.sk-parallel-item:only-child::after {width: 0;}#sk-container-id-2 div.sk-dashed-wrapped {border: 1px dashed gray;margin: 0 0.4em 0.5em 0.4em;box-sizing: border-box;padding-bottom: 0.4em;background-color: white;}#sk-container-id-2 div.sk-label label {font-family: monospace;font-weight: bold;display: inline-block;line-height: 1.2em;}#sk-container-id-2 div.sk-label-container {text-align: center;}#sk-container-id-2 div.sk-container {/* jupyter's `normalize.less` sets `[hidden] { display: none; }` but bootstrap.min.css set `[hidden] { display: none !important; }` so we also need the `!important` here to be able to override the default hidden behavior on the sphinx rendered scikit-learn.org. See: https://github.com/scikit-learn/scikit-learn/issues/21755 */display: inline-block !important;position: relative;}#sk-container-id-2 div.sk-text-repr-fallback {display: none;}</style><div id=\"sk-container-id-2\" class=\"sk-top-container\"><div class=\"sk-text-repr-fallback\"><pre>RidgeCV(alphas=array([1.00000000e-03, 1.14975700e-03, 1.32194115e-03, 1.51991108e-03,\n",
       "       1.74752840e-03, 2.00923300e-03, 2.31012970e-03, 2.65608778e-03,\n",
       "       3.05385551e-03, 3.51119173e-03, 4.03701726e-03, 4.64158883e-03,\n",
       "       5.33669923e-03, 6.13590727e-03, 7.05480231e-03, 8.11130831e-03,\n",
       "       9.32603347e-03, 1.07226722e-02, 1.23284674e-02, 1.41747416e-02,\n",
       "       1.62975083e-02, 1.87381742e-0...\n",
       "       7.05480231e+01, 8.11130831e+01, 9.32603347e+01, 1.07226722e+02,\n",
       "       1.23284674e+02, 1.41747416e+02, 1.62975083e+02, 1.87381742e+02,\n",
       "       2.15443469e+02, 2.47707636e+02, 2.84803587e+02, 3.27454916e+02,\n",
       "       3.76493581e+02, 4.32876128e+02, 4.97702356e+02, 5.72236766e+02,\n",
       "       6.57933225e+02, 7.56463328e+02, 8.69749003e+02, 1.00000000e+03]),\n",
       "        cv=TimeSeriesSplit(gap=0, max_train_size=None, n_splits=5, test_size=None))</pre><b>In a Jupyter environment, please rerun this cell to show the HTML representation or trust the notebook. <br />On GitHub, the HTML representation is unable to render, please try loading this page with nbviewer.org.</b></div><div class=\"sk-container\" hidden><div class=\"sk-item\"><div class=\"sk-estimator sk-toggleable\"><input class=\"sk-toggleable__control sk-hidden--visually\" id=\"sk-estimator-id-2\" type=\"checkbox\" checked><label for=\"sk-estimator-id-2\" class=\"sk-toggleable__label sk-toggleable__label-arrow\">RidgeCV</label><div class=\"sk-toggleable__content\"><pre>RidgeCV(alphas=array([1.00000000e-03, 1.14975700e-03, 1.32194115e-03, 1.51991108e-03,\n",
       "       1.74752840e-03, 2.00923300e-03, 2.31012970e-03, 2.65608778e-03,\n",
       "       3.05385551e-03, 3.51119173e-03, 4.03701726e-03, 4.64158883e-03,\n",
       "       5.33669923e-03, 6.13590727e-03, 7.05480231e-03, 8.11130831e-03,\n",
       "       9.32603347e-03, 1.07226722e-02, 1.23284674e-02, 1.41747416e-02,\n",
       "       1.62975083e-02, 1.87381742e-0...\n",
       "       7.05480231e+01, 8.11130831e+01, 9.32603347e+01, 1.07226722e+02,\n",
       "       1.23284674e+02, 1.41747416e+02, 1.62975083e+02, 1.87381742e+02,\n",
       "       2.15443469e+02, 2.47707636e+02, 2.84803587e+02, 3.27454916e+02,\n",
       "       3.76493581e+02, 4.32876128e+02, 4.97702356e+02, 5.72236766e+02,\n",
       "       6.57933225e+02, 7.56463328e+02, 8.69749003e+02, 1.00000000e+03]),\n",
       "        cv=TimeSeriesSplit(gap=0, max_train_size=None, n_splits=5, test_size=None))</pre></div></div></div></div></div>"
      ],
      "text/plain": [
       "RidgeCV(alphas=array([1.00000000e-03, 1.14975700e-03, 1.32194115e-03, 1.51991108e-03,\n",
       "       1.74752840e-03, 2.00923300e-03, 2.31012970e-03, 2.65608778e-03,\n",
       "       3.05385551e-03, 3.51119173e-03, 4.03701726e-03, 4.64158883e-03,\n",
       "       5.33669923e-03, 6.13590727e-03, 7.05480231e-03, 8.11130831e-03,\n",
       "       9.32603347e-03, 1.07226722e-02, 1.23284674e-02, 1.41747416e-02,\n",
       "       1.62975083e-02, 1.87381742e-0...\n",
       "       7.05480231e+01, 8.11130831e+01, 9.32603347e+01, 1.07226722e+02,\n",
       "       1.23284674e+02, 1.41747416e+02, 1.62975083e+02, 1.87381742e+02,\n",
       "       2.15443469e+02, 2.47707636e+02, 2.84803587e+02, 3.27454916e+02,\n",
       "       3.76493581e+02, 4.32876128e+02, 4.97702356e+02, 5.72236766e+02,\n",
       "       6.57933225e+02, 7.56463328e+02, 8.69749003e+02, 1.00000000e+03]),\n",
       "        cv=TimeSeriesSplit(gap=0, max_train_size=None, n_splits=5, test_size=None))"
      ]
     },
     "execution_count": 66,
     "metadata": {},
     "output_type": "execute_result"
    }
   ],
   "source": [
    "%%time\n",
    "\n",
    "tscv = TimeSeriesSplit(n_splits = 5)\n",
    "ridge = RidgeCV(alphas=alphas, cv=tscv)\n",
    "ridge.fit(X_train, y_train)"
   ]
  },
  {
   "cell_type": "code",
   "execution_count": 67,
   "id": "3a8514c2",
   "metadata": {},
   "outputs": [
    {
     "data": {
      "text/plain": [
       "0.9326033468832199"
      ]
     },
     "execution_count": 67,
     "metadata": {},
     "output_type": "execute_result"
    }
   ],
   "source": [
    "ridge.alpha_"
   ]
  },
  {
   "cell_type": "code",
   "execution_count": 68,
   "id": "75db42f8",
   "metadata": {},
   "outputs": [
    {
     "data": {
      "text/plain": [
       "array([ 0.00305468, -0.00204816, -0.00033811])"
      ]
     },
     "execution_count": 68,
     "metadata": {},
     "output_type": "execute_result"
    }
   ],
   "source": [
    "ridge.coef_"
   ]
  },
  {
   "cell_type": "code",
   "execution_count": 69,
   "id": "4260ffa9",
   "metadata": {},
   "outputs": [
    {
     "data": {
      "text/plain": [
       "0.00030279941329884705"
      ]
     },
     "execution_count": 69,
     "metadata": {},
     "output_type": "execute_result"
    }
   ],
   "source": [
    "ridge.intercept_"
   ]
  },
  {
   "cell_type": "code",
   "execution_count": 70,
   "id": "a76e6c1a",
   "metadata": {},
   "outputs": [],
   "source": [
    "# Predict training set\n",
    "y_pred_train = ridge.predict(X_train)"
   ]
  },
  {
   "cell_type": "code",
   "execution_count": 71,
   "id": "4d693294",
   "metadata": {},
   "outputs": [],
   "source": [
    "# Predict test set\n",
    "y_pred_test = ridge.predict(X_test)"
   ]
  },
  {
   "cell_type": "code",
   "execution_count": 72,
   "id": "e8570152",
   "metadata": {},
   "outputs": [
    {
     "name": "stdout",
     "output_type": "stream",
     "text": [
      "r2_score =\t\t\t 0.024499357156779644\n",
      "mean_squared_error =\t\t 1.3492346785658672e-05\n",
      "mean_absolute_error =\t\t 0.0027287775793406336\n",
      "mean_absolute_percentage_error = 760653978.3372645\n"
     ]
    }
   ],
   "source": [
    "print('r2_score =\\t\\t\\t', r2_score(y_train, y_pred_train))\n",
    "print('mean_squared_error =\\t\\t', mean_squared_error(y_train, y_pred_train))\n",
    "print('mean_absolute_error =\\t\\t', mean_absolute_error(y_train, y_pred_train))\n",
    "print('mean_absolute_percentage_error =', mean_absolute_percentage_error(y_train, y_pred_train))"
   ]
  },
  {
   "cell_type": "code",
   "execution_count": 73,
   "id": "443cf41c",
   "metadata": {},
   "outputs": [
    {
     "data": {
      "text/plain": [
       "Text(0, 0.5, 'Actual')"
      ]
     },
     "execution_count": 73,
     "metadata": {},
     "output_type": "execute_result"
    },
    {
     "data": {
      "image/png": "[encoded data removed]",
      "text/plain": [
       "<Figure size 432x288 with 1 Axes>"
      ]
     },
     "metadata": {
      "needs_background": "light"
     },
     "output_type": "display_data"
    }
   ],
   "source": [
    "# Scatter Plot between Predicted & Actual Values\n",
    "plt.scatter(y_pred_train, y_train)\n",
    "\n",
    "plt.plot(y_pred_train, y_pred_train, color='red')\n",
    "\n",
    "plt.title('Scatter Plot between Predicted & Actual Values')\n",
    "plt.xlabel('Predicted')\n",
    "plt.ylabel('Actual')"
   ]
  },
  {
   "cell_type": "code",
   "execution_count": 74,
   "id": "ff7b8106",
   "metadata": {},
   "outputs": [
    {
     "name": "stdout",
     "output_type": "stream",
     "text": [
      "r2_score =\t\t\t 0.02193081746073522\n",
      "mean_squared_error =\t\t 1.8012048525051906e-05\n",
      "mean_absolute_error =\t\t 0.0030846949423495307\n",
      "mean_absolute_percentage_error = 12575275858.077599\n"
     ]
    }
   ],
   "source": [
    "print('r2_score =\\t\\t\\t', r2_score(y_test, y_pred_test))\n",
    "print('mean_squared_error =\\t\\t', mean_squared_error(y_test, y_pred_test))\n",
    "print('mean_absolute_error =\\t\\t', mean_absolute_error(y_test, y_pred_test))\n",
    "print('mean_absolute_percentage_error =', mean_absolute_percentage_error(y_test, y_pred_test))"
   ]
  },
  {
   "cell_type": "code",
   "execution_count": 75,
   "id": "84588268",
   "metadata": {},
   "outputs": [
    {
     "data": {
      "text/plain": [
       "Text(0, 0.5, 'Actual')"
      ]
     },
     "execution_count": 75,
     "metadata": {},
     "output_type": "execute_result"
    },
    {
     "data": {
      "image/png": "[encoded data removed]",
      "text/plain": [
       "<Figure size 432x288 with 1 Axes>"
      ]
     },
     "metadata": {
      "needs_background": "light"
     },
     "output_type": "display_data"
    }
   ],
   "source": [
    "# Scatter Plot between Predicted & Actual Values\n",
    "plt.scatter(y_pred_test, y_test)\n",
    "\n",
    "plt.plot(y_pred_test, y_pred_test, color='red')\n",
    "\n",
    "plt.title('Scatter Plot between Predicted & Actual Values')\n",
    "plt.xlabel('Predicted')\n",
    "plt.ylabel('Actual')"
   ]
  },
  {
   "cell_type": "code",
   "execution_count": null,
   "id": "2514a54c",
   "metadata": {},
   "outputs": [],
   "source": []
  },
  {
   "cell_type": "code",
   "execution_count": null,
   "id": "292fec75",
   "metadata": {},
   "outputs": [],
   "source": []
  },
  {
   "cell_type": "markdown",
   "id": "3c2f71d3",
   "metadata": {},
   "source": [
    "# Lasso"
   ]
  },
  {
   "cell_type": "code",
   "execution_count": 76,
   "id": "fe9665d5",
   "metadata": {},
   "outputs": [],
   "source": [
    "tscv = TimeSeriesSplit(n_splits = 5)\n",
    "lasso = LassoCV(n_alphas=100, cv=tscv)"
   ]
  },
  {
   "cell_type": "code",
   "execution_count": 77,
   "id": "57c7c083",
   "metadata": {},
   "outputs": [
    {
     "data": {
      "text/html": [
       "<style>#sk-container-id-3 {color: black;background-color: white;}#sk-container-id-3 pre{padding: 0;}#sk-container-id-3 div.sk-toggleable {background-color: white;}#sk-container-id-3 label.sk-toggleable__label {cursor: pointer;display: block;width: 100%;margin-bottom: 0;padding: 0.3em;box-sizing: border-box;text-align: center;}#sk-container-id-3 label.sk-toggleable__label-arrow:before {content: \"▸\";float: left;margin-right: 0.25em;color: #696969;}#sk-container-id-3 label.sk-toggleable__label-arrow:hover:before {color: black;}#sk-container-id-3 div.sk-estimator:hover label.sk-toggleable__label-arrow:before {color: black;}#sk-container-id-3 div.sk-toggleable__content {max-height: 0;max-width: 0;overflow: hidden;text-align: left;background-color: #f0f8ff;}#sk-container-id-3 div.sk-toggleable__content pre {margin: 0.2em;color: black;border-radius: 0.25em;background-color: #f0f8ff;}#sk-container-id-3 input.sk-toggleable__control:checked~div.sk-toggleable__content {max-height: 200px;max-width: 100%;overflow: auto;}#sk-container-id-3 input.sk-toggleable__control:checked~label.sk-toggleable__label-arrow:before {content: \"▾\";}#sk-container-id-3 div.sk-estimator input.sk-toggleable__control:checked~label.sk-toggleable__label {background-color: #d4ebff;}#sk-container-id-3 div.sk-label input.sk-toggleable__control:checked~label.sk-toggleable__label {background-color: #d4ebff;}#sk-container-id-3 input.sk-hidden--visually {border: 0;clip: rect(1px 1px 1px 1px);clip: rect(1px, 1px, 1px, 1px);height: 1px;margin: -1px;overflow: hidden;padding: 0;position: absolute;width: 1px;}#sk-container-id-3 div.sk-estimator {font-family: monospace;background-color: #f0f8ff;border: 1px dotted black;border-radius: 0.25em;box-sizing: border-box;margin-bottom: 0.5em;}#sk-container-id-3 div.sk-estimator:hover {background-color: #d4ebff;}#sk-container-id-3 div.sk-parallel-item::after {content: \"\";width: 100%;border-bottom: 1px solid gray;flex-grow: 1;}#sk-container-id-3 div.sk-label:hover label.sk-toggleable__label {background-color: #d4ebff;}#sk-container-id-3 div.sk-serial::before {content: \"\";position: absolute;border-left: 1px solid gray;box-sizing: border-box;top: 0;bottom: 0;left: 50%;z-index: 0;}#sk-container-id-3 div.sk-serial {display: flex;flex-direction: column;align-items: center;background-color: white;padding-right: 0.2em;padding-left: 0.2em;position: relative;}#sk-container-id-3 div.sk-item {position: relative;z-index: 1;}#sk-container-id-3 div.sk-parallel {display: flex;align-items: stretch;justify-content: center;background-color: white;position: relative;}#sk-container-id-3 div.sk-item::before, #sk-container-id-3 div.sk-parallel-item::before {content: \"\";position: absolute;border-left: 1px solid gray;box-sizing: border-box;top: 0;bottom: 0;left: 50%;z-index: -1;}#sk-container-id-3 div.sk-parallel-item {display: flex;flex-direction: column;z-index: 1;position: relative;background-color: white;}#sk-container-id-3 div.sk-parallel-item:first-child::after {align-self: flex-end;width: 50%;}#sk-container-id-3 div.sk-parallel-item:last-child::after {align-self: flex-start;width: 50%;}#sk-container-id-3 div.sk-parallel-item:only-child::after {width: 0;}#sk-container-id-3 div.sk-dashed-wrapped {border: 1px dashed gray;margin: 0 0.4em 0.5em 0.4em;box-sizing: border-box;padding-bottom: 0.4em;background-color: white;}#sk-container-id-3 div.sk-label label {font-family: monospace;font-weight: bold;display: inline-block;line-height: 1.2em;}#sk-container-id-3 div.sk-label-container {text-align: center;}#sk-container-id-3 div.sk-container {/* jupyter's `normalize.less` sets `[hidden] { display: none; }` but bootstrap.min.css set `[hidden] { display: none !important; }` so we also need the `!important` here to be able to override the default hidden behavior on the sphinx rendered scikit-learn.org. See: https://github.com/scikit-learn/scikit-learn/issues/21755 */display: inline-block !important;position: relative;}#sk-container-id-3 div.sk-text-repr-fallback {display: none;}</style><div id=\"sk-container-id-3\" class=\"sk-top-container\"><div class=\"sk-text-repr-fallback\"><pre>LassoCV(cv=TimeSeriesSplit(gap=0, max_train_size=None, n_splits=5, test_size=None))</pre><b>In a Jupyter environment, please rerun this cell to show the HTML representation or trust the notebook. <br />On GitHub, the HTML representation is unable to render, please try loading this page with nbviewer.org.</b></div><div class=\"sk-container\" hidden><div class=\"sk-item\"><div class=\"sk-estimator sk-toggleable\"><input class=\"sk-toggleable__control sk-hidden--visually\" id=\"sk-estimator-id-3\" type=\"checkbox\" checked><label for=\"sk-estimator-id-3\" class=\"sk-toggleable__label sk-toggleable__label-arrow\">LassoCV</label><div class=\"sk-toggleable__content\"><pre>LassoCV(cv=TimeSeriesSplit(gap=0, max_train_size=None, n_splits=5, test_size=None))</pre></div></div></div></div></div>"
      ],
      "text/plain": [
       "LassoCV(cv=TimeSeriesSplit(gap=0, max_train_size=None, n_splits=5, test_size=None))"
      ]
     },
     "execution_count": 77,
     "metadata": {},
     "output_type": "execute_result"
    }
   ],
   "source": [
    "lasso.fit(X_train, y_train)"
   ]
  },
  {
   "cell_type": "code",
   "execution_count": 78,
   "id": "fcc22dc1",
   "metadata": {},
   "outputs": [
    {
     "data": {
      "text/plain": [
       "4.031918745660265e-07"
      ]
     },
     "execution_count": 78,
     "metadata": {},
     "output_type": "execute_result"
    }
   ],
   "source": [
    "lasso.alpha_"
   ]
  },
  {
   "cell_type": "code",
   "execution_count": 79,
   "id": "91ccbe6c",
   "metadata": {},
   "outputs": [
    {
     "data": {
      "text/plain": [
       "array([ 0.00345117, -0.00248097, -0.00036264])"
      ]
     },
     "execution_count": 79,
     "metadata": {},
     "output_type": "execute_result"
    }
   ],
   "source": [
    "lasso.coef_"
   ]
  },
  {
   "cell_type": "code",
   "execution_count": 80,
   "id": "0a9c284b",
   "metadata": {},
   "outputs": [
    {
     "data": {
      "text/plain": [
       "0.00030416154001391705"
      ]
     },
     "execution_count": 80,
     "metadata": {},
     "output_type": "execute_result"
    }
   ],
   "source": [
    "lasso.intercept_"
   ]
  },
  {
   "cell_type": "code",
   "execution_count": null,
   "id": "a03b47a6",
   "metadata": {},
   "outputs": [],
   "source": []
  },
  {
   "cell_type": "code",
   "execution_count": 86,
   "id": "0d3c9681",
   "metadata": {},
   "outputs": [],
   "source": [
    "# Predict training set\n",
    "y_pred_train2 = lasso.predict(X_train)"
   ]
  },
  {
   "cell_type": "code",
   "execution_count": 87,
   "id": "563c9eb9",
   "metadata": {},
   "outputs": [],
   "source": [
    "y_pred_test2 = lasso.predict(X_test)"
   ]
  },
  {
   "cell_type": "code",
   "execution_count": 88,
   "id": "9cf99b14",
   "metadata": {},
   "outputs": [
    {
     "name": "stdout",
     "output_type": "stream",
     "text": [
      "r2_score =\t\t\t 0.024616985450846007\n",
      "mean_squared_error =\t\t 1.3490719844921121e-05\n",
      "mean_absolute_error =\t\t 0.0027279895017435093\n",
      "mean_absolute_percentage_error = 740323526.7070316\n"
     ]
    }
   ],
   "source": [
    "print('r2_score =\\t\\t\\t', r2_score(y_train, y_pred_train2))\n",
    "print('mean_squared_error =\\t\\t', mean_squared_error(y_train, y_pred_train))\n",
    "print('mean_absolute_error =\\t\\t', mean_absolute_error(y_train, y_pred_train))\n",
    "print('mean_absolute_percentage_error =', mean_absolute_percentage_error(y_train, y_pred_train))"
   ]
  },
  {
   "cell_type": "code",
   "execution_count": 89,
   "id": "69384153",
   "metadata": {},
   "outputs": [
    {
     "data": {
      "text/plain": [
       "Text(0, 0.5, 'Actual')"
      ]
     },
     "execution_count": 89,
     "metadata": {},
     "output_type": "execute_result"
    },
    {
     "data": {
      "image/png": "[encoded data removed]",
      "text/plain": [
       "<Figure size 432x288 with 1 Axes>"
      ]
     },
     "metadata": {
      "needs_background": "light"
     },
     "output_type": "display_data"
    }
   ],
   "source": [
    "plt.scatter(y_pred_train2, y_train)\n",
    "\n",
    "plt.plot(y_pred_train2, y_pred_train2, color='red')\n",
    "\n",
    "plt.title('Scatter Plot between Predicted & Actual Values')\n",
    "plt.xlabel('Predicted')\n",
    "plt.ylabel('Actual')"
   ]
  },
  {
   "cell_type": "code",
   "execution_count": 90,
   "id": "134eece4",
   "metadata": {},
   "outputs": [
    {
     "name": "stdout",
     "output_type": "stream",
     "text": [
      "r2_score =\t\t\t 0.021720281764056937\n",
      "mean_squared_error =\t\t 1.8015925734611848e-05\n",
      "mean_absolute_error =\t\t 0.0030852492720024154\n",
      "mean_absolute_percentage_error = 13026704612.009918\n"
     ]
    }
   ],
   "source": [
    "print('r2_score =\\t\\t\\t', r2_score(y_test, y_pred_test))\n",
    "print('mean_squared_error =\\t\\t', mean_squared_error(y_test, y_pred_test))\n",
    "print('mean_absolute_error =\\t\\t', mean_absolute_error(y_test, y_pred_test))\n",
    "print('mean_absolute_percentage_error =', mean_absolute_percentage_error(y_test, y_pred_test))"
   ]
  },
  {
   "cell_type": "code",
   "execution_count": null,
   "id": "ded6fa96",
   "metadata": {},
   "outputs": [],
   "source": []
  }
 ],
 "metadata": {
  "kernelspec": {
   "display_name": "Python 3 (ipykernel)",
   "language": "python",
   "name": "python3"
  },
  "language_info": {
   "codemirror_mode": {
    "name": "ipython",
    "version": 3
   },
   "file_extension": ".py",
   "mimetype": "text/x-python",
   "name": "python",
   "nbconvert_exporter": "python",
   "pygments_lexer": "ipython3",
   "version": "3.9.7"
  }
 },
 "nbformat": 4,
 "nbformat_minor": 5
}
