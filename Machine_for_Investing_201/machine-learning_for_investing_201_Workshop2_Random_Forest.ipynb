{
 "cells": [
  {
   "cell_type": "code",
   "execution_count": 1,
   "id": "6749afc9",
   "metadata": {},
   "outputs": [
    {
     "name": "stdout",
     "output_type": "stream",
     "text": [
      "Requirement already satisfied: pandas_ta in c:\\users\\yanak\\anaconda3\\lib\\site-packages (0.3.14b0)Note: you may need to restart the kernel to use updated packages.\n"
     ]
    },
    {
     "name": "stderr",
     "output_type": "stream",
     "text": [
      "\n",
      "[notice] A new release of pip is available: 23.0 -> 23.0.1\n",
      "[notice] To update, run: python.exe -m pip install --upgrade pip\n"
     ]
    },
    {
     "name": "stdout",
     "output_type": "stream",
     "text": [
      "\n",
      "Requirement already satisfied: pandas in c:\\users\\yanak\\anaconda3\\lib\\site-packages (from pandas_ta) (1.4.3)\n",
      "Requirement already satisfied: numpy>=1.18.5 in c:\\users\\yanak\\anaconda3\\lib\\site-packages (from pandas->pandas_ta) (1.20.3)\n",
      "Requirement already satisfied: python-dateutil>=2.8.1 in c:\\users\\yanak\\anaconda3\\lib\\site-packages (from pandas->pandas_ta) (2.8.2)\n",
      "Requirement already satisfied: pytz>=2020.1 in c:\\users\\yanak\\anaconda3\\lib\\site-packages (from pandas->pandas_ta) (2021.3)\n",
      "Requirement already satisfied: six>=1.5 in c:\\users\\yanak\\anaconda3\\lib\\site-packages (from python-dateutil>=2.8.1->pandas->pandas_ta) (1.16.0)\n"
     ]
    }
   ],
   "source": [
    "pip install pandas_ta"
   ]
  },
  {
   "cell_type": "code",
   "execution_count": 2,
   "id": "28a82ff9",
   "metadata": {},
   "outputs": [
    {
     "name": "stdout",
     "output_type": "stream",
     "text": [
      "Requirement already satisfied: vectorbt in c:\\users\\yanak\\anaconda3\\lib\\site-packages (0.23.2)\n",
      "Requirement already satisfied: schedule in c:\\users\\yanak\\anaconda3\\lib\\site-packages (from vectorbt) (1.1.0)\n",
      "Requirement already satisfied: pytz in c:\\users\\yanak\\anaconda3\\lib\\site-packages (from vectorbt) (2021.3)\n",
      "Requirement already satisfied: tqdm in c:\\users\\yanak\\anaconda3\\lib\\site-packages (from vectorbt) (4.62.3)\n",
      "Requirement already satisfied: plotly>=4.12.0 in c:\\users\\yanak\\anaconda3\\lib\\site-packages (from vectorbt) (5.6.0)\n",
      "Requirement already satisfied: scipy in c:\\users\\yanak\\anaconda3\\lib\\site-packages (from vectorbt) (1.7.1)\n",
      "Requirement already satisfied: pandas in c:\\users\\yanak\\anaconda3\\lib\\site-packages (from vectorbt) (1.4.3)\n",
      "Requirement already satisfied: numpy>=1.16.5 in c:\\users\\yanak\\anaconda3\\lib\\site-packages (from vectorbt) (1.20.3)\n",
      "Requirement already satisfied: ipywidgets>=7.0.0 in c:\\users\\yanak\\anaconda3\\lib\\site-packages (from vectorbt) (7.6.5)\n",
      "Requirement already satisfied: matplotlib in c:\\users\\yanak\\anaconda3\\lib\\site-packages (from vectorbt) (3.4.3)\n",
      "Requirement already satisfied: scikit-learn in c:\\users\\yanak\\anaconda3\\lib\\site-packages (from vectorbt) (1.1.3)\n",
      "Requirement already satisfied: dill in c:\\users\\yanak\\anaconda3\\lib\\site-packages (from vectorbt) (0.3.4)\n",
      "Requirement already satisfied: mypy-extensions in c:\\users\\yanak\\anaconda3\\lib\\site-packages (from vectorbt) (0.4.3)\n",
      "Requirement already satisfied: dateparser in c:\\users\\yanak\\anaconda3\\lib\\site-packages (from vectorbt) (1.1.0)\n",
      "Requirement already satisfied: requests in c:\\users\\yanak\\anaconda3\\lib\\site-packages (from vectorbt) (2.26.0)\n",
      "Requirement already satisfied: numba>=0.53.1 in c:\\users\\yanak\\anaconda3\\lib\\site-packages (from vectorbt) (0.54.1)\n",
      "Requirement already satisfied: imageio in c:\\users\\yanak\\anaconda3\\lib\\site-packages (from vectorbt) (2.9.0)\n",
      "Requirement already satisfied: widgetsnbextension~=3.5.0 in c:\\users\\yanak\\anaconda3\\lib\\site-packages (from ipywidgets>=7.0.0->vectorbt) (3.5.1)\n",
      "Requirement already satisfied: ipython-genutils~=0.2.0 in c:\\users\\yanak\\anaconda3\\lib\\site-packages (from ipywidgets>=7.0.0->vectorbt) (0.2.0)\n",
      "Requirement already satisfied: ipython>=4.0.0 in c:\\users\\yanak\\anaconda3\\lib\\site-packages (from ipywidgets>=7.0.0->vectorbt) (7.29.0)\n",
      "Requirement already satisfied: nbformat>=4.2.0 in c:\\users\\yanak\\anaconda3\\lib\\site-packages (from ipywidgets>=7.0.0->vectorbt) (5.1.3)\n",
      "Requirement already satisfied: traitlets>=4.3.1 in c:\\users\\yanak\\anaconda3\\lib\\site-packages (from ipywidgets>=7.0.0->vectorbt) (5.1.0)\n",
      "Requirement already satisfied: jupyterlab-widgets>=1.0.0 in c:\\users\\yanak\\anaconda3\\lib\\site-packages (from ipywidgets>=7.0.0->vectorbt) (1.0.0)\n",
      "Requirement already satisfied: ipykernel>=4.5.1 in c:\\users\\yanak\\anaconda3\\lib\\site-packages (from ipywidgets>=7.0.0->vectorbt) (6.4.1)\n",
      "Requirement already satisfied: llvmlite<0.38,>=0.37.0rc1 in c:\\users\\yanak\\anaconda3\\lib\\site-packages (from numba>=0.53.1->vectorbt) (0.37.0)\n",
      "Requirement already satisfied: setuptools in c:\\users\\yanak\\anaconda3\\lib\\site-packages (from numba>=0.53.1->vectorbt) (65.6.3)\n",
      "Requirement already satisfied: six in c:\\users\\yanak\\anaconda3\\lib\\site-packages (from plotly>=4.12.0->vectorbt) (1.16.0)\n",
      "Requirement already satisfied: tenacity>=6.2.0 in c:\\users\\yanak\\anaconda3\\lib\\site-packages (from plotly>=4.12.0->vectorbt) (8.0.1)\n",
      "Requirement already satisfied: regex!=2019.02.19,!=2021.8.27 in c:\\users\\yanak\\anaconda3\\lib\\site-packages (from dateparser->vectorbt) (2021.8.3)\n",
      "Requirement already satisfied: python-dateutil in c:\\users\\yanak\\anaconda3\\lib\\site-packages (from dateparser->vectorbt) (2.8.2)\n",
      "Requirement already satisfied: tzlocal in c:\\users\\yanak\\anaconda3\\lib\\site-packages (from dateparser->vectorbt) (4.1)\n",
      "Requirement already satisfied: pillow in c:\\users\\yanak\\anaconda3\\lib\\site-packages (from imageio->vectorbt) (8.4.0)\n",
      "Requirement already satisfied: cycler>=0.10 in c:\\users\\yanak\\anaconda3\\lib\\site-packages (from matplotlib->vectorbt) (0.10.0)\n",
      "Requirement already satisfied: pyparsing>=2.2.1 in c:\\users\\yanak\\anaconda3\\lib\\site-packages (from matplotlib->vectorbt) (3.0.4)\n",
      "Requirement already satisfied: kiwisolver>=1.0.1 in c:\\users\\yanak\\anaconda3\\lib\\site-packages (from matplotlib->vectorbt) (1.3.1)\n",
      "Requirement already satisfied: charset-normalizer~=2.0.0 in c:\\users\\yanak\\anaconda3\\lib\\site-packages (from requests->vectorbt) (2.0.4)\n",
      "Requirement already satisfied: certifi>=2017.4.17 in c:\\users\\yanak\\anaconda3\\lib\\site-packages (from requests->vectorbt) (2022.9.24)\n",
      "Requirement already satisfied: urllib3<1.27,>=1.21.1 in c:\\users\\yanak\\anaconda3\\lib\\site-packages (from requests->vectorbt) (1.26.7)\n",
      "Requirement already satisfied: idna<4,>=2.5 in c:\\users\\yanak\\anaconda3\\lib\\site-packages (from requests->vectorbt) (3.2)\n",
      "Requirement already satisfied: joblib>=1.0.0 in c:\\users\\yanak\\anaconda3\\lib\\site-packages (from scikit-learn->vectorbt) (1.1.0)\n",
      "Requirement already satisfied: threadpoolctl>=2.0.0 in c:\\users\\yanak\\anaconda3\\lib\\site-packages (from scikit-learn->vectorbt) (2.2.0)\n",
      "Requirement already satisfied: colorama in c:\\users\\yanak\\anaconda3\\lib\\site-packages (from tqdm->vectorbt) (0.4.4)\n",
      "Requirement already satisfied: matplotlib-inline<0.2.0,>=0.1.0 in c:\\users\\yanak\\anaconda3\\lib\\site-packages (from ipykernel>=4.5.1->ipywidgets>=7.0.0->vectorbt) (0.1.2)\n",
      "Requirement already satisfied: tornado<7.0,>=4.2 in c:\\users\\yanak\\anaconda3\\lib\\site-packages (from ipykernel>=4.5.1->ipywidgets>=7.0.0->vectorbt) (6.1)\n",
      "Requirement already satisfied: debugpy<2.0,>=1.0.0 in c:\\users\\yanak\\anaconda3\\lib\\site-packages (from ipykernel>=4.5.1->ipywidgets>=7.0.0->vectorbt) (1.4.1)\n",
      "Requirement already satisfied: jupyter-client<8.0 in c:\\users\\yanak\\anaconda3\\lib\\site-packages (from ipykernel>=4.5.1->ipywidgets>=7.0.0->vectorbt) (6.1.12)\n",
      "Requirement already satisfied: prompt-toolkit!=3.0.0,!=3.0.1,<3.1.0,>=2.0.0 in c:\\users\\yanak\\anaconda3\\lib\\site-packages (from ipython>=4.0.0->ipywidgets>=7.0.0->vectorbt) (3.0.20)\n",
      "Requirement already satisfied: pygments in c:\\users\\yanak\\anaconda3\\lib\\site-packages (from ipython>=4.0.0->ipywidgets>=7.0.0->vectorbt) (2.10.0)\n",
      "Requirement already satisfied: backcall in c:\\users\\yanak\\anaconda3\\lib\\site-packages (from ipython>=4.0.0->ipywidgets>=7.0.0->vectorbt) (0.2.0)\n",
      "Requirement already satisfied: pickleshare in c:\\users\\yanak\\anaconda3\\lib\\site-packages (from ipython>=4.0.0->ipywidgets>=7.0.0->vectorbt) (0.7.5)\n",
      "Requirement already satisfied: jedi>=0.16 in c:\\users\\yanak\\anaconda3\\lib\\site-packages (from ipython>=4.0.0->ipywidgets>=7.0.0->vectorbt) (0.18.0)\n",
      "Requirement already satisfied: decorator in c:\\users\\yanak\\anaconda3\\lib\\site-packages (from ipython>=4.0.0->ipywidgets>=7.0.0->vectorbt) (5.1.0)\n",
      "Requirement already satisfied: jsonschema!=2.5.0,>=2.4 in c:\\users\\yanak\\anaconda3\\lib\\site-packages (from nbformat>=4.2.0->ipywidgets>=7.0.0->vectorbt) (3.2.0)\n",
      "Requirement already satisfied: jupyter-core in c:\\users\\yanak\\anaconda3\\lib\\site-packages (from nbformat>=4.2.0->ipywidgets>=7.0.0->vectorbt) (4.8.1)\n",
      "Requirement already satisfied: notebook>=4.4.1 in c:\\users\\yanak\\anaconda3\\lib\\site-packages (from widgetsnbextension~=3.5.0->ipywidgets>=7.0.0->vectorbt) (6.4.5)\n",
      "Requirement already satisfied: pytz-deprecation-shim in c:\\users\\yanak\\anaconda3\\lib\\site-packages (from tzlocal->dateparser->vectorbt) (0.1.0.post0)\n",
      "Requirement already satisfied: tzdata in c:\\users\\yanak\\anaconda3\\lib\\site-packages (from tzlocal->dateparser->vectorbt) (2021.5)\n",
      "Requirement already satisfied: parso<0.9.0,>=0.8.0 in c:\\users\\yanak\\anaconda3\\lib\\site-packages (from jedi>=0.16->ipython>=4.0.0->ipywidgets>=7.0.0->vectorbt) (0.8.2)\n",
      "Requirement already satisfied: pyrsistent>=0.14.0 in c:\\users\\yanak\\anaconda3\\lib\\site-packages (from jsonschema!=2.5.0,>=2.4->nbformat>=4.2.0->ipywidgets>=7.0.0->vectorbt) (0.18.0)\n",
      "Requirement already satisfied: attrs>=17.4.0 in c:\\users\\yanak\\anaconda3\\lib\\site-packages (from jsonschema!=2.5.0,>=2.4->nbformat>=4.2.0->ipywidgets>=7.0.0->vectorbt) (21.2.0)\n",
      "Requirement already satisfied: pyzmq>=13 in c:\\users\\yanak\\anaconda3\\lib\\site-packages (from jupyter-client<8.0->ipykernel>=4.5.1->ipywidgets>=7.0.0->vectorbt) (22.2.1)\n",
      "Requirement already satisfied: pywin32>=1.0 in c:\\users\\yanak\\anaconda3\\lib\\site-packages (from jupyter-core->nbformat>=4.2.0->ipywidgets>=7.0.0->vectorbt) (228)\n",
      "Requirement already satisfied: nbconvert in c:\\users\\yanak\\anaconda3\\lib\\site-packages (from notebook>=4.4.1->widgetsnbextension~=3.5.0->ipywidgets>=7.0.0->vectorbt) (6.1.0)\n",
      "Requirement already satisfied: terminado>=0.8.3 in c:\\users\\yanak\\anaconda3\\lib\\site-packages (from notebook>=4.4.1->widgetsnbextension~=3.5.0->ipywidgets>=7.0.0->vectorbt) (0.9.4)\n",
      "Requirement already satisfied: argon2-cffi in c:\\users\\yanak\\anaconda3\\lib\\site-packages (from notebook>=4.4.1->widgetsnbextension~=3.5.0->ipywidgets>=7.0.0->vectorbt) (20.1.0)\n",
      "Requirement already satisfied: jinja2 in c:\\users\\yanak\\anaconda3\\lib\\site-packages (from notebook>=4.4.1->widgetsnbextension~=3.5.0->ipywidgets>=7.0.0->vectorbt) (2.11.3)\n",
      "Requirement already satisfied: Send2Trash>=1.5.0 in c:\\users\\yanak\\anaconda3\\lib\\site-packages (from notebook>=4.4.1->widgetsnbextension~=3.5.0->ipywidgets>=7.0.0->vectorbt) (1.8.0)\n",
      "Requirement already satisfied: prometheus-client in c:\\users\\yanak\\anaconda3\\lib\\site-packages (from notebook>=4.4.1->widgetsnbextension~=3.5.0->ipywidgets>=7.0.0->vectorbt) (0.11.0)\n",
      "Requirement already satisfied: wcwidth in c:\\users\\yanak\\anaconda3\\lib\\site-packages (from prompt-toolkit!=3.0.0,!=3.0.1,<3.1.0,>=2.0.0->ipython>=4.0.0->ipywidgets>=7.0.0->vectorbt) (0.2.5)\n",
      "Requirement already satisfied: pywinpty>=0.5 in c:\\users\\yanak\\anaconda3\\lib\\site-packages (from terminado>=0.8.3->notebook>=4.4.1->widgetsnbextension~=3.5.0->ipywidgets>=7.0.0->vectorbt) (0.5.7)\n",
      "Requirement already satisfied: cffi>=1.0.0 in c:\\users\\yanak\\anaconda3\\lib\\site-packages (from argon2-cffi->notebook>=4.4.1->widgetsnbextension~=3.5.0->ipywidgets>=7.0.0->vectorbt) (1.14.6)\n",
      "Requirement already satisfied: MarkupSafe>=0.23 in c:\\users\\yanak\\anaconda3\\lib\\site-packages (from jinja2->notebook>=4.4.1->widgetsnbextension~=3.5.0->ipywidgets>=7.0.0->vectorbt) (1.1.1)\n",
      "Requirement already satisfied: bleach in c:\\users\\yanak\\anaconda3\\lib\\site-packages (from nbconvert->notebook>=4.4.1->widgetsnbextension~=3.5.0->ipywidgets>=7.0.0->vectorbt) (4.0.0)\n",
      "Requirement already satisfied: pandocfilters>=1.4.1 in c:\\users\\yanak\\anaconda3\\lib\\site-packages (from nbconvert->notebook>=4.4.1->widgetsnbextension~=3.5.0->ipywidgets>=7.0.0->vectorbt) (1.4.3)\n",
      "Requirement already satisfied: nbclient<0.6.0,>=0.5.0 in c:\\users\\yanak\\anaconda3\\lib\\site-packages (from nbconvert->notebook>=4.4.1->widgetsnbextension~=3.5.0->ipywidgets>=7.0.0->vectorbt) (0.5.3)\n",
      "Requirement already satisfied: defusedxml in c:\\users\\yanak\\anaconda3\\lib\\site-packages (from nbconvert->notebook>=4.4.1->widgetsnbextension~=3.5.0->ipywidgets>=7.0.0->vectorbt) (0.7.1)\n",
      "Requirement already satisfied: testpath in c:\\users\\yanak\\anaconda3\\lib\\site-packages (from nbconvert->notebook>=4.4.1->widgetsnbextension~=3.5.0->ipywidgets>=7.0.0->vectorbt) (0.5.0)\n",
      "Requirement already satisfied: mistune<2,>=0.8.1 in c:\\users\\yanak\\anaconda3\\lib\\site-packages (from nbconvert->notebook>=4.4.1->widgetsnbextension~=3.5.0->ipywidgets>=7.0.0->vectorbt) (0.8.4)\n",
      "Requirement already satisfied: entrypoints>=0.2.2 in c:\\users\\yanak\\anaconda3\\lib\\site-packages (from nbconvert->notebook>=4.4.1->widgetsnbextension~=3.5.0->ipywidgets>=7.0.0->vectorbt) (0.3)\n",
      "Requirement already satisfied: jupyterlab-pygments in c:\\users\\yanak\\anaconda3\\lib\\site-packages (from nbconvert->notebook>=4.4.1->widgetsnbextension~=3.5.0->ipywidgets>=7.0.0->vectorbt) (0.1.2)\n",
      "Requirement already satisfied: pycparser in c:\\users\\yanak\\anaconda3\\lib\\site-packages (from cffi>=1.0.0->argon2-cffi->notebook>=4.4.1->widgetsnbextension~=3.5.0->ipywidgets>=7.0.0->vectorbt) (2.20)\n",
      "Requirement already satisfied: nest-asyncio in c:\\users\\yanak\\anaconda3\\lib\\site-packages (from nbclient<0.6.0,>=0.5.0->nbconvert->notebook>=4.4.1->widgetsnbextension~=3.5.0->ipywidgets>=7.0.0->vectorbt) (1.5.1)\n",
      "Requirement already satisfied: async-generator in c:\\users\\yanak\\anaconda3\\lib\\site-packages (from nbclient<0.6.0,>=0.5.0->nbconvert->notebook>=4.4.1->widgetsnbextension~=3.5.0->ipywidgets>=7.0.0->vectorbt) (1.10)\n",
      "Requirement already satisfied: packaging in c:\\users\\yanak\\anaconda3\\lib\\site-packages (from bleach->nbconvert->notebook>=4.4.1->widgetsnbextension~=3.5.0->ipywidgets>=7.0.0->vectorbt) (21.0)\n",
      "Requirement already satisfied: webencodings in c:\\users\\yanak\\anaconda3\\lib\\site-packages (from bleach->nbconvert->notebook>=4.4.1->widgetsnbextension~=3.5.0->ipywidgets>=7.0.0->vectorbt) (0.5.1)\n",
      "Note: you may need to restart the kernel to use updated packages.\n"
     ]
    },
    {
     "name": "stderr",
     "output_type": "stream",
     "text": [
      "\n",
      "[notice] A new release of pip is available: 23.0 -> 23.0.1\n",
      "[notice] To update, run: python.exe -m pip install --upgrade pip\n"
     ]
    }
   ],
   "source": [
    "pip install vectorbt"
   ]
  },
  {
   "cell_type": "code",
   "execution_count": 3,
   "id": "cf81378f",
   "metadata": {},
   "outputs": [
    {
     "name": "stdout",
     "output_type": "stream",
     "text": [
      "Requirement already satisfied: yfinance in c:\\users\\yanak\\anaconda3\\lib\\site-packages (0.1.87)\n",
      "Requirement already satisfied: numpy>=1.15 in c:\\users\\yanak\\anaconda3\\lib\\site-packages (from yfinance) (1.20.3)\n",
      "Requirement already satisfied: multitasking>=0.0.7 in c:\\users\\yanak\\anaconda3\\lib\\site-packages (from yfinance) (0.0.11)\n",
      "Requirement already satisfied: pandas>=0.24.0 in c:\\users\\yanak\\anaconda3\\lib\\site-packages (from yfinance) (1.4.3)\n",
      "Requirement already satisfied: lxml>=4.5.1 in c:\\users\\yanak\\anaconda3\\lib\\site-packages (from yfinance) (4.6.3)\n",
      "Requirement already satisfied: requests>=2.26 in c:\\users\\yanak\\anaconda3\\lib\\site-packages (from yfinance) (2.26.0)\n",
      "Requirement already satisfied: appdirs>=1.4.4 in c:\\users\\yanak\\anaconda3\\lib\\site-packages (from yfinance) (1.4.4)\n",
      "Requirement already satisfied: python-dateutil>=2.8.1 in c:\\users\\yanak\\anaconda3\\lib\\site-packages (from pandas>=0.24.0->yfinance) (2.8.2)\n",
      "Requirement already satisfied: pytz>=2020.1 in c:\\users\\yanak\\anaconda3\\lib\\site-packages (from pandas>=0.24.0->yfinance) (2021.3)\n",
      "Requirement already satisfied: urllib3<1.27,>=1.21.1 in c:\\users\\yanak\\anaconda3\\lib\\site-packages (from requests>=2.26->yfinance) (1.26.7)\n",
      "Requirement already satisfied: certifi>=2017.4.17 in c:\\users\\yanak\\anaconda3\\lib\\site-packages (from requests>=2.26->yfinance) (2022.9.24)\n",
      "Requirement already satisfied: charset-normalizer~=2.0.0 in c:\\users\\yanak\\anaconda3\\lib\\site-packages (from requests>=2.26->yfinance) (2.0.4)\n",
      "Requirement already satisfied: idna<4,>=2.5 in c:\\users\\yanak\\anaconda3\\lib\\site-packages (from requests>=2.26->yfinance) (3.2)\n",
      "Requirement already satisfied: six>=1.5 in c:\\users\\yanak\\anaconda3\\lib\\site-packages (from python-dateutil>=2.8.1->pandas>=0.24.0->yfinance) (1.16.0)\n",
      "Note: you may need to restart the kernel to use updated packages.\n"
     ]
    },
    {
     "name": "stderr",
     "output_type": "stream",
     "text": [
      "\n",
      "[notice] A new release of pip is available: 23.0 -> 23.0.1\n",
      "[notice] To update, run: python.exe -m pip install --upgrade pip\n"
     ]
    }
   ],
   "source": [
    "pip install yfinance"
   ]
  },
  {
   "cell_type": "code",
   "execution_count": 1,
   "id": "4540fe9e",
   "metadata": {},
   "outputs": [],
   "source": [
    "import pandas as pd\n",
    "import pandas_ta as ta\n",
    "import numpy as np\n",
    "import vectorbt as vbt\n",
    "import yfinance as yf\n",
    "from datetime import datetime\n",
    "import matplotlib.pyplot as plt\n",
    "from sklearn.model_selection import train_test_split\n",
    "from sklearn.ensemble import (RandomForestRegressor, \n",
    "                              RandomForestClassifier)\n",
    "from sklearn.metrics import (mean_squared_error, \n",
    "                             r2_score, \n",
    "                             mean_absolute_error,\n",
    "                             mean_absolute_percentage_error, \n",
    "                             plot_confusion_matrix, \n",
    "                             accuracy_score, \n",
    "                             precision_score, \n",
    "                             recall_score, \n",
    "                             f1_score)\n",
    "from sklearn.model_selection import (GridSearchCV, \n",
    "                                     TimeSeriesSplit)\n",
    "\n",
    "from sklearn.metrics import accuracy_score, precision_score, recall_score, f1_score"
   ]
  },
  {
   "cell_type": "code",
   "execution_count": 2,
   "id": "5225c0d2",
   "metadata": {},
   "outputs": [],
   "source": [
    "import warnings\n",
    "warnings.filterwarnings(\"ignore\")"
   ]
  },
  {
   "cell_type": "code",
   "execution_count": 3,
   "id": "6522d167",
   "metadata": {},
   "outputs": [],
   "source": [
    "start_date = datetime(2015,1,1)\n",
    "end_date = datetime(2020,12,31)"
   ]
  },
  {
   "cell_type": "code",
   "execution_count": 4,
   "id": "c0fc477b",
   "metadata": {},
   "outputs": [
    {
     "name": "stdout",
     "output_type": "stream",
     "text": [
      "Wall time: 2.49 s\n"
     ]
    }
   ],
   "source": [
    "%%time\n",
    "data = pd.DataFrame()\n",
    "data = data.ta.ticker('BTC-USD',start = start_date, end = end_date)"
   ]
  },
  {
   "cell_type": "code",
   "execution_count": 5,
   "id": "df34e8e9",
   "metadata": {},
   "outputs": [],
   "source": [
    "df = data.copy()"
   ]
  },
  {
   "cell_type": "code",
   "execution_count": 6,
   "id": "7fd0aec9",
   "metadata": {},
   "outputs": [
    {
     "data": {
      "text/html": [
       "<div>\n",
       "<style scoped>\n",
       "    .dataframe tbody tr th:only-of-type {\n",
       "        vertical-align: middle;\n",
       "    }\n",
       "\n",
       "    .dataframe tbody tr th {\n",
       "        vertical-align: top;\n",
       "    }\n",
       "\n",
       "    .dataframe thead th {\n",
       "        text-align: right;\n",
       "    }\n",
       "</style>\n",
       "<table border=\"1\" class=\"dataframe\">\n",
       "  <thead>\n",
       "    <tr style=\"text-align: right;\">\n",
       "      <th></th>\n",
       "      <th>Open</th>\n",
       "      <th>High</th>\n",
       "      <th>Low</th>\n",
       "      <th>Close</th>\n",
       "      <th>Volume</th>\n",
       "      <th>Dividends</th>\n",
       "      <th>Stock Splits</th>\n",
       "    </tr>\n",
       "    <tr>\n",
       "      <th>Date</th>\n",
       "      <th></th>\n",
       "      <th></th>\n",
       "      <th></th>\n",
       "      <th></th>\n",
       "      <th></th>\n",
       "      <th></th>\n",
       "      <th></th>\n",
       "    </tr>\n",
       "  </thead>\n",
       "  <tbody>\n",
       "    <tr>\n",
       "      <th>2020-12-26 00:00:00+00:00</th>\n",
       "      <td>24677.015625</td>\n",
       "      <td>26718.070312</td>\n",
       "      <td>24522.689453</td>\n",
       "      <td>26437.037109</td>\n",
       "      <td>48332647295</td>\n",
       "      <td>0</td>\n",
       "      <td>0</td>\n",
       "    </tr>\n",
       "    <tr>\n",
       "      <th>2020-12-27 00:00:00+00:00</th>\n",
       "      <td>26439.373047</td>\n",
       "      <td>28288.839844</td>\n",
       "      <td>25922.769531</td>\n",
       "      <td>26272.294922</td>\n",
       "      <td>66479895605</td>\n",
       "      <td>0</td>\n",
       "      <td>0</td>\n",
       "    </tr>\n",
       "    <tr>\n",
       "      <th>2020-12-28 00:00:00+00:00</th>\n",
       "      <td>26280.822266</td>\n",
       "      <td>27389.111328</td>\n",
       "      <td>26207.640625</td>\n",
       "      <td>27084.808594</td>\n",
       "      <td>49056742893</td>\n",
       "      <td>0</td>\n",
       "      <td>0</td>\n",
       "    </tr>\n",
       "    <tr>\n",
       "      <th>2020-12-29 00:00:00+00:00</th>\n",
       "      <td>27081.810547</td>\n",
       "      <td>27370.720703</td>\n",
       "      <td>25987.298828</td>\n",
       "      <td>27362.437500</td>\n",
       "      <td>45265946774</td>\n",
       "      <td>0</td>\n",
       "      <td>0</td>\n",
       "    </tr>\n",
       "    <tr>\n",
       "      <th>2020-12-30 00:00:00+00:00</th>\n",
       "      <td>27360.089844</td>\n",
       "      <td>28937.740234</td>\n",
       "      <td>27360.089844</td>\n",
       "      <td>28840.953125</td>\n",
       "      <td>51287442704</td>\n",
       "      <td>0</td>\n",
       "      <td>0</td>\n",
       "    </tr>\n",
       "  </tbody>\n",
       "</table>\n",
       "</div>"
      ],
      "text/plain": [
       "                                   Open          High           Low  \\\n",
       "Date                                                                  \n",
       "2020-12-26 00:00:00+00:00  24677.015625  26718.070312  24522.689453   \n",
       "2020-12-27 00:00:00+00:00  26439.373047  28288.839844  25922.769531   \n",
       "2020-12-28 00:00:00+00:00  26280.822266  27389.111328  26207.640625   \n",
       "2020-12-29 00:00:00+00:00  27081.810547  27370.720703  25987.298828   \n",
       "2020-12-30 00:00:00+00:00  27360.089844  28937.740234  27360.089844   \n",
       "\n",
       "                                  Close       Volume  Dividends  Stock Splits  \n",
       "Date                                                                           \n",
       "2020-12-26 00:00:00+00:00  26437.037109  48332647295          0             0  \n",
       "2020-12-27 00:00:00+00:00  26272.294922  66479895605          0             0  \n",
       "2020-12-28 00:00:00+00:00  27084.808594  49056742893          0             0  \n",
       "2020-12-29 00:00:00+00:00  27362.437500  45265946774          0             0  \n",
       "2020-12-30 00:00:00+00:00  28840.953125  51287442704          0             0  "
      ]
     },
     "execution_count": 6,
     "metadata": {},
     "output_type": "execute_result"
    }
   ],
   "source": [
    "df.tail()"
   ]
  },
  {
   "cell_type": "code",
   "execution_count": 8,
   "id": "4f591396",
   "metadata": {},
   "outputs": [
    {
     "data": {
      "text/html": [
       "<div>\n",
       "<style scoped>\n",
       "    .dataframe tbody tr th:only-of-type {\n",
       "        vertical-align: middle;\n",
       "    }\n",
       "\n",
       "    .dataframe tbody tr th {\n",
       "        vertical-align: top;\n",
       "    }\n",
       "\n",
       "    .dataframe thead th {\n",
       "        text-align: right;\n",
       "    }\n",
       "</style>\n",
       "<table border=\"1\" class=\"dataframe\">\n",
       "  <thead>\n",
       "    <tr style=\"text-align: right;\">\n",
       "      <th></th>\n",
       "      <th>Close</th>\n",
       "    </tr>\n",
       "    <tr>\n",
       "      <th>Date</th>\n",
       "      <th></th>\n",
       "    </tr>\n",
       "  </thead>\n",
       "  <tbody>\n",
       "    <tr>\n",
       "      <th>2020-12-26 00:00:00+00:00</th>\n",
       "      <td>26437.037109</td>\n",
       "    </tr>\n",
       "    <tr>\n",
       "      <th>2020-12-27 00:00:00+00:00</th>\n",
       "      <td>26272.294922</td>\n",
       "    </tr>\n",
       "    <tr>\n",
       "      <th>2020-12-28 00:00:00+00:00</th>\n",
       "      <td>27084.808594</td>\n",
       "    </tr>\n",
       "    <tr>\n",
       "      <th>2020-12-29 00:00:00+00:00</th>\n",
       "      <td>27362.437500</td>\n",
       "    </tr>\n",
       "    <tr>\n",
       "      <th>2020-12-30 00:00:00+00:00</th>\n",
       "      <td>28840.953125</td>\n",
       "    </tr>\n",
       "  </tbody>\n",
       "</table>\n",
       "</div>"
      ],
      "text/plain": [
       "                                  Close\n",
       "Date                                   \n",
       "2020-12-26 00:00:00+00:00  26437.037109\n",
       "2020-12-27 00:00:00+00:00  26272.294922\n",
       "2020-12-28 00:00:00+00:00  27084.808594\n",
       "2020-12-29 00:00:00+00:00  27362.437500\n",
       "2020-12-30 00:00:00+00:00  28840.953125"
      ]
     },
     "execution_count": 8,
     "metadata": {},
     "output_type": "execute_result"
    }
   ],
   "source": [
    "df = df[['Close']]\n",
    "df.tail()"
   ]
  },
  {
   "cell_type": "code",
   "execution_count": 9,
   "id": "ee36b13f",
   "metadata": {},
   "outputs": [
    {
     "name": "stdout",
     "output_type": "stream",
     "text": [
      "<class 'pandas.core.frame.DataFrame'>\n",
      "DatetimeIndex: 2191 entries, 2015-01-01 00:00:00+00:00 to 2020-12-30 00:00:00+00:00\n",
      "Data columns (total 1 columns):\n",
      " #   Column  Non-Null Count  Dtype  \n",
      "---  ------  --------------  -----  \n",
      " 0   Close   2191 non-null   float64\n",
      "dtypes: float64(1)\n",
      "memory usage: 34.2 KB\n"
     ]
    }
   ],
   "source": [
    "df.info()"
   ]
  },
  {
   "cell_type": "code",
   "execution_count": 10,
   "id": "99e792a0",
   "metadata": {},
   "outputs": [],
   "source": [
    "_1M = 21"
   ]
  },
  {
   "cell_type": "code",
   "execution_count": 11,
   "id": "9a73923e",
   "metadata": {},
   "outputs": [
    {
     "data": {
      "text/html": [
       "<div>\n",
       "<style scoped>\n",
       "    .dataframe tbody tr th:only-of-type {\n",
       "        vertical-align: middle;\n",
       "    }\n",
       "\n",
       "    .dataframe tbody tr th {\n",
       "        vertical-align: top;\n",
       "    }\n",
       "\n",
       "    .dataframe thead th {\n",
       "        text-align: right;\n",
       "    }\n",
       "</style>\n",
       "<table border=\"1\" class=\"dataframe\">\n",
       "  <thead>\n",
       "    <tr style=\"text-align: right;\">\n",
       "      <th></th>\n",
       "      <th>Close</th>\n",
       "      <th>Return_1M_fwd</th>\n",
       "      <th>Return_3M_fwd</th>\n",
       "      <th>Return_6M_fwd</th>\n",
       "    </tr>\n",
       "    <tr>\n",
       "      <th>Date</th>\n",
       "      <th></th>\n",
       "      <th></th>\n",
       "      <th></th>\n",
       "      <th></th>\n",
       "    </tr>\n",
       "  </thead>\n",
       "  <tbody>\n",
       "    <tr>\n",
       "      <th>2020-12-26 00:00:00+00:00</th>\n",
       "      <td>26437.037109</td>\n",
       "      <td>0.318989</td>\n",
       "      <td>0.907336</td>\n",
       "      <td>1.127653</td>\n",
       "    </tr>\n",
       "    <tr>\n",
       "      <th>2020-12-27 00:00:00+00:00</th>\n",
       "      <td>26272.294922</td>\n",
       "      <td>0.380219</td>\n",
       "      <td>1.016853</td>\n",
       "      <td>1.263091</td>\n",
       "    </tr>\n",
       "    <tr>\n",
       "      <th>2020-12-28 00:00:00+00:00</th>\n",
       "      <td>27084.808594</td>\n",
       "      <td>0.358084</td>\n",
       "      <td>1.016111</td>\n",
       "      <td>1.252262</td>\n",
       "    </tr>\n",
       "    <tr>\n",
       "      <th>2020-12-29 00:00:00+00:00</th>\n",
       "      <td>27362.437500</td>\n",
       "      <td>0.411282</td>\n",
       "      <td>1.071457</td>\n",
       "      <td>1.300275</td>\n",
       "    </tr>\n",
       "    <tr>\n",
       "      <th>2020-12-30 00:00:00+00:00</th>\n",
       "      <td>28840.953125</td>\n",
       "      <td>0.493490</td>\n",
       "      <td>1.003955</td>\n",
       "      <td>1.407365</td>\n",
       "    </tr>\n",
       "  </tbody>\n",
       "</table>\n",
       "</div>"
      ],
      "text/plain": [
       "                                  Close  Return_1M_fwd  Return_3M_fwd  \\\n",
       "Date                                                                    \n",
       "2020-12-26 00:00:00+00:00  26437.037109       0.318989       0.907336   \n",
       "2020-12-27 00:00:00+00:00  26272.294922       0.380219       1.016853   \n",
       "2020-12-28 00:00:00+00:00  27084.808594       0.358084       1.016111   \n",
       "2020-12-29 00:00:00+00:00  27362.437500       0.411282       1.071457   \n",
       "2020-12-30 00:00:00+00:00  28840.953125       0.493490       1.003955   \n",
       "\n",
       "                           Return_6M_fwd  \n",
       "Date                                      \n",
       "2020-12-26 00:00:00+00:00       1.127653  \n",
       "2020-12-27 00:00:00+00:00       1.263091  \n",
       "2020-12-28 00:00:00+00:00       1.252262  \n",
       "2020-12-29 00:00:00+00:00       1.300275  \n",
       "2020-12-30 00:00:00+00:00       1.407365  "
      ]
     },
     "execution_count": 11,
     "metadata": {},
     "output_type": "execute_result"
    }
   ],
   "source": [
    "# หา retrun ในอีก 1,3 และ 6 เดือนข้างหน้า\n",
    "for i in [1,3,6]:\n",
    "    col_name = 'Return_%dM_fwd'%i\n",
    "    df[col_name] = df['Close'].pct_change(i*_1M).shift()\n",
    "df.tail()"
   ]
  },
  {
   "cell_type": "code",
   "execution_count": 12,
   "id": "099e536e",
   "metadata": {},
   "outputs": [
    {
     "data": {
      "text/html": [
       "<div>\n",
       "<style scoped>\n",
       "    .dataframe tbody tr th:only-of-type {\n",
       "        vertical-align: middle;\n",
       "    }\n",
       "\n",
       "    .dataframe tbody tr th {\n",
       "        vertical-align: top;\n",
       "    }\n",
       "\n",
       "    .dataframe thead th {\n",
       "        text-align: right;\n",
       "    }\n",
       "</style>\n",
       "<table border=\"1\" class=\"dataframe\">\n",
       "  <thead>\n",
       "    <tr style=\"text-align: right;\">\n",
       "      <th></th>\n",
       "      <th>Close</th>\n",
       "      <th>Return_1M_fwd</th>\n",
       "      <th>Return_3M_fwd</th>\n",
       "      <th>Return_6M_fwd</th>\n",
       "      <th>EMA_5</th>\n",
       "      <th>EMA_12</th>\n",
       "      <th>EMA_26</th>\n",
       "    </tr>\n",
       "    <tr>\n",
       "      <th>Date</th>\n",
       "      <th></th>\n",
       "      <th></th>\n",
       "      <th></th>\n",
       "      <th></th>\n",
       "      <th></th>\n",
       "      <th></th>\n",
       "      <th></th>\n",
       "    </tr>\n",
       "  </thead>\n",
       "  <tbody>\n",
       "    <tr>\n",
       "      <th>2020-12-26 00:00:00+00:00</th>\n",
       "      <td>26437.037109</td>\n",
       "      <td>0.318989</td>\n",
       "      <td>0.907336</td>\n",
       "      <td>1.127653</td>\n",
       "      <td>24667.373065</td>\n",
       "      <td>23257.167113</td>\n",
       "      <td>21451.689971</td>\n",
       "    </tr>\n",
       "    <tr>\n",
       "      <th>2020-12-27 00:00:00+00:00</th>\n",
       "      <td>26272.294922</td>\n",
       "      <td>0.380219</td>\n",
       "      <td>1.016853</td>\n",
       "      <td>1.263091</td>\n",
       "      <td>25202.347018</td>\n",
       "      <td>23721.032930</td>\n",
       "      <td>21808.771819</td>\n",
       "    </tr>\n",
       "    <tr>\n",
       "      <th>2020-12-28 00:00:00+00:00</th>\n",
       "      <td>27084.808594</td>\n",
       "      <td>0.358084</td>\n",
       "      <td>1.016111</td>\n",
       "      <td>1.252262</td>\n",
       "      <td>25829.834210</td>\n",
       "      <td>24238.536878</td>\n",
       "      <td>22199.589358</td>\n",
       "    </tr>\n",
       "    <tr>\n",
       "      <th>2020-12-29 00:00:00+00:00</th>\n",
       "      <td>27362.437500</td>\n",
       "      <td>0.411282</td>\n",
       "      <td>1.071457</td>\n",
       "      <td>1.300275</td>\n",
       "      <td>26340.701973</td>\n",
       "      <td>24719.136974</td>\n",
       "      <td>22582.022554</td>\n",
       "    </tr>\n",
       "    <tr>\n",
       "      <th>2020-12-30 00:00:00+00:00</th>\n",
       "      <td>28840.953125</td>\n",
       "      <td>0.493490</td>\n",
       "      <td>1.003955</td>\n",
       "      <td>1.407365</td>\n",
       "      <td>27174.119024</td>\n",
       "      <td>25353.262535</td>\n",
       "      <td>23045.647040</td>\n",
       "    </tr>\n",
       "  </tbody>\n",
       "</table>\n",
       "</div>"
      ],
      "text/plain": [
       "                                  Close  Return_1M_fwd  Return_3M_fwd  \\\n",
       "Date                                                                    \n",
       "2020-12-26 00:00:00+00:00  26437.037109       0.318989       0.907336   \n",
       "2020-12-27 00:00:00+00:00  26272.294922       0.380219       1.016853   \n",
       "2020-12-28 00:00:00+00:00  27084.808594       0.358084       1.016111   \n",
       "2020-12-29 00:00:00+00:00  27362.437500       0.411282       1.071457   \n",
       "2020-12-30 00:00:00+00:00  28840.953125       0.493490       1.003955   \n",
       "\n",
       "                           Return_6M_fwd         EMA_5        EMA_12  \\\n",
       "Date                                                                   \n",
       "2020-12-26 00:00:00+00:00       1.127653  24667.373065  23257.167113   \n",
       "2020-12-27 00:00:00+00:00       1.263091  25202.347018  23721.032930   \n",
       "2020-12-28 00:00:00+00:00       1.252262  25829.834210  24238.536878   \n",
       "2020-12-29 00:00:00+00:00       1.300275  26340.701973  24719.136974   \n",
       "2020-12-30 00:00:00+00:00       1.407365  27174.119024  25353.262535   \n",
       "\n",
       "                                 EMA_26  \n",
       "Date                                     \n",
       "2020-12-26 00:00:00+00:00  21451.689971  \n",
       "2020-12-27 00:00:00+00:00  21808.771819  \n",
       "2020-12-28 00:00:00+00:00  22199.589358  \n",
       "2020-12-29 00:00:00+00:00  22582.022554  \n",
       "2020-12-30 00:00:00+00:00  23045.647040  "
      ]
     },
     "execution_count": 12,
     "metadata": {},
     "output_type": "execute_result"
    }
   ],
   "source": [
    "# หา EMA 5 12 และ 26\n",
    "for i in [5,12,26]:\n",
    "    df.ta.ema(i,append=True)\n",
    "df.tail()"
   ]
  },
  {
   "cell_type": "code",
   "execution_count": 13,
   "id": "e6c9905a",
   "metadata": {},
   "outputs": [
    {
     "data": {
      "text/html": [
       "<div>\n",
       "<style scoped>\n",
       "    .dataframe tbody tr th:only-of-type {\n",
       "        vertical-align: middle;\n",
       "    }\n",
       "\n",
       "    .dataframe tbody tr th {\n",
       "        vertical-align: top;\n",
       "    }\n",
       "\n",
       "    .dataframe thead th {\n",
       "        text-align: right;\n",
       "    }\n",
       "</style>\n",
       "<table border=\"1\" class=\"dataframe\">\n",
       "  <thead>\n",
       "    <tr style=\"text-align: right;\">\n",
       "      <th></th>\n",
       "      <th>Close</th>\n",
       "      <th>Return_1M_fwd</th>\n",
       "      <th>Return_3M_fwd</th>\n",
       "      <th>Return_6M_fwd</th>\n",
       "      <th>EMA_5</th>\n",
       "      <th>EMA_12</th>\n",
       "      <th>EMA_26</th>\n",
       "      <th>Close-EMA_5</th>\n",
       "      <th>EMA_5-EMA_12</th>\n",
       "      <th>EMA_12-EMA_26</th>\n",
       "    </tr>\n",
       "    <tr>\n",
       "      <th>Date</th>\n",
       "      <th></th>\n",
       "      <th></th>\n",
       "      <th></th>\n",
       "      <th></th>\n",
       "      <th></th>\n",
       "      <th></th>\n",
       "      <th></th>\n",
       "      <th></th>\n",
       "      <th></th>\n",
       "      <th></th>\n",
       "    </tr>\n",
       "  </thead>\n",
       "  <tbody>\n",
       "    <tr>\n",
       "      <th>2020-12-26 00:00:00+00:00</th>\n",
       "      <td>26437.037109</td>\n",
       "      <td>0.318989</td>\n",
       "      <td>0.907336</td>\n",
       "      <td>1.127653</td>\n",
       "      <td>24667.373065</td>\n",
       "      <td>23257.167113</td>\n",
       "      <td>21451.689971</td>\n",
       "      <td>1769.664044</td>\n",
       "      <td>1410.205952</td>\n",
       "      <td>1805.477142</td>\n",
       "    </tr>\n",
       "    <tr>\n",
       "      <th>2020-12-27 00:00:00+00:00</th>\n",
       "      <td>26272.294922</td>\n",
       "      <td>0.380219</td>\n",
       "      <td>1.016853</td>\n",
       "      <td>1.263091</td>\n",
       "      <td>25202.347018</td>\n",
       "      <td>23721.032930</td>\n",
       "      <td>21808.771819</td>\n",
       "      <td>1069.947904</td>\n",
       "      <td>1481.314088</td>\n",
       "      <td>1912.261111</td>\n",
       "    </tr>\n",
       "    <tr>\n",
       "      <th>2020-12-28 00:00:00+00:00</th>\n",
       "      <td>27084.808594</td>\n",
       "      <td>0.358084</td>\n",
       "      <td>1.016111</td>\n",
       "      <td>1.252262</td>\n",
       "      <td>25829.834210</td>\n",
       "      <td>24238.536878</td>\n",
       "      <td>22199.589358</td>\n",
       "      <td>1254.974384</td>\n",
       "      <td>1591.297332</td>\n",
       "      <td>2038.947520</td>\n",
       "    </tr>\n",
       "    <tr>\n",
       "      <th>2020-12-29 00:00:00+00:00</th>\n",
       "      <td>27362.437500</td>\n",
       "      <td>0.411282</td>\n",
       "      <td>1.071457</td>\n",
       "      <td>1.300275</td>\n",
       "      <td>26340.701973</td>\n",
       "      <td>24719.136974</td>\n",
       "      <td>22582.022554</td>\n",
       "      <td>1021.735527</td>\n",
       "      <td>1621.564999</td>\n",
       "      <td>2137.114420</td>\n",
       "    </tr>\n",
       "    <tr>\n",
       "      <th>2020-12-30 00:00:00+00:00</th>\n",
       "      <td>28840.953125</td>\n",
       "      <td>0.493490</td>\n",
       "      <td>1.003955</td>\n",
       "      <td>1.407365</td>\n",
       "      <td>27174.119024</td>\n",
       "      <td>25353.262535</td>\n",
       "      <td>23045.647040</td>\n",
       "      <td>1666.834101</td>\n",
       "      <td>1820.856488</td>\n",
       "      <td>2307.615495</td>\n",
       "    </tr>\n",
       "  </tbody>\n",
       "</table>\n",
       "</div>"
      ],
      "text/plain": [
       "                                  Close  Return_1M_fwd  Return_3M_fwd  \\\n",
       "Date                                                                    \n",
       "2020-12-26 00:00:00+00:00  26437.037109       0.318989       0.907336   \n",
       "2020-12-27 00:00:00+00:00  26272.294922       0.380219       1.016853   \n",
       "2020-12-28 00:00:00+00:00  27084.808594       0.358084       1.016111   \n",
       "2020-12-29 00:00:00+00:00  27362.437500       0.411282       1.071457   \n",
       "2020-12-30 00:00:00+00:00  28840.953125       0.493490       1.003955   \n",
       "\n",
       "                           Return_6M_fwd         EMA_5        EMA_12  \\\n",
       "Date                                                                   \n",
       "2020-12-26 00:00:00+00:00       1.127653  24667.373065  23257.167113   \n",
       "2020-12-27 00:00:00+00:00       1.263091  25202.347018  23721.032930   \n",
       "2020-12-28 00:00:00+00:00       1.252262  25829.834210  24238.536878   \n",
       "2020-12-29 00:00:00+00:00       1.300275  26340.701973  24719.136974   \n",
       "2020-12-30 00:00:00+00:00       1.407365  27174.119024  25353.262535   \n",
       "\n",
       "                                 EMA_26  Close-EMA_5  EMA_5-EMA_12  \\\n",
       "Date                                                                 \n",
       "2020-12-26 00:00:00+00:00  21451.689971  1769.664044   1410.205952   \n",
       "2020-12-27 00:00:00+00:00  21808.771819  1069.947904   1481.314088   \n",
       "2020-12-28 00:00:00+00:00  22199.589358  1254.974384   1591.297332   \n",
       "2020-12-29 00:00:00+00:00  22582.022554  1021.735527   1621.564999   \n",
       "2020-12-30 00:00:00+00:00  23045.647040  1666.834101   1820.856488   \n",
       "\n",
       "                           EMA_12-EMA_26  \n",
       "Date                                      \n",
       "2020-12-26 00:00:00+00:00    1805.477142  \n",
       "2020-12-27 00:00:00+00:00    1912.261111  \n",
       "2020-12-28 00:00:00+00:00    2038.947520  \n",
       "2020-12-29 00:00:00+00:00    2137.114420  \n",
       "2020-12-30 00:00:00+00:00    2307.615495  "
      ]
     },
     "execution_count": 13,
     "metadata": {},
     "output_type": "execute_result"
    }
   ],
   "source": [
    "df['Close-EMA_5'] = df['Close'] - df['EMA_5']\n",
    "df['EMA_5-EMA_12'] = df['EMA_5'] - df['EMA_12']\n",
    "df['EMA_12-EMA_26'] = df['EMA_12'] - df['EMA_26']\n",
    "df.tail()"
   ]
  },
  {
   "cell_type": "code",
   "execution_count": 14,
   "id": "0fa9d17f",
   "metadata": {},
   "outputs": [
    {
     "data": {
      "text/html": [
       "<div>\n",
       "<style scoped>\n",
       "    .dataframe tbody tr th:only-of-type {\n",
       "        vertical-align: middle;\n",
       "    }\n",
       "\n",
       "    .dataframe tbody tr th {\n",
       "        vertical-align: top;\n",
       "    }\n",
       "\n",
       "    .dataframe thead th {\n",
       "        text-align: right;\n",
       "    }\n",
       "</style>\n",
       "<table border=\"1\" class=\"dataframe\">\n",
       "  <thead>\n",
       "    <tr style=\"text-align: right;\">\n",
       "      <th></th>\n",
       "      <th>Close</th>\n",
       "      <th>Return_1M_fwd</th>\n",
       "      <th>Return_3M_fwd</th>\n",
       "      <th>Return_6M_fwd</th>\n",
       "      <th>EMA_5</th>\n",
       "      <th>EMA_12</th>\n",
       "      <th>EMA_26</th>\n",
       "      <th>Close-EMA_5</th>\n",
       "      <th>EMA_5-EMA_12</th>\n",
       "      <th>EMA_12-EMA_26</th>\n",
       "    </tr>\n",
       "    <tr>\n",
       "      <th>Date</th>\n",
       "      <th></th>\n",
       "      <th></th>\n",
       "      <th></th>\n",
       "      <th></th>\n",
       "      <th></th>\n",
       "      <th></th>\n",
       "      <th></th>\n",
       "      <th></th>\n",
       "      <th></th>\n",
       "      <th></th>\n",
       "    </tr>\n",
       "  </thead>\n",
       "  <tbody>\n",
       "    <tr>\n",
       "      <th>2015-05-08 00:00:00+00:00</th>\n",
       "      <td>243.863007</td>\n",
       "      <td>0.038329</td>\n",
       "      <td>-0.140648</td>\n",
       "      <td>-0.244758</td>\n",
       "      <td>238.046364</td>\n",
       "      <td>235.263827</td>\n",
       "      <td>235.239362</td>\n",
       "      <td>5.816643</td>\n",
       "      <td>2.782537</td>\n",
       "      <td>0.024465</td>\n",
       "    </tr>\n",
       "    <tr>\n",
       "      <th>2015-05-09 00:00:00+00:00</th>\n",
       "      <td>241.832001</td>\n",
       "      <td>0.094135</td>\n",
       "      <td>-0.105822</td>\n",
       "      <td>-0.225910</td>\n",
       "      <td>239.308243</td>\n",
       "      <td>236.274315</td>\n",
       "      <td>235.727706</td>\n",
       "      <td>2.523758</td>\n",
       "      <td>3.033928</td>\n",
       "      <td>0.546609</td>\n",
       "    </tr>\n",
       "    <tr>\n",
       "      <th>2015-05-10 00:00:00+00:00</th>\n",
       "      <td>240.296005</td>\n",
       "      <td>0.082720</td>\n",
       "      <td>-0.124625</td>\n",
       "      <td>-0.139639</td>\n",
       "      <td>239.637497</td>\n",
       "      <td>236.893037</td>\n",
       "      <td>236.066098</td>\n",
       "      <td>0.658508</td>\n",
       "      <td>2.744460</td>\n",
       "      <td>0.826938</td>\n",
       "    </tr>\n",
       "    <tr>\n",
       "      <th>2015-05-11 00:00:00+00:00</th>\n",
       "      <td>242.158005</td>\n",
       "      <td>0.079497</td>\n",
       "      <td>-0.124139</td>\n",
       "      <td>-0.090460</td>\n",
       "      <td>240.477666</td>\n",
       "      <td>237.703032</td>\n",
       "      <td>236.517351</td>\n",
       "      <td>1.680339</td>\n",
       "      <td>2.774634</td>\n",
       "      <td>1.185681</td>\n",
       "    </tr>\n",
       "    <tr>\n",
       "      <th>2015-05-12 00:00:00+00:00</th>\n",
       "      <td>241.112000</td>\n",
       "      <td>0.078050</td>\n",
       "      <td>-0.163839</td>\n",
       "      <td>-0.117738</td>\n",
       "      <td>240.689111</td>\n",
       "      <td>238.227488</td>\n",
       "      <td>236.857695</td>\n",
       "      <td>0.422889</td>\n",
       "      <td>2.461622</td>\n",
       "      <td>1.369793</td>\n",
       "    </tr>\n",
       "    <tr>\n",
       "      <th>...</th>\n",
       "      <td>...</td>\n",
       "      <td>...</td>\n",
       "      <td>...</td>\n",
       "      <td>...</td>\n",
       "      <td>...</td>\n",
       "      <td>...</td>\n",
       "      <td>...</td>\n",
       "      <td>...</td>\n",
       "      <td>...</td>\n",
       "      <td>...</td>\n",
       "    </tr>\n",
       "    <tr>\n",
       "      <th>2020-12-26 00:00:00+00:00</th>\n",
       "      <td>26437.037109</td>\n",
       "      <td>0.318989</td>\n",
       "      <td>0.907336</td>\n",
       "      <td>1.127653</td>\n",
       "      <td>24667.373065</td>\n",
       "      <td>23257.167113</td>\n",
       "      <td>21451.689971</td>\n",
       "      <td>1769.664044</td>\n",
       "      <td>1410.205952</td>\n",
       "      <td>1805.477142</td>\n",
       "    </tr>\n",
       "    <tr>\n",
       "      <th>2020-12-27 00:00:00+00:00</th>\n",
       "      <td>26272.294922</td>\n",
       "      <td>0.380219</td>\n",
       "      <td>1.016853</td>\n",
       "      <td>1.263091</td>\n",
       "      <td>25202.347018</td>\n",
       "      <td>23721.032930</td>\n",
       "      <td>21808.771819</td>\n",
       "      <td>1069.947904</td>\n",
       "      <td>1481.314088</td>\n",
       "      <td>1912.261111</td>\n",
       "    </tr>\n",
       "    <tr>\n",
       "      <th>2020-12-28 00:00:00+00:00</th>\n",
       "      <td>27084.808594</td>\n",
       "      <td>0.358084</td>\n",
       "      <td>1.016111</td>\n",
       "      <td>1.252262</td>\n",
       "      <td>25829.834210</td>\n",
       "      <td>24238.536878</td>\n",
       "      <td>22199.589358</td>\n",
       "      <td>1254.974384</td>\n",
       "      <td>1591.297332</td>\n",
       "      <td>2038.947520</td>\n",
       "    </tr>\n",
       "    <tr>\n",
       "      <th>2020-12-29 00:00:00+00:00</th>\n",
       "      <td>27362.437500</td>\n",
       "      <td>0.411282</td>\n",
       "      <td>1.071457</td>\n",
       "      <td>1.300275</td>\n",
       "      <td>26340.701973</td>\n",
       "      <td>24719.136974</td>\n",
       "      <td>22582.022554</td>\n",
       "      <td>1021.735527</td>\n",
       "      <td>1621.564999</td>\n",
       "      <td>2137.114420</td>\n",
       "    </tr>\n",
       "    <tr>\n",
       "      <th>2020-12-30 00:00:00+00:00</th>\n",
       "      <td>28840.953125</td>\n",
       "      <td>0.493490</td>\n",
       "      <td>1.003955</td>\n",
       "      <td>1.407365</td>\n",
       "      <td>27174.119024</td>\n",
       "      <td>25353.262535</td>\n",
       "      <td>23045.647040</td>\n",
       "      <td>1666.834101</td>\n",
       "      <td>1820.856488</td>\n",
       "      <td>2307.615495</td>\n",
       "    </tr>\n",
       "  </tbody>\n",
       "</table>\n",
       "<p>2064 rows × 10 columns</p>\n",
       "</div>"
      ],
      "text/plain": [
       "                                  Close  Return_1M_fwd  Return_3M_fwd  \\\n",
       "Date                                                                    \n",
       "2015-05-08 00:00:00+00:00    243.863007       0.038329      -0.140648   \n",
       "2015-05-09 00:00:00+00:00    241.832001       0.094135      -0.105822   \n",
       "2015-05-10 00:00:00+00:00    240.296005       0.082720      -0.124625   \n",
       "2015-05-11 00:00:00+00:00    242.158005       0.079497      -0.124139   \n",
       "2015-05-12 00:00:00+00:00    241.112000       0.078050      -0.163839   \n",
       "...                                 ...            ...            ...   \n",
       "2020-12-26 00:00:00+00:00  26437.037109       0.318989       0.907336   \n",
       "2020-12-27 00:00:00+00:00  26272.294922       0.380219       1.016853   \n",
       "2020-12-28 00:00:00+00:00  27084.808594       0.358084       1.016111   \n",
       "2020-12-29 00:00:00+00:00  27362.437500       0.411282       1.071457   \n",
       "2020-12-30 00:00:00+00:00  28840.953125       0.493490       1.003955   \n",
       "\n",
       "                           Return_6M_fwd         EMA_5        EMA_12  \\\n",
       "Date                                                                   \n",
       "2015-05-08 00:00:00+00:00      -0.244758    238.046364    235.263827   \n",
       "2015-05-09 00:00:00+00:00      -0.225910    239.308243    236.274315   \n",
       "2015-05-10 00:00:00+00:00      -0.139639    239.637497    236.893037   \n",
       "2015-05-11 00:00:00+00:00      -0.090460    240.477666    237.703032   \n",
       "2015-05-12 00:00:00+00:00      -0.117738    240.689111    238.227488   \n",
       "...                                  ...           ...           ...   \n",
       "2020-12-26 00:00:00+00:00       1.127653  24667.373065  23257.167113   \n",
       "2020-12-27 00:00:00+00:00       1.263091  25202.347018  23721.032930   \n",
       "2020-12-28 00:00:00+00:00       1.252262  25829.834210  24238.536878   \n",
       "2020-12-29 00:00:00+00:00       1.300275  26340.701973  24719.136974   \n",
       "2020-12-30 00:00:00+00:00       1.407365  27174.119024  25353.262535   \n",
       "\n",
       "                                 EMA_26  Close-EMA_5  EMA_5-EMA_12  \\\n",
       "Date                                                                 \n",
       "2015-05-08 00:00:00+00:00    235.239362     5.816643      2.782537   \n",
       "2015-05-09 00:00:00+00:00    235.727706     2.523758      3.033928   \n",
       "2015-05-10 00:00:00+00:00    236.066098     0.658508      2.744460   \n",
       "2015-05-11 00:00:00+00:00    236.517351     1.680339      2.774634   \n",
       "2015-05-12 00:00:00+00:00    236.857695     0.422889      2.461622   \n",
       "...                                 ...          ...           ...   \n",
       "2020-12-26 00:00:00+00:00  21451.689971  1769.664044   1410.205952   \n",
       "2020-12-27 00:00:00+00:00  21808.771819  1069.947904   1481.314088   \n",
       "2020-12-28 00:00:00+00:00  22199.589358  1254.974384   1591.297332   \n",
       "2020-12-29 00:00:00+00:00  22582.022554  1021.735527   1621.564999   \n",
       "2020-12-30 00:00:00+00:00  23045.647040  1666.834101   1820.856488   \n",
       "\n",
       "                           EMA_12-EMA_26  \n",
       "Date                                      \n",
       "2015-05-08 00:00:00+00:00       0.024465  \n",
       "2015-05-09 00:00:00+00:00       0.546609  \n",
       "2015-05-10 00:00:00+00:00       0.826938  \n",
       "2015-05-11 00:00:00+00:00       1.185681  \n",
       "2015-05-12 00:00:00+00:00       1.369793  \n",
       "...                                  ...  \n",
       "2020-12-26 00:00:00+00:00    1805.477142  \n",
       "2020-12-27 00:00:00+00:00    1912.261111  \n",
       "2020-12-28 00:00:00+00:00    2038.947520  \n",
       "2020-12-29 00:00:00+00:00    2137.114420  \n",
       "2020-12-30 00:00:00+00:00    2307.615495  \n",
       "\n",
       "[2064 rows x 10 columns]"
      ]
     },
     "execution_count": 14,
     "metadata": {},
     "output_type": "execute_result"
    }
   ],
   "source": [
    "df = df.dropna()\n",
    "df"
   ]
  },
  {
   "cell_type": "markdown",
   "id": "58668dd0",
   "metadata": {},
   "source": [
    "# Split data"
   ]
  },
  {
   "cell_type": "code",
   "execution_count": null,
   "id": "f35d1fab",
   "metadata": {},
   "outputs": [],
   "source": []
  },
  {
   "cell_type": "code",
   "execution_count": 15,
   "id": "0d71870e",
   "metadata": {},
   "outputs": [],
   "source": [
    "my_features = ['Return_3M_fwd', 'Return_6M_fwd', 'Close-EMA_5', 'EMA_5-EMA_12', 'EMA_12-EMA_26']\n",
    "X = df[my_features]\n",
    "y = df['Return_1M_fwd']"
   ]
  },
  {
   "cell_type": "code",
   "execution_count": 16,
   "id": "c984c745",
   "metadata": {},
   "outputs": [
    {
     "data": {
      "text/html": [
       "<div>\n",
       "<style scoped>\n",
       "    .dataframe tbody tr th:only-of-type {\n",
       "        vertical-align: middle;\n",
       "    }\n",
       "\n",
       "    .dataframe tbody tr th {\n",
       "        vertical-align: top;\n",
       "    }\n",
       "\n",
       "    .dataframe thead th {\n",
       "        text-align: right;\n",
       "    }\n",
       "</style>\n",
       "<table border=\"1\" class=\"dataframe\">\n",
       "  <thead>\n",
       "    <tr style=\"text-align: right;\">\n",
       "      <th></th>\n",
       "      <th>Return_3M_fwd</th>\n",
       "      <th>Return_6M_fwd</th>\n",
       "      <th>Close-EMA_5</th>\n",
       "      <th>EMA_5-EMA_12</th>\n",
       "      <th>EMA_12-EMA_26</th>\n",
       "    </tr>\n",
       "    <tr>\n",
       "      <th>Date</th>\n",
       "      <th></th>\n",
       "      <th></th>\n",
       "      <th></th>\n",
       "      <th></th>\n",
       "      <th></th>\n",
       "    </tr>\n",
       "  </thead>\n",
       "  <tbody>\n",
       "    <tr>\n",
       "      <th>2015-05-08 00:00:00+00:00</th>\n",
       "      <td>-0.140648</td>\n",
       "      <td>-0.244758</td>\n",
       "      <td>5.816643</td>\n",
       "      <td>2.782537</td>\n",
       "      <td>0.024465</td>\n",
       "    </tr>\n",
       "    <tr>\n",
       "      <th>2015-05-09 00:00:00+00:00</th>\n",
       "      <td>-0.105822</td>\n",
       "      <td>-0.225910</td>\n",
       "      <td>2.523758</td>\n",
       "      <td>3.033928</td>\n",
       "      <td>0.546609</td>\n",
       "    </tr>\n",
       "    <tr>\n",
       "      <th>2015-05-10 00:00:00+00:00</th>\n",
       "      <td>-0.124625</td>\n",
       "      <td>-0.139639</td>\n",
       "      <td>0.658508</td>\n",
       "      <td>2.744460</td>\n",
       "      <td>0.826938</td>\n",
       "    </tr>\n",
       "    <tr>\n",
       "      <th>2015-05-11 00:00:00+00:00</th>\n",
       "      <td>-0.124139</td>\n",
       "      <td>-0.090460</td>\n",
       "      <td>1.680339</td>\n",
       "      <td>2.774634</td>\n",
       "      <td>1.185681</td>\n",
       "    </tr>\n",
       "    <tr>\n",
       "      <th>2015-05-12 00:00:00+00:00</th>\n",
       "      <td>-0.163839</td>\n",
       "      <td>-0.117738</td>\n",
       "      <td>0.422889</td>\n",
       "      <td>2.461622</td>\n",
       "      <td>1.369793</td>\n",
       "    </tr>\n",
       "    <tr>\n",
       "      <th>...</th>\n",
       "      <td>...</td>\n",
       "      <td>...</td>\n",
       "      <td>...</td>\n",
       "      <td>...</td>\n",
       "      <td>...</td>\n",
       "    </tr>\n",
       "    <tr>\n",
       "      <th>2020-12-26 00:00:00+00:00</th>\n",
       "      <td>0.907336</td>\n",
       "      <td>1.127653</td>\n",
       "      <td>1769.664044</td>\n",
       "      <td>1410.205952</td>\n",
       "      <td>1805.477142</td>\n",
       "    </tr>\n",
       "    <tr>\n",
       "      <th>2020-12-27 00:00:00+00:00</th>\n",
       "      <td>1.016853</td>\n",
       "      <td>1.263091</td>\n",
       "      <td>1069.947904</td>\n",
       "      <td>1481.314088</td>\n",
       "      <td>1912.261111</td>\n",
       "    </tr>\n",
       "    <tr>\n",
       "      <th>2020-12-28 00:00:00+00:00</th>\n",
       "      <td>1.016111</td>\n",
       "      <td>1.252262</td>\n",
       "      <td>1254.974384</td>\n",
       "      <td>1591.297332</td>\n",
       "      <td>2038.947520</td>\n",
       "    </tr>\n",
       "    <tr>\n",
       "      <th>2020-12-29 00:00:00+00:00</th>\n",
       "      <td>1.071457</td>\n",
       "      <td>1.300275</td>\n",
       "      <td>1021.735527</td>\n",
       "      <td>1621.564999</td>\n",
       "      <td>2137.114420</td>\n",
       "    </tr>\n",
       "    <tr>\n",
       "      <th>2020-12-30 00:00:00+00:00</th>\n",
       "      <td>1.003955</td>\n",
       "      <td>1.407365</td>\n",
       "      <td>1666.834101</td>\n",
       "      <td>1820.856488</td>\n",
       "      <td>2307.615495</td>\n",
       "    </tr>\n",
       "  </tbody>\n",
       "</table>\n",
       "<p>2064 rows × 5 columns</p>\n",
       "</div>"
      ],
      "text/plain": [
       "                           Return_3M_fwd  Return_6M_fwd  Close-EMA_5  \\\n",
       "Date                                                                   \n",
       "2015-05-08 00:00:00+00:00      -0.140648      -0.244758     5.816643   \n",
       "2015-05-09 00:00:00+00:00      -0.105822      -0.225910     2.523758   \n",
       "2015-05-10 00:00:00+00:00      -0.124625      -0.139639     0.658508   \n",
       "2015-05-11 00:00:00+00:00      -0.124139      -0.090460     1.680339   \n",
       "2015-05-12 00:00:00+00:00      -0.163839      -0.117738     0.422889   \n",
       "...                                  ...            ...          ...   \n",
       "2020-12-26 00:00:00+00:00       0.907336       1.127653  1769.664044   \n",
       "2020-12-27 00:00:00+00:00       1.016853       1.263091  1069.947904   \n",
       "2020-12-28 00:00:00+00:00       1.016111       1.252262  1254.974384   \n",
       "2020-12-29 00:00:00+00:00       1.071457       1.300275  1021.735527   \n",
       "2020-12-30 00:00:00+00:00       1.003955       1.407365  1666.834101   \n",
       "\n",
       "                           EMA_5-EMA_12  EMA_12-EMA_26  \n",
       "Date                                                    \n",
       "2015-05-08 00:00:00+00:00      2.782537       0.024465  \n",
       "2015-05-09 00:00:00+00:00      3.033928       0.546609  \n",
       "2015-05-10 00:00:00+00:00      2.744460       0.826938  \n",
       "2015-05-11 00:00:00+00:00      2.774634       1.185681  \n",
       "2015-05-12 00:00:00+00:00      2.461622       1.369793  \n",
       "...                                 ...            ...  \n",
       "2020-12-26 00:00:00+00:00   1410.205952    1805.477142  \n",
       "2020-12-27 00:00:00+00:00   1481.314088    1912.261111  \n",
       "2020-12-28 00:00:00+00:00   1591.297332    2038.947520  \n",
       "2020-12-29 00:00:00+00:00   1621.564999    2137.114420  \n",
       "2020-12-30 00:00:00+00:00   1820.856488    2307.615495  \n",
       "\n",
       "[2064 rows x 5 columns]"
      ]
     },
     "execution_count": 16,
     "metadata": {},
     "output_type": "execute_result"
    }
   ],
   "source": [
    "X"
   ]
  },
  {
   "cell_type": "code",
   "execution_count": 17,
   "id": "da66726e",
   "metadata": {},
   "outputs": [
    {
     "data": {
      "text/plain": [
       "Date\n",
       "2015-05-08 00:00:00+00:00    0.038329\n",
       "2015-05-09 00:00:00+00:00    0.094135\n",
       "2015-05-10 00:00:00+00:00    0.082720\n",
       "2015-05-11 00:00:00+00:00    0.079497\n",
       "2015-05-12 00:00:00+00:00    0.078050\n",
       "                               ...   \n",
       "2020-12-26 00:00:00+00:00    0.318989\n",
       "2020-12-27 00:00:00+00:00    0.380219\n",
       "2020-12-28 00:00:00+00:00    0.358084\n",
       "2020-12-29 00:00:00+00:00    0.411282\n",
       "2020-12-30 00:00:00+00:00    0.493490\n",
       "Name: Return_1M_fwd, Length: 2064, dtype: float64"
      ]
     },
     "execution_count": 17,
     "metadata": {},
     "output_type": "execute_result"
    }
   ],
   "source": [
    "y"
   ]
  },
  {
   "cell_type": "code",
   "execution_count": 18,
   "id": "df08dbfe",
   "metadata": {},
   "outputs": [],
   "source": [
    "X_train, X_test, y_train, y_test = train_test_split(X, y, test_size=0.25, random_state=42, shuffle=False)"
   ]
  },
  {
   "cell_type": "code",
   "execution_count": null,
   "id": "dcc770ef",
   "metadata": {},
   "outputs": [],
   "source": []
  },
  {
   "cell_type": "markdown",
   "id": "0e9371c7",
   "metadata": {},
   "source": [
    "# Model"
   ]
  },
  {
   "cell_type": "code",
   "execution_count": 19,
   "id": "90fec8dc",
   "metadata": {},
   "outputs": [],
   "source": [
    "regr = RandomForestRegressor(random_state=42)\n",
    "regr.fit(X_train, y_train)\n",
    "y_pred = regr.predict(X_test)"
   ]
  },
  {
   "cell_type": "code",
   "execution_count": 20,
   "id": "b832278b",
   "metadata": {
    "scrolled": true
   },
   "outputs": [
    {
     "data": {
      "text/plain": [
       "[DecisionTreeRegressor(max_features=1.0, random_state=1608637542),\n",
       " DecisionTreeRegressor(max_features=1.0, random_state=1273642419),\n",
       " DecisionTreeRegressor(max_features=1.0, random_state=1935803228),\n",
       " DecisionTreeRegressor(max_features=1.0, random_state=787846414),\n",
       " DecisionTreeRegressor(max_features=1.0, random_state=996406378),\n",
       " DecisionTreeRegressor(max_features=1.0, random_state=1201263687),\n",
       " DecisionTreeRegressor(max_features=1.0, random_state=423734972),\n",
       " DecisionTreeRegressor(max_features=1.0, random_state=415968276),\n",
       " DecisionTreeRegressor(max_features=1.0, random_state=670094950),\n",
       " DecisionTreeRegressor(max_features=1.0, random_state=1914837113),\n",
       " DecisionTreeRegressor(max_features=1.0, random_state=669991378),\n",
       " DecisionTreeRegressor(max_features=1.0, random_state=429389014),\n",
       " DecisionTreeRegressor(max_features=1.0, random_state=249467210),\n",
       " DecisionTreeRegressor(max_features=1.0, random_state=1972458954),\n",
       " DecisionTreeRegressor(max_features=1.0, random_state=1572714583),\n",
       " DecisionTreeRegressor(max_features=1.0, random_state=1433267572),\n",
       " DecisionTreeRegressor(max_features=1.0, random_state=434285667),\n",
       " DecisionTreeRegressor(max_features=1.0, random_state=613608295),\n",
       " DecisionTreeRegressor(max_features=1.0, random_state=893664919),\n",
       " DecisionTreeRegressor(max_features=1.0, random_state=648061058),\n",
       " DecisionTreeRegressor(max_features=1.0, random_state=88409749),\n",
       " DecisionTreeRegressor(max_features=1.0, random_state=242285876),\n",
       " DecisionTreeRegressor(max_features=1.0, random_state=2018247425),\n",
       " DecisionTreeRegressor(max_features=1.0, random_state=953477463),\n",
       " DecisionTreeRegressor(max_features=1.0, random_state=1427830251),\n",
       " DecisionTreeRegressor(max_features=1.0, random_state=1883569565),\n",
       " DecisionTreeRegressor(max_features=1.0, random_state=911989541),\n",
       " DecisionTreeRegressor(max_features=1.0, random_state=3344769),\n",
       " DecisionTreeRegressor(max_features=1.0, random_state=780932287),\n",
       " DecisionTreeRegressor(max_features=1.0, random_state=2114032571),\n",
       " DecisionTreeRegressor(max_features=1.0, random_state=787716372),\n",
       " DecisionTreeRegressor(max_features=1.0, random_state=504579232),\n",
       " DecisionTreeRegressor(max_features=1.0, random_state=1306710475),\n",
       " DecisionTreeRegressor(max_features=1.0, random_state=479546681),\n",
       " DecisionTreeRegressor(max_features=1.0, random_state=106328085),\n",
       " DecisionTreeRegressor(max_features=1.0, random_state=30349564),\n",
       " DecisionTreeRegressor(max_features=1.0, random_state=1855189739),\n",
       " DecisionTreeRegressor(max_features=1.0, random_state=99052376),\n",
       " DecisionTreeRegressor(max_features=1.0, random_state=1250819632),\n",
       " DecisionTreeRegressor(max_features=1.0, random_state=106406362),\n",
       " DecisionTreeRegressor(max_features=1.0, random_state=480404538),\n",
       " DecisionTreeRegressor(max_features=1.0, random_state=1717389822),\n",
       " DecisionTreeRegressor(max_features=1.0, random_state=599121577),\n",
       " DecisionTreeRegressor(max_features=1.0, random_state=200427519),\n",
       " DecisionTreeRegressor(max_features=1.0, random_state=1254751707),\n",
       " DecisionTreeRegressor(max_features=1.0, random_state=2034764475),\n",
       " DecisionTreeRegressor(max_features=1.0, random_state=1573512143),\n",
       " DecisionTreeRegressor(max_features=1.0, random_state=999745294),\n",
       " DecisionTreeRegressor(max_features=1.0, random_state=1958805693),\n",
       " DecisionTreeRegressor(max_features=1.0, random_state=389151677),\n",
       " DecisionTreeRegressor(max_features=1.0, random_state=1224821422),\n",
       " DecisionTreeRegressor(max_features=1.0, random_state=508464061),\n",
       " DecisionTreeRegressor(max_features=1.0, random_state=857592370),\n",
       " DecisionTreeRegressor(max_features=1.0, random_state=1642661739),\n",
       " DecisionTreeRegressor(max_features=1.0, random_state=61136438),\n",
       " DecisionTreeRegressor(max_features=1.0, random_state=2075460851),\n",
       " DecisionTreeRegressor(max_features=1.0, random_state=396917567),\n",
       " DecisionTreeRegressor(max_features=1.0, random_state=2004731384),\n",
       " DecisionTreeRegressor(max_features=1.0, random_state=199502978),\n",
       " DecisionTreeRegressor(max_features=1.0, random_state=1545932260),\n",
       " DecisionTreeRegressor(max_features=1.0, random_state=461901618),\n",
       " DecisionTreeRegressor(max_features=1.0, random_state=774414982),\n",
       " DecisionTreeRegressor(max_features=1.0, random_state=732395540),\n",
       " DecisionTreeRegressor(max_features=1.0, random_state=1934879560),\n",
       " DecisionTreeRegressor(max_features=1.0, random_state=279394470),\n",
       " DecisionTreeRegressor(max_features=1.0, random_state=56972561),\n",
       " DecisionTreeRegressor(max_features=1.0, random_state=1927948675),\n",
       " DecisionTreeRegressor(max_features=1.0, random_state=1899242072),\n",
       " DecisionTreeRegressor(max_features=1.0, random_state=1999874363),\n",
       " DecisionTreeRegressor(max_features=1.0, random_state=271820813),\n",
       " DecisionTreeRegressor(max_features=1.0, random_state=1324556529),\n",
       " DecisionTreeRegressor(max_features=1.0, random_state=1655351289),\n",
       " DecisionTreeRegressor(max_features=1.0, random_state=1308306184),\n",
       " DecisionTreeRegressor(max_features=1.0, random_state=68574553),\n",
       " DecisionTreeRegressor(max_features=1.0, random_state=419498548),\n",
       " DecisionTreeRegressor(max_features=1.0, random_state=991681409),\n",
       " DecisionTreeRegressor(max_features=1.0, random_state=791274835),\n",
       " DecisionTreeRegressor(max_features=1.0, random_state=1035196507),\n",
       " DecisionTreeRegressor(max_features=1.0, random_state=1890440558),\n",
       " DecisionTreeRegressor(max_features=1.0, random_state=787110843),\n",
       " DecisionTreeRegressor(max_features=1.0, random_state=524150214),\n",
       " DecisionTreeRegressor(max_features=1.0, random_state=472432043),\n",
       " DecisionTreeRegressor(max_features=1.0, random_state=2126768636),\n",
       " DecisionTreeRegressor(max_features=1.0, random_state=1431061255),\n",
       " DecisionTreeRegressor(max_features=1.0, random_state=147697582),\n",
       " DecisionTreeRegressor(max_features=1.0, random_state=744595490),\n",
       " DecisionTreeRegressor(max_features=1.0, random_state=1758017741),\n",
       " DecisionTreeRegressor(max_features=1.0, random_state=1679592528),\n",
       " DecisionTreeRegressor(max_features=1.0, random_state=1111451555),\n",
       " DecisionTreeRegressor(max_features=1.0, random_state=782698033),\n",
       " DecisionTreeRegressor(max_features=1.0, random_state=698027879),\n",
       " DecisionTreeRegressor(max_features=1.0, random_state=1096768899),\n",
       " DecisionTreeRegressor(max_features=1.0, random_state=1338788865),\n",
       " DecisionTreeRegressor(max_features=1.0, random_state=1826030589),\n",
       " DecisionTreeRegressor(max_features=1.0, random_state=86191493),\n",
       " DecisionTreeRegressor(max_features=1.0, random_state=893102645),\n",
       " DecisionTreeRegressor(max_features=1.0, random_state=200619113),\n",
       " DecisionTreeRegressor(max_features=1.0, random_state=290770691),\n",
       " DecisionTreeRegressor(max_features=1.0, random_state=793943861),\n",
       " DecisionTreeRegressor(max_features=1.0, random_state=134489564)]"
      ]
     },
     "execution_count": 20,
     "metadata": {},
     "output_type": "execute_result"
    }
   ],
   "source": [
    "\n",
    "regr.estimators_"
   ]
  },
  {
   "cell_type": "code",
   "execution_count": 21,
   "id": "8110646a",
   "metadata": {},
   "outputs": [
    {
     "name": "stdout",
     "output_type": "stream",
     "text": [
      "max_depth:  27\n"
     ]
    },
    {
     "data": {
      "image/png": "[encoded data removed]",
      "text/plain": [
       "<Figure size 2160x2160 with 1 Axes>"
      ]
     },
     "metadata": {
      "needs_background": "light"
     },
     "output_type": "display_data"
    }
   ],
   "source": [
    "from sklearn.tree import plot_tree\n",
    "plt.figure(figsize=(30,30))\n",
    "print(\"max_depth: \",regr.estimators_[1].tree_.max_depth)\n",
    "plot_tree(regr.estimators_[1], filled=True, max_depth=3);"
   ]
  },
  {
   "cell_type": "markdown",
   "id": "a711c624",
   "metadata": {},
   "source": [
    "# Evaluation"
   ]
  },
  {
   "cell_type": "code",
   "execution_count": 22,
   "id": "d4d4832c",
   "metadata": {},
   "outputs": [
    {
     "name": "stdout",
     "output_type": "stream",
     "text": [
      "training mse: 0.0007\n",
      "testing mse: 0.0144\n"
     ]
    }
   ],
   "source": [
    "train_mse = mean_squared_error(y_train, regr.predict(X_train))\n",
    "test_mse = mean_squared_error(y_test, y_pred)\n",
    "\n",
    "print(f\"training mse: {train_mse:.4f}\")\n",
    "print(f\"testing mse: {test_mse:.4f}\")"
   ]
  },
  {
   "cell_type": "code",
   "execution_count": null,
   "id": "e05cd46f",
   "metadata": {},
   "outputs": [],
   "source": []
  },
  {
   "cell_type": "code",
   "execution_count": 23,
   "id": "1feaf63b",
   "metadata": {},
   "outputs": [
    {
     "name": "stdout",
     "output_type": "stream",
     "text": [
      "training r-square: 0.9842\n",
      "testing r-square: 0.4797\n"
     ]
    }
   ],
   "source": [
    "train_r2 = r2_score(y_train, regr.predict(X_train))\n",
    "test_r2 = r2_score(y_test, y_pred)\n",
    "\n",
    "print(f\"training r-square: {train_r2:.4f}\")\n",
    "print(f\"testing r-square: {test_r2:.4f}\")"
   ]
  },
  {
   "cell_type": "code",
   "execution_count": null,
   "id": "40054dd6",
   "metadata": {},
   "outputs": [],
   "source": []
  },
  {
   "cell_type": "code",
   "execution_count": 24,
   "id": "2860bcb8",
   "metadata": {},
   "outputs": [
    {
     "name": "stdout",
     "output_type": "stream",
     "text": [
      "training mse: 0.0182\n",
      "testing mse: 0.0901\n"
     ]
    }
   ],
   "source": [
    "train_mae = mean_absolute_error(y_train, regr.predict(X_train))\n",
    "test_mae = mean_absolute_error(y_test, y_pred)\n",
    "\n",
    "print(f\"training mse: {train_mae:.4f}\")\n",
    "print(f\"testing mse: {test_mae:.4f}\")"
   ]
  },
  {
   "cell_type": "code",
   "execution_count": null,
   "id": "0c229ec6",
   "metadata": {},
   "outputs": [],
   "source": []
  },
  {
   "cell_type": "code",
   "execution_count": 25,
   "id": "98e3690f",
   "metadata": {},
   "outputs": [
    {
     "name": "stdout",
     "output_type": "stream",
     "text": [
      "training mse: 0.8341\n",
      "testing mse: 3.0169\n"
     ]
    }
   ],
   "source": [
    "train_mape = mean_absolute_percentage_error(y_train, regr.predict(X_train))\n",
    "test_mape = mean_absolute_percentage_error(y_test, y_pred)\n",
    "\n",
    "print(f\"training mse: {train_mape:.4f}\")\n",
    "print(f\"testing mse: {test_mape:.4f}\")"
   ]
  },
  {
   "cell_type": "code",
   "execution_count": null,
   "id": "c963147e",
   "metadata": {},
   "outputs": [],
   "source": []
  },
  {
   "cell_type": "code",
   "execution_count": 26,
   "id": "a3a0a9d8",
   "metadata": {},
   "outputs": [
    {
     "name": "stdout",
     "output_type": "stream",
     "text": [
      "Best Score:  0.6475258446535909\n",
      "Best Params:  {'bootstrap': True, 'max_depth': 4, 'max_features': 2, 'min_samples_leaf': 10, 'n_estimators': 500}\n",
      "Wall time: 13min 2s\n"
     ]
    }
   ],
   "source": [
    "%%time\n",
    "rf_params = {\n",
    "            'n_estimators': [100, 200, 300, 400, 500],  \n",
    "            'max_depth': np.arange(4, 25, 1),   \n",
    "            'min_samples_leaf': [10,100],  \n",
    "            'bootstrap': [True, False], \n",
    "            'max_features': [1, 2, 3, 4]\n",
    "}\n",
    "# เนื่องจากข้อมูลแบบ time series ไม่สามารถทำ k-fold cross validation แบบปกติได้ \n",
    "# เพราะจำทำให้เกิด data leakage ได้\n",
    "# จึงต้องทำการ split แบบ time series (คือให้ความสำคัญของการมาก่อนและหลังข้อมูล)\n",
    "tscv = TimeSeriesSplit(n_splits = 5)\n",
    "rf_regr = GridSearchCV(RandomForestRegressor(random_state=0), rf_params, cv=tscv, n_jobs=-1)\n",
    "grid_result = rf_regr.fit(X_train, y_train)\n",
    "print('Best Score: ', grid_result.best_score_)\n",
    "print('Best Params: ', grid_result.best_params_)"
   ]
  },
  {
   "cell_type": "code",
   "execution_count": 27,
   "id": "66b6519b",
   "metadata": {},
   "outputs": [
    {
     "data": {
      "text/plain": [
       "Text(0.5, 0, 'feature importance')"
      ]
     },
     "execution_count": 27,
     "metadata": {},
     "output_type": "execute_result"
    },
    {
     "data": {
      "image/png": "[encoded data removed]",
      "text/plain": [
       "<Figure size 432x288 with 1 Axes>"
      ]
     },
     "metadata": {
      "needs_background": "light"
     },
     "output_type": "display_data"
    }
   ],
   "source": [
    "# Feature importance\n",
    "Importance = pd.DataFrame({'feature importance':regr.feature_importances_*100}, index=X_train.columns)\n",
    "Importance.sort_values('feature importance', axis=0, ascending=True).plot(kind='barh', color='r')\n",
    "plt.xlabel('feature importance')"
   ]
  },
  {
   "cell_type": "markdown",
   "id": "8500a97e",
   "metadata": {},
   "source": [
    "## Random Forest with Classification"
   ]
  },
  {
   "cell_type": "code",
   "execution_count": 28,
   "id": "2883a7d4",
   "metadata": {},
   "outputs": [
    {
     "data": {
      "text/html": [
       "<div>\n",
       "<style scoped>\n",
       "    .dataframe tbody tr th:only-of-type {\n",
       "        vertical-align: middle;\n",
       "    }\n",
       "\n",
       "    .dataframe tbody tr th {\n",
       "        vertical-align: top;\n",
       "    }\n",
       "\n",
       "    .dataframe thead th {\n",
       "        text-align: right;\n",
       "    }\n",
       "</style>\n",
       "<table border=\"1\" class=\"dataframe\">\n",
       "  <thead>\n",
       "    <tr style=\"text-align: right;\">\n",
       "      <th></th>\n",
       "      <th>Close</th>\n",
       "      <th>Return_1M_fwd</th>\n",
       "      <th>Return_3M_fwd</th>\n",
       "      <th>Return_6M_fwd</th>\n",
       "      <th>EMA_5</th>\n",
       "      <th>EMA_12</th>\n",
       "      <th>EMA_26</th>\n",
       "      <th>Close-EMA_5</th>\n",
       "      <th>EMA_5-EMA_12</th>\n",
       "      <th>EMA_12-EMA_26</th>\n",
       "    </tr>\n",
       "    <tr>\n",
       "      <th>Date</th>\n",
       "      <th></th>\n",
       "      <th></th>\n",
       "      <th></th>\n",
       "      <th></th>\n",
       "      <th></th>\n",
       "      <th></th>\n",
       "      <th></th>\n",
       "      <th></th>\n",
       "      <th></th>\n",
       "      <th></th>\n",
       "    </tr>\n",
       "  </thead>\n",
       "  <tbody>\n",
       "    <tr>\n",
       "      <th>2015-05-08 00:00:00+00:00</th>\n",
       "      <td>243.863007</td>\n",
       "      <td>Profit</td>\n",
       "      <td>-0.140648</td>\n",
       "      <td>-0.244758</td>\n",
       "      <td>238.046364</td>\n",
       "      <td>235.263827</td>\n",
       "      <td>235.239362</td>\n",
       "      <td>5.816643</td>\n",
       "      <td>2.782537</td>\n",
       "      <td>0.024465</td>\n",
       "    </tr>\n",
       "    <tr>\n",
       "      <th>2015-05-09 00:00:00+00:00</th>\n",
       "      <td>241.832001</td>\n",
       "      <td>Profit</td>\n",
       "      <td>-0.105822</td>\n",
       "      <td>-0.225910</td>\n",
       "      <td>239.308243</td>\n",
       "      <td>236.274315</td>\n",
       "      <td>235.727706</td>\n",
       "      <td>2.523758</td>\n",
       "      <td>3.033928</td>\n",
       "      <td>0.546609</td>\n",
       "    </tr>\n",
       "    <tr>\n",
       "      <th>2015-05-10 00:00:00+00:00</th>\n",
       "      <td>240.296005</td>\n",
       "      <td>Profit</td>\n",
       "      <td>-0.124625</td>\n",
       "      <td>-0.139639</td>\n",
       "      <td>239.637497</td>\n",
       "      <td>236.893037</td>\n",
       "      <td>236.066098</td>\n",
       "      <td>0.658508</td>\n",
       "      <td>2.744460</td>\n",
       "      <td>0.826938</td>\n",
       "    </tr>\n",
       "    <tr>\n",
       "      <th>2015-05-11 00:00:00+00:00</th>\n",
       "      <td>242.158005</td>\n",
       "      <td>Profit</td>\n",
       "      <td>-0.124139</td>\n",
       "      <td>-0.090460</td>\n",
       "      <td>240.477666</td>\n",
       "      <td>237.703032</td>\n",
       "      <td>236.517351</td>\n",
       "      <td>1.680339</td>\n",
       "      <td>2.774634</td>\n",
       "      <td>1.185681</td>\n",
       "    </tr>\n",
       "    <tr>\n",
       "      <th>2015-05-12 00:00:00+00:00</th>\n",
       "      <td>241.112000</td>\n",
       "      <td>Profit</td>\n",
       "      <td>-0.163839</td>\n",
       "      <td>-0.117738</td>\n",
       "      <td>240.689111</td>\n",
       "      <td>238.227488</td>\n",
       "      <td>236.857695</td>\n",
       "      <td>0.422889</td>\n",
       "      <td>2.461622</td>\n",
       "      <td>1.369793</td>\n",
       "    </tr>\n",
       "  </tbody>\n",
       "</table>\n",
       "</div>"
      ],
      "text/plain": [
       "                                Close Return_1M_fwd  Return_3M_fwd  \\\n",
       "Date                                                                 \n",
       "2015-05-08 00:00:00+00:00  243.863007        Profit      -0.140648   \n",
       "2015-05-09 00:00:00+00:00  241.832001        Profit      -0.105822   \n",
       "2015-05-10 00:00:00+00:00  240.296005        Profit      -0.124625   \n",
       "2015-05-11 00:00:00+00:00  242.158005        Profit      -0.124139   \n",
       "2015-05-12 00:00:00+00:00  241.112000        Profit      -0.163839   \n",
       "\n",
       "                           Return_6M_fwd       EMA_5      EMA_12      EMA_26  \\\n",
       "Date                                                                           \n",
       "2015-05-08 00:00:00+00:00      -0.244758  238.046364  235.263827  235.239362   \n",
       "2015-05-09 00:00:00+00:00      -0.225910  239.308243  236.274315  235.727706   \n",
       "2015-05-10 00:00:00+00:00      -0.139639  239.637497  236.893037  236.066098   \n",
       "2015-05-11 00:00:00+00:00      -0.090460  240.477666  237.703032  236.517351   \n",
       "2015-05-12 00:00:00+00:00      -0.117738  240.689111  238.227488  236.857695   \n",
       "\n",
       "                           Close-EMA_5  EMA_5-EMA_12  EMA_12-EMA_26  \n",
       "Date                                                                 \n",
       "2015-05-08 00:00:00+00:00     5.816643      2.782537       0.024465  \n",
       "2015-05-09 00:00:00+00:00     2.523758      3.033928       0.546609  \n",
       "2015-05-10 00:00:00+00:00     0.658508      2.744460       0.826938  \n",
       "2015-05-11 00:00:00+00:00     1.680339      2.774634       1.185681  \n",
       "2015-05-12 00:00:00+00:00     0.422889      2.461622       1.369793  "
      ]
     },
     "execution_count": 28,
     "metadata": {},
     "output_type": "execute_result"
    }
   ],
   "source": [
    "df['Return_1M_fwd'] = np.where(df['Return_1M_fwd']>0, 'Profit', 'Loss')\n",
    "df.head()"
   ]
  },
  {
   "cell_type": "code",
   "execution_count": 29,
   "id": "06942d87",
   "metadata": {},
   "outputs": [],
   "source": [
    "my_features = ['Return_3M_fwd', 'Return_6M_fwd', 'Close-EMA_5', 'EMA_5-EMA_12', 'EMA_12-EMA_26']\n",
    "X = df[my_features]\n",
    "y = df['Return_1M_fwd']"
   ]
  },
  {
   "cell_type": "code",
   "execution_count": 30,
   "id": "35c12843",
   "metadata": {},
   "outputs": [],
   "source": [
    "X_train, X_test, y_train, y_test = train_test_split(X, y, test_size=0.25, random_state=42 ,shuffle=False)"
   ]
  },
  {
   "cell_type": "code",
   "execution_count": null,
   "id": "09693ac0",
   "metadata": {},
   "outputs": [],
   "source": []
  },
  {
   "cell_type": "code",
   "execution_count": 31,
   "id": "318e0c69",
   "metadata": {},
   "outputs": [],
   "source": [
    "clf = RandomForestClassifier(random_state=42)\n",
    "clf.fit(X_train, y_train)\n",
    "y_pred = clf.predict(X_test)"
   ]
  },
  {
   "cell_type": "code",
   "execution_count": 32,
   "id": "024205bb",
   "metadata": {},
   "outputs": [
    {
     "data": {
      "text/plain": [
       "<sklearn.metrics._plot.confusion_matrix.ConfusionMatrixDisplay at 0x1e9394211f0>"
      ]
     },
     "execution_count": 32,
     "metadata": {},
     "output_type": "execute_result"
    },
    {
     "data": {
      "image/png": "[encoded data removed]",
      "text/plain": [
       "<Figure size 432x288 with 2 Axes>"
      ]
     },
     "metadata": {
      "needs_background": "light"
     },
     "output_type": "display_data"
    }
   ],
   "source": [
    "plot_confusion_matrix(clf, X_train, y_train)"
   ]
  },
  {
   "cell_type": "code",
   "execution_count": 33,
   "id": "e169b7b7",
   "metadata": {},
   "outputs": [
    {
     "data": {
      "text/plain": [
       "<sklearn.metrics._plot.confusion_matrix.ConfusionMatrixDisplay at 0x1e9394e6a90>"
      ]
     },
     "execution_count": 33,
     "metadata": {},
     "output_type": "execute_result"
    },
    {
     "data": {
      "image/png": "[encoded data removed]",
      "text/plain": [
       "<Figure size 432x288 with 2 Axes>"
      ]
     },
     "metadata": {
      "needs_background": "light"
     },
     "output_type": "display_data"
    }
   ],
   "source": [
    "plot_confusion_matrix(clf, X_test, y_test)"
   ]
  },
  {
   "cell_type": "code",
   "execution_count": 34,
   "id": "51af52aa",
   "metadata": {},
   "outputs": [
    {
     "data": {
      "text/plain": [
       "0.8546511627906976"
      ]
     },
     "execution_count": 34,
     "metadata": {},
     "output_type": "execute_result"
    }
   ],
   "source": [
    "accuracy_score(y_pred, y_test) "
   ]
  },
  {
   "cell_type": "code",
   "execution_count": 35,
   "id": "652edcb7",
   "metadata": {},
   "outputs": [
    {
     "data": {
      "text/plain": [
       "0.775330396475771"
      ]
     },
     "execution_count": 35,
     "metadata": {},
     "output_type": "execute_result"
    }
   ],
   "source": [
    "precision_score(y_test, y_pred, pos_label='Loss') "
   ]
  },
  {
   "cell_type": "code",
   "execution_count": 36,
   "id": "d4323f2b",
   "metadata": {},
   "outputs": [
    {
     "data": {
      "text/plain": [
       "0.88"
      ]
     },
     "execution_count": 36,
     "metadata": {},
     "output_type": "execute_result"
    }
   ],
   "source": [
    "recall_score(y_test, y_pred, pos_label='Loss') "
   ]
  },
  {
   "cell_type": "code",
   "execution_count": 37,
   "id": "5ac4c327",
   "metadata": {},
   "outputs": [
    {
     "data": {
      "text/plain": [
       "0.8243559718969555"
      ]
     },
     "execution_count": 37,
     "metadata": {},
     "output_type": "execute_result"
    }
   ],
   "source": [
    "f1_score(y_test, y_pred, pos_label='Loss')"
   ]
  },
  {
   "cell_type": "code",
   "execution_count": null,
   "id": "0023848c",
   "metadata": {},
   "outputs": [],
   "source": []
  },
  {
   "cell_type": "code",
   "execution_count": 38,
   "id": "87bae672",
   "metadata": {},
   "outputs": [
    {
     "data": {
      "text/plain": [
       "0.916955017301038"
      ]
     },
     "execution_count": 38,
     "metadata": {},
     "output_type": "execute_result"
    }
   ],
   "source": [
    "precision_score(y_test, y_pred, pos_label='Profit')"
   ]
  },
  {
   "cell_type": "code",
   "execution_count": 39,
   "id": "a6def5f9",
   "metadata": {},
   "outputs": [
    {
     "data": {
      "text/plain": [
       "0.8386075949367089"
      ]
     },
     "execution_count": 39,
     "metadata": {},
     "output_type": "execute_result"
    }
   ],
   "source": [
    "recall_score(y_test, y_pred, pos_label='Profit')"
   ]
  },
  {
   "cell_type": "code",
   "execution_count": 40,
   "id": "69562fbe",
   "metadata": {},
   "outputs": [
    {
     "data": {
      "text/plain": [
       "0.8760330578512395"
      ]
     },
     "execution_count": 40,
     "metadata": {},
     "output_type": "execute_result"
    }
   ],
   "source": [
    "f1_score(y_test, y_pred, pos_label='Profit')"
   ]
  },
  {
   "cell_type": "code",
   "execution_count": 41,
   "id": "6b395d0b",
   "metadata": {},
   "outputs": [
    {
     "name": "stdout",
     "output_type": "stream",
     "text": [
      "Best Score:  0.8806201550387597\n",
      "Best Params:  {'bootstrap': True, 'max_depth': 7, 'max_features': 4, 'min_samples_leaf': 10, 'n_estimators': 500}\n",
      "Wall time: 14min 45s\n"
     ]
    }
   ],
   "source": [
    "%%time\n",
    "rf_params = {\n",
    "            'n_estimators': [100, 200, 300, 400, 500],  \n",
    "            'max_depth': np.arange(4, 25, 1),   \n",
    "            'min_samples_leaf': [10,100],  \n",
    "            'bootstrap': [True, False], \n",
    "            'max_features': [1, 2, 3, 4]\n",
    "}\n",
    "# เนื่องจากข้อมูลแบบ time series ไม่สามารถทำ k-fold cross validation แบบปกติได้ \n",
    "# เพราะจำทำให้เกิด data leakage ได้\n",
    "# จึงต้องทำการ split แบบ time series (คือให้ความสำคัญของการมาก่อนและหลังข้อมูล)\n",
    "tscv = TimeSeriesSplit(n_splits = 5)\n",
    "rf_clf = GridSearchCV(RandomForestClassifier(random_state=0), rf_params, cv=tscv, n_jobs=-1)\n",
    "grid_result = rf_clf.fit(X_train, y_train)\n",
    "print('Best Score: ', grid_result.best_score_)\n",
    "print('Best Params: ', grid_result.best_params_)"
   ]
  },
  {
   "cell_type": "code",
   "execution_count": null,
   "id": "41b0c4cc",
   "metadata": {},
   "outputs": [],
   "source": []
  },
  {
   "cell_type": "code",
   "execution_count": null,
   "id": "522eefe8",
   "metadata": {},
   "outputs": [],
   "source": []
  }
 ],
 "metadata": {
  "kernelspec": {
   "display_name": "Python 3 (ipykernel)",
   "language": "python",
   "name": "python3"
  },
  "language_info": {
   "codemirror_mode": {
    "name": "ipython",
    "version": 3
   },
   "file_extension": ".py",
   "mimetype": "text/x-python",
   "name": "python",
   "nbconvert_exporter": "python",
   "pygments_lexer": "ipython3",
   "version": "3.9.7"
  }
 },
 "nbformat": 4,
 "nbformat_minor": 5
}
